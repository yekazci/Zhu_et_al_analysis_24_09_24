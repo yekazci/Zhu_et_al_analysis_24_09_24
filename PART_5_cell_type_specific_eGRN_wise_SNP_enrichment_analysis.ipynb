{
 "cells": [
  {
   "cell_type": "markdown",
   "id": "de49be3a-a217-4fa2-b67d-b1743f536a0b",
   "metadata": {},
   "source": [
    "In this notebook, I will use the previously generated eGRN models for the highly variable genes\\\n",
    "in the Zhu et al. single cell multiome dataset. Firstly, using differentially accessible regions\\\n",
    "in different cell types, I will extract the cell type specific networks from the global eGRN model.\\\n",
    "Then, I will perform SNP enrichment on these cell type-network-harboured regulatory elements."
   ]
  },
  {
   "cell_type": "code",
   "execution_count": 1,
   "id": "dd13ea13-65f3-44d5-8756-aa0a4a18b201",
   "metadata": {},
   "outputs": [
    {
     "name": "stderr",
     "output_type": "stream",
     "text": [
      "── \u001b[1mAttaching core tidyverse packages\u001b[22m ──────────────────────── tidyverse 2.0.0 ──\n",
      "\u001b[32m✔\u001b[39m \u001b[34mdplyr    \u001b[39m 1.1.4     \u001b[32m✔\u001b[39m \u001b[34mreadr    \u001b[39m 2.1.5\n",
      "\u001b[32m✔\u001b[39m \u001b[34mforcats  \u001b[39m 1.0.0     \u001b[32m✔\u001b[39m \u001b[34mstringr  \u001b[39m 1.5.1\n",
      "\u001b[32m✔\u001b[39m \u001b[34mggplot2  \u001b[39m 3.5.1     \u001b[32m✔\u001b[39m \u001b[34mtibble   \u001b[39m 3.2.1\n",
      "\u001b[32m✔\u001b[39m \u001b[34mlubridate\u001b[39m 1.9.3     \u001b[32m✔\u001b[39m \u001b[34mtidyr    \u001b[39m 1.3.1\n",
      "\u001b[32m✔\u001b[39m \u001b[34mpurrr    \u001b[39m 1.0.2     \n",
      "── \u001b[1mConflicts\u001b[22m ────────────────────────────────────────── tidyverse_conflicts() ──\n",
      "\u001b[31m✖\u001b[39m \u001b[34mdplyr\u001b[39m::\u001b[32mfilter()\u001b[39m masks \u001b[34mstats\u001b[39m::filter()\n",
      "\u001b[31m✖\u001b[39m \u001b[34mdplyr\u001b[39m::\u001b[32mlag()\u001b[39m    masks \u001b[34mstats\u001b[39m::lag()\n",
      "\u001b[36mℹ\u001b[39m Use the conflicted package (\u001b[3m\u001b[34m<http://conflicted.r-lib.org/>\u001b[39m\u001b[23m) to force all conflicts to become errors\n"
     ]
    }
   ],
   "source": [
    "library(tidyverse)"
   ]
  },
  {
   "cell_type": "code",
   "execution_count": 2,
   "id": "37b86bf0-5a36-4ccc-942f-ecba86764025",
   "metadata": {},
   "outputs": [
    {
     "data": {
      "text/html": [
       "'/fast/AG_Bunina/Yusuf/Project_Endothelial_and_Stroke/Datasets/Chromatin_and_Gene_Exp/2023_Zhu_et_al/Zhu_et_al_2023/24_09_24'"
      ],
      "text/latex": [
       "'/fast/AG\\_Bunina/Yusuf/Project\\_Endothelial\\_and\\_Stroke/Datasets/Chromatin\\_and\\_Gene\\_Exp/2023\\_Zhu\\_et\\_al/Zhu\\_et\\_al\\_2023/24\\_09\\_24'"
      ],
      "text/markdown": [
       "'/fast/AG_Bunina/Yusuf/Project_Endothelial_and_Stroke/Datasets/Chromatin_and_Gene_Exp/2023_Zhu_et_al/Zhu_et_al_2023/24_09_24'"
      ],
      "text/plain": [
       "[1] \"/fast/AG_Bunina/Yusuf/Project_Endothelial_and_Stroke/Datasets/Chromatin_and_Gene_Exp/2023_Zhu_et_al/Zhu_et_al_2023/24_09_24\""
      ]
     },
     "metadata": {},
     "output_type": "display_data"
    }
   ],
   "source": [
    "getwd()"
   ]
  },
  {
   "cell_type": "code",
   "execution_count": 3,
   "id": "8361e2ae-be38-477e-a483-3e54f1c2cac5",
   "metadata": {},
   "outputs": [
    {
     "data": {
      "text/html": [
       "'/fast/AG_Bunina/Yusuf/Project_Endothelial_and_Stroke/Datasets/Chromatin_and_Gene_Exp/2023_Zhu_et_al/Zhu_et_al_2023/24_09_24'"
      ],
      "text/latex": [
       "'/fast/AG\\_Bunina/Yusuf/Project\\_Endothelial\\_and\\_Stroke/Datasets/Chromatin\\_and\\_Gene\\_Exp/2023\\_Zhu\\_et\\_al/Zhu\\_et\\_al\\_2023/24\\_09\\_24'"
      ],
      "text/markdown": [
       "'/fast/AG_Bunina/Yusuf/Project_Endothelial_and_Stroke/Datasets/Chromatin_and_Gene_Exp/2023_Zhu_et_al/Zhu_et_al_2023/24_09_24'"
      ],
      "text/plain": [
       "[1] \"/fast/AG_Bunina/Yusuf/Project_Endothelial_and_Stroke/Datasets/Chromatin_and_Gene_Exp/2023_Zhu_et_al/Zhu_et_al_2023/24_09_24\""
      ]
     },
     "metadata": {},
     "output_type": "display_data"
    }
   ],
   "source": [
    "here::here()"
   ]
  },
  {
   "cell_type": "code",
   "execution_count": 4,
   "id": "e61bc116-a53b-438b-a89c-fe515f135045",
   "metadata": {},
   "outputs": [
    {
     "name": "stderr",
     "output_type": "stream",
     "text": [
      "Loading required package: SeuratObject\n",
      "\n",
      "Loading required package: sp\n",
      "\n",
      "\n",
      "Attaching package: ‘SeuratObject’\n",
      "\n",
      "\n",
      "The following objects are masked from ‘package:base’:\n",
      "\n",
      "    intersect, t\n",
      "\n",
      "\n"
     ]
    }
   ],
   "source": [
    "library(Seurat)"
   ]
  },
  {
   "cell_type": "code",
   "execution_count": 5,
   "id": "1c850ccd-9786-4ff3-b3fa-1f62c6493f87",
   "metadata": {},
   "outputs": [],
   "source": [
    "library(Signac)"
   ]
  },
  {
   "cell_type": "code",
   "execution_count": 6,
   "id": "380336e0-c4b2-4ddf-933a-dc05ec438fd4",
   "metadata": {},
   "outputs": [
    {
     "name": "stderr",
     "output_type": "stream",
     "text": [
      "\n",
      "Attaching package: ‘Pando’\n",
      "\n",
      "\n",
      "The following objects are masked from ‘package:Seurat’:\n",
      "\n",
      "    GetAssay, VariableFeatures\n",
      "\n",
      "\n",
      "The following objects are masked from ‘package:SeuratObject’:\n",
      "\n",
      "    LayerData, VariableFeatures\n",
      "\n",
      "\n"
     ]
    }
   ],
   "source": [
    "library(Pando)"
   ]
  },
  {
   "cell_type": "code",
   "execution_count": 12,
   "id": "cabe8a00-c9ec-42fa-ab00-9d0280965c56",
   "metadata": {},
   "outputs": [],
   "source": [
    "Zhu_et_al_Pando_w_eGRNs <- \n",
    "    readRDS(here::here('..', '10_04_24', 'R_Objects', 'Zhu_et_al_Pando_w_eGRNs.RDS'))"
   ]
  },
  {
   "cell_type": "code",
   "execution_count": 13,
   "id": "41323c2f-04aa-4f85-ba64-3409f75b950c",
   "metadata": {},
   "outputs": [
    {
     "data": {
      "text/plain": [
       "An object of class \"GRNData\"\n",
       "Slot \"grn\":\n",
       "A RegulatoryNetwork object based on 1014 transcription factors\n",
       "\n",
       "1 inferred network: glm_network\n",
       "\n",
       "Slot \"data\":\n",
       "An object of class Seurat \n",
       "364381 features across 45549 samples within 3 assays \n",
       "Active assay: SCT (30146 features, 3000 variable features)\n",
       " 3 layers present: counts, data, scale.data\n",
       " 2 other assays present: RNA, peaks\n",
       " 7 dimensional reductions calculated: pca, umap.rna, lsi, umap.atac, wnn.umap, pca.harmony, lsi.harmony\n"
      ]
     },
     "metadata": {},
     "output_type": "display_data"
    }
   ],
   "source": [
    "Zhu_et_al_Pando_w_eGRNs"
   ]
  },
  {
   "cell_type": "code",
   "execution_count": 18,
   "id": "a451071c-6d31-41e2-9618-8ad7b36098a0",
   "metadata": {},
   "outputs": [],
   "source": [
    "da_peaks_all <- \n",
    "    readRDS(here::here('..', '10_04_24', 'R_Objects', 'da_peaks_all_logfc_cutoff_0_1_minPCT_0_01.RDS'))"
   ]
  },
  {
   "cell_type": "code",
   "execution_count": 19,
   "id": "0731da6d-0959-485c-971d-8a3c9a472e85",
   "metadata": {},
   "outputs": [
    {
     "data": {
      "text/html": [
       "<style>\n",
       ".list-inline {list-style: none; margin:0; padding: 0}\n",
       ".list-inline>li {display: inline-block}\n",
       ".list-inline>li:not(:last-child)::after {content: \"\\00b7\"; padding: 0 .5ex}\n",
       "</style>\n",
       "<ol class=list-inline><li>482945</li><li>8</li></ol>\n"
      ],
      "text/latex": [
       "\\begin{enumerate*}\n",
       "\\item 482945\n",
       "\\item 8\n",
       "\\end{enumerate*}\n"
      ],
      "text/markdown": [
       "1. 482945\n",
       "2. 8\n",
       "\n",
       "\n"
      ],
      "text/plain": [
       "[1] 482945      8"
      ]
     },
     "metadata": {},
     "output_type": "display_data"
    }
   ],
   "source": [
    "da_peaks_all %>% dim"
   ]
  },
  {
   "cell_type": "code",
   "execution_count": 20,
   "id": "1538b2c5-3055-4adb-b3ad-dea997c508e3",
   "metadata": {},
   "outputs": [
    {
     "data": {
      "text/plain": [
       "     p_val             avg_log2FC         pct.1             pct.2        \n",
       " Min.   :0.000e+00   Min.   :0.1000   Min.   :0.00900   Min.   :0.00000  \n",
       " 1st Qu.:0.000e+00   1st Qu.:0.7935   1st Qu.:0.01600   1st Qu.:0.00500  \n",
       " Median :0.000e+00   Median :1.3790   Median :0.02700   Median :0.00900  \n",
       " Mean   :3.841e-04   Mean   :1.5323   Mean   :0.05023   Mean   :0.02488  \n",
       " 3rd Qu.:9.440e-07   3rd Qu.:2.1392   3rd Qu.:0.05400   3rd Qu.:0.02000  \n",
       " Max.   :1.000e-02   Max.   :5.9867   Max.   :0.68600   Max.   :0.56800  \n",
       "                                                                         \n",
       "   p_val_adj                                                cluster     \n",
       " Min.   :0.0000   glutamatergic neuron                          :76877  \n",
       " 1st Qu.:0.0000   astrocyte                                     :76070  \n",
       " Median :0.0000   caudal ganglionic eminence derived interneuron:69502  \n",
       " Mean   :0.2450   medial ganglionic eminence derived interneuron:67280  \n",
       " 3rd Qu.:0.2871   oligodendrocyte precursor cell                :54513  \n",
       " Max.   :1.0000   microglial cell                               :44274  \n",
       "                  (Other)                                       :94429  \n",
       "     gene              pct_diff       \n",
       " Length:482945      Min.   :-0.10700  \n",
       " Class :character   1st Qu.: 0.00900  \n",
       " Mode  :character   Median : 0.01600  \n",
       "                    Mean   : 0.02535  \n",
       "                    3rd Qu.: 0.03100  \n",
       "                    Max.   : 0.41500  \n",
       "                                      "
      ]
     },
     "metadata": {},
     "output_type": "display_data"
    }
   ],
   "source": [
    "da_peaks_all %>% summary"
   ]
  },
  {
   "cell_type": "code",
   "execution_count": 26,
   "id": "c231325f-abb8-4cf4-82cf-7e8a9e18ba93",
   "metadata": {},
   "outputs": [
    {
     "data": {
      "text/html": [
       "<style>\n",
       ".list-inline {list-style: none; margin:0; padding: 0}\n",
       ".list-inline>li {display: inline-block}\n",
       ".list-inline>li:not(:last-child)::after {content: \"\\00b7\"; padding: 0 .5ex}\n",
       "</style>\n",
       "<ol class=list-inline><li>348145</li><li>8</li></ol>\n"
      ],
      "text/latex": [
       "\\begin{enumerate*}\n",
       "\\item 348145\n",
       "\\item 8\n",
       "\\end{enumerate*}\n"
      ],
      "text/markdown": [
       "1. 348145\n",
       "2. 8\n",
       "\n",
       "\n"
      ],
      "text/plain": [
       "[1] 348145      8"
      ]
     },
     "metadata": {},
     "output_type": "display_data"
    }
   ],
   "source": [
    "da_peaks_all %>% \n",
    "filter(p_val_adj < 0.05) %>% \n",
    "dim"
   ]
  },
  {
   "cell_type": "code",
   "execution_count": 27,
   "id": "27868890-08b9-4739-a369-c45dbd4b16ca",
   "metadata": {},
   "outputs": [
    {
     "data": {
      "text/plain": [
       "   Min. 1st Qu.  Median    Mean 3rd Qu.    Max. \n",
       " 0.1000  0.7935  1.3790  1.5323  2.1392  5.9867 "
      ]
     },
     "metadata": {},
     "output_type": "display_data"
    }
   ],
   "source": [
    "da_peaks_all %>% .$avg_log2FC %>% summary"
   ]
  },
  {
   "cell_type": "code",
   "execution_count": 28,
   "id": "7d4b790b-a9d4-4cc5-9e25-7495bf0c9cf9",
   "metadata": {},
   "outputs": [
    {
     "data": {
      "text/html": [
       "<table class=\"dataframe\">\n",
       "<caption>A data.frame: 13 × 2</caption>\n",
       "<thead>\n",
       "\t<tr><th scope=col>cluster</th><th scope=col>n</th></tr>\n",
       "\t<tr><th scope=col>&lt;fct&gt;</th><th scope=col>&lt;int&gt;</th></tr>\n",
       "</thead>\n",
       "<tbody>\n",
       "\t<tr><td>endothelial cell                              </td><td>  919</td></tr>\n",
       "\t<tr><td>astrocyte                                     </td><td>66003</td></tr>\n",
       "\t<tr><td>oligodendrocyte                               </td><td>20477</td></tr>\n",
       "\t<tr><td>microglial cell                               </td><td>38424</td></tr>\n",
       "\t<tr><td>vascular associated smooth muscle cell        </td><td> 6399</td></tr>\n",
       "\t<tr><td>inhibitory interneuron                        </td><td>10183</td></tr>\n",
       "\t<tr><td>pericyte                                      </td><td> 6641</td></tr>\n",
       "\t<tr><td>glutamatergic neuron                          </td><td>67860</td></tr>\n",
       "\t<tr><td>radial glial cell                             </td><td> 5685</td></tr>\n",
       "\t<tr><td>oligodendrocyte precursor cell                </td><td>42509</td></tr>\n",
       "\t<tr><td>neural progenitor cell                        </td><td> 5881</td></tr>\n",
       "\t<tr><td>medial ganglionic eminence derived interneuron</td><td>41459</td></tr>\n",
       "\t<tr><td>caudal ganglionic eminence derived interneuron</td><td>35705</td></tr>\n",
       "</tbody>\n",
       "</table>\n"
      ],
      "text/latex": [
       "A data.frame: 13 × 2\n",
       "\\begin{tabular}{ll}\n",
       " cluster & n\\\\\n",
       " <fct> & <int>\\\\\n",
       "\\hline\n",
       "\t endothelial cell                               &   919\\\\\n",
       "\t astrocyte                                      & 66003\\\\\n",
       "\t oligodendrocyte                                & 20477\\\\\n",
       "\t microglial cell                                & 38424\\\\\n",
       "\t vascular associated smooth muscle cell         &  6399\\\\\n",
       "\t inhibitory interneuron                         & 10183\\\\\n",
       "\t pericyte                                       &  6641\\\\\n",
       "\t glutamatergic neuron                           & 67860\\\\\n",
       "\t radial glial cell                              &  5685\\\\\n",
       "\t oligodendrocyte precursor cell                 & 42509\\\\\n",
       "\t neural progenitor cell                         &  5881\\\\\n",
       "\t medial ganglionic eminence derived interneuron & 41459\\\\\n",
       "\t caudal ganglionic eminence derived interneuron & 35705\\\\\n",
       "\\end{tabular}\n"
      ],
      "text/markdown": [
       "\n",
       "A data.frame: 13 × 2\n",
       "\n",
       "| cluster &lt;fct&gt; | n &lt;int&gt; |\n",
       "|---|---|\n",
       "| endothelial cell                               |   919 |\n",
       "| astrocyte                                      | 66003 |\n",
       "| oligodendrocyte                                | 20477 |\n",
       "| microglial cell                                | 38424 |\n",
       "| vascular associated smooth muscle cell         |  6399 |\n",
       "| inhibitory interneuron                         | 10183 |\n",
       "| pericyte                                       |  6641 |\n",
       "| glutamatergic neuron                           | 67860 |\n",
       "| radial glial cell                              |  5685 |\n",
       "| oligodendrocyte precursor cell                 | 42509 |\n",
       "| neural progenitor cell                         |  5881 |\n",
       "| medial ganglionic eminence derived interneuron | 41459 |\n",
       "| caudal ganglionic eminence derived interneuron | 35705 |\n",
       "\n"
      ],
      "text/plain": [
       "   cluster                                        n    \n",
       "1  endothelial cell                                 919\n",
       "2  astrocyte                                      66003\n",
       "3  oligodendrocyte                                20477\n",
       "4  microglial cell                                38424\n",
       "5  vascular associated smooth muscle cell          6399\n",
       "6  inhibitory interneuron                         10183\n",
       "7  pericyte                                        6641\n",
       "8  glutamatergic neuron                           67860\n",
       "9  radial glial cell                               5685\n",
       "10 oligodendrocyte precursor cell                 42509\n",
       "11 neural progenitor cell                          5881\n",
       "12 medial ganglionic eminence derived interneuron 41459\n",
       "13 caudal ganglionic eminence derived interneuron 35705"
      ]
     },
     "metadata": {},
     "output_type": "display_data"
    }
   ],
   "source": [
    "da_peaks_all %>% \n",
    "filter(p_val_adj < 0.05) %>% \n",
    "count(cluster)"
   ]
  },
  {
   "cell_type": "code",
   "execution_count": 30,
   "id": "e742581d-f472-4155-af41-1d5b01ff2475",
   "metadata": {},
   "outputs": [],
   "source": [
    "microglial_cells_DA_regions <- \n",
    "    da_peaks_all %>% \n",
    "    filter(p_val_adj < 0.05) %>% \n",
    "    filter(cluster %in% c('microglial cell'))"
   ]
  },
  {
   "cell_type": "code",
   "execution_count": 31,
   "id": "3dfab307-0854-442b-9226-365a7a28a500",
   "metadata": {},
   "outputs": [
    {
     "data": {
      "text/html": [
       "<style>\n",
       ".list-inline {list-style: none; margin:0; padding: 0}\n",
       ".list-inline>li {display: inline-block}\n",
       ".list-inline>li:not(:last-child)::after {content: \"\\00b7\"; padding: 0 .5ex}\n",
       "</style>\n",
       "<ol class=list-inline><li>38424</li><li>8</li></ol>\n"
      ],
      "text/latex": [
       "\\begin{enumerate*}\n",
       "\\item 38424\n",
       "\\item 8\n",
       "\\end{enumerate*}\n"
      ],
      "text/markdown": [
       "1. 38424\n",
       "2. 8\n",
       "\n",
       "\n"
      ],
      "text/plain": [
       "[1] 38424     8"
      ]
     },
     "metadata": {},
     "output_type": "display_data"
    }
   ],
   "source": [
    "microglial_cells_DA_regions %>% dim"
   ]
  },
  {
   "cell_type": "code",
   "execution_count": 32,
   "id": "9b4ea517-5129-4083-a475-771fe64daf74",
   "metadata": {},
   "outputs": [],
   "source": [
    "glutamatergic_neuron_DA_regions <- \n",
    "    da_peaks_all %>% \n",
    "    filter(p_val_adj < 0.05) %>% \n",
    "    filter(cluster %in% c('glutamatergic neuron'))"
   ]
  },
  {
   "cell_type": "code",
   "execution_count": 33,
   "id": "d1308ce4-eb86-4e28-b45d-bfd962cb833c",
   "metadata": {},
   "outputs": [
    {
     "data": {
      "text/html": [
       "<style>\n",
       ".list-inline {list-style: none; margin:0; padding: 0}\n",
       ".list-inline>li {display: inline-block}\n",
       ".list-inline>li:not(:last-child)::after {content: \"\\00b7\"; padding: 0 .5ex}\n",
       "</style>\n",
       "<ol class=list-inline><li>67860</li><li>8</li></ol>\n"
      ],
      "text/latex": [
       "\\begin{enumerate*}\n",
       "\\item 67860\n",
       "\\item 8\n",
       "\\end{enumerate*}\n"
      ],
      "text/markdown": [
       "1. 67860\n",
       "2. 8\n",
       "\n",
       "\n"
      ],
      "text/plain": [
       "[1] 67860     8"
      ]
     },
     "metadata": {},
     "output_type": "display_data"
    }
   ],
   "source": [
    "glutamatergic_neuron_DA_regions %>% dim"
   ]
  },
  {
   "cell_type": "code",
   "execution_count": 34,
   "id": "0b973cf4-5821-4343-ad16-26c162cdf883",
   "metadata": {},
   "outputs": [],
   "source": [
    "astrocytes_DA_regions <- \n",
    "    da_peaks_all %>% \n",
    "    filter(p_val_adj < 0.05) %>% \n",
    "    filter(cluster %in% c('astrocyte'))"
   ]
  },
  {
   "cell_type": "code",
   "execution_count": 35,
   "id": "ca0e9ef0-9d54-49ef-995b-1aab65083c05",
   "metadata": {},
   "outputs": [
    {
     "data": {
      "text/html": [
       "<style>\n",
       ".list-inline {list-style: none; margin:0; padding: 0}\n",
       ".list-inline>li {display: inline-block}\n",
       ".list-inline>li:not(:last-child)::after {content: \"\\00b7\"; padding: 0 .5ex}\n",
       "</style>\n",
       "<ol class=list-inline><li>66003</li><li>8</li></ol>\n"
      ],
      "text/latex": [
       "\\begin{enumerate*}\n",
       "\\item 66003\n",
       "\\item 8\n",
       "\\end{enumerate*}\n"
      ],
      "text/markdown": [
       "1. 66003\n",
       "2. 8\n",
       "\n",
       "\n"
      ],
      "text/plain": [
       "[1] 66003     8"
      ]
     },
     "metadata": {},
     "output_type": "display_data"
    }
   ],
   "source": [
    "astrocytes_DA_regions %>% dim"
   ]
  },
  {
   "cell_type": "code",
   "execution_count": 36,
   "id": "19ac2dbc-c31b-4f4f-ac35-2d9449ac3f7b",
   "metadata": {},
   "outputs": [],
   "source": [
    "oligodendrocyte_DA_regions <- \n",
    "    da_peaks_all %>% \n",
    "    filter(p_val_adj < 0.05) %>% \n",
    "    filter(cluster %in% c('oligodendrocyte'))"
   ]
  },
  {
   "cell_type": "code",
   "execution_count": 37,
   "id": "fa1e8798-4b7b-44f5-b8ef-7c593c914cb3",
   "metadata": {},
   "outputs": [
    {
     "data": {
      "text/html": [
       "<style>\n",
       ".list-inline {list-style: none; margin:0; padding: 0}\n",
       ".list-inline>li {display: inline-block}\n",
       ".list-inline>li:not(:last-child)::after {content: \"\\00b7\"; padding: 0 .5ex}\n",
       "</style>\n",
       "<ol class=list-inline><li>20477</li><li>8</li></ol>\n"
      ],
      "text/latex": [
       "\\begin{enumerate*}\n",
       "\\item 20477\n",
       "\\item 8\n",
       "\\end{enumerate*}\n"
      ],
      "text/markdown": [
       "1. 20477\n",
       "2. 8\n",
       "\n",
       "\n"
      ],
      "text/plain": [
       "[1] 20477     8"
      ]
     },
     "metadata": {},
     "output_type": "display_data"
    }
   ],
   "source": [
    "oligodendrocyte_DA_regions %>% dim"
   ]
  },
  {
   "cell_type": "code",
   "execution_count": 47,
   "id": "8ac6e497-f5fd-43c9-a87f-bbf0b699ff23",
   "metadata": {},
   "outputs": [],
   "source": [
    "microglial_cells_eGRNs <- Zhu_et_al_Pando_w_eGRNs"
   ]
  },
  {
   "cell_type": "code",
   "execution_count": 48,
   "id": "e0a8d893-d5bf-4e4c-8213-1435cf7aedd4",
   "metadata": {},
   "outputs": [
    {
     "data": {
      "text/html": [
       "<table class=\"dataframe\">\n",
       "<caption>A data.frame: 6 × 8</caption>\n",
       "<thead>\n",
       "\t<tr><th></th><th scope=col>p_val</th><th scope=col>avg_log2FC</th><th scope=col>pct.1</th><th scope=col>pct.2</th><th scope=col>p_val_adj</th><th scope=col>cluster</th><th scope=col>gene</th><th scope=col>pct_diff</th></tr>\n",
       "\t<tr><th></th><th scope=col>&lt;dbl&gt;</th><th scope=col>&lt;dbl&gt;</th><th scope=col>&lt;dbl&gt;</th><th scope=col>&lt;dbl&gt;</th><th scope=col>&lt;dbl&gt;</th><th scope=col>&lt;fct&gt;</th><th scope=col>&lt;chr&gt;</th><th scope=col>&lt;dbl&gt;</th></tr>\n",
       "</thead>\n",
       "<tbody>\n",
       "\t<tr><th scope=row>chr1-26541541-265431601</th><td>0</td><td>4.144248</td><td>0.361</td><td>0.027</td><td>0</td><td>microglial cell</td><td>chr1-26541541-26543160   </td><td>0.334</td></tr>\n",
       "\t<tr><th scope=row>chr9-62798866-62802754</th><td>0</td><td>1.623945</td><td>0.511</td><td>0.214</td><td>0</td><td>microglial cell</td><td>chr9-62798866-62802754   </td><td>0.297</td></tr>\n",
       "\t<tr><th scope=row>chr5-179791833-179794163</th><td>0</td><td>2.909141</td><td>0.347</td><td>0.060</td><td>0</td><td>microglial cell</td><td>chr5-179791833-179794163 </td><td>0.287</td></tr>\n",
       "\t<tr><th scope=row>chr10-119542064-1195444691</th><td>0</td><td>3.101624</td><td>0.323</td><td>0.051</td><td>0</td><td>microglial cell</td><td>chr10-119542064-119544469</td><td>0.272</td></tr>\n",
       "\t<tr><th scope=row>chr17-82230608-82232186</th><td>0</td><td>2.784015</td><td>0.334</td><td>0.062</td><td>0</td><td>microglial cell</td><td>chr17-82230608-82232186  </td><td>0.272</td></tr>\n",
       "\t<tr><th scope=row>chr21-34888473-34890399</th><td>0</td><td>2.367236</td><td>0.351</td><td>0.085</td><td>0</td><td>microglial cell</td><td>chr21-34888473-34890399  </td><td>0.266</td></tr>\n",
       "</tbody>\n",
       "</table>\n"
      ],
      "text/latex": [
       "A data.frame: 6 × 8\n",
       "\\begin{tabular}{r|llllllll}\n",
       "  & p\\_val & avg\\_log2FC & pct.1 & pct.2 & p\\_val\\_adj & cluster & gene & pct\\_diff\\\\\n",
       "  & <dbl> & <dbl> & <dbl> & <dbl> & <dbl> & <fct> & <chr> & <dbl>\\\\\n",
       "\\hline\n",
       "\tchr1-26541541-265431601 & 0 & 4.144248 & 0.361 & 0.027 & 0 & microglial cell & chr1-26541541-26543160    & 0.334\\\\\n",
       "\tchr9-62798866-62802754 & 0 & 1.623945 & 0.511 & 0.214 & 0 & microglial cell & chr9-62798866-62802754    & 0.297\\\\\n",
       "\tchr5-179791833-179794163 & 0 & 2.909141 & 0.347 & 0.060 & 0 & microglial cell & chr5-179791833-179794163  & 0.287\\\\\n",
       "\tchr10-119542064-1195444691 & 0 & 3.101624 & 0.323 & 0.051 & 0 & microglial cell & chr10-119542064-119544469 & 0.272\\\\\n",
       "\tchr17-82230608-82232186 & 0 & 2.784015 & 0.334 & 0.062 & 0 & microglial cell & chr17-82230608-82232186   & 0.272\\\\\n",
       "\tchr21-34888473-34890399 & 0 & 2.367236 & 0.351 & 0.085 & 0 & microglial cell & chr21-34888473-34890399   & 0.266\\\\\n",
       "\\end{tabular}\n"
      ],
      "text/markdown": [
       "\n",
       "A data.frame: 6 × 8\n",
       "\n",
       "| <!--/--> | p_val &lt;dbl&gt; | avg_log2FC &lt;dbl&gt; | pct.1 &lt;dbl&gt; | pct.2 &lt;dbl&gt; | p_val_adj &lt;dbl&gt; | cluster &lt;fct&gt; | gene &lt;chr&gt; | pct_diff &lt;dbl&gt; |\n",
       "|---|---|---|---|---|---|---|---|---|\n",
       "| chr1-26541541-265431601 | 0 | 4.144248 | 0.361 | 0.027 | 0 | microglial cell | chr1-26541541-26543160    | 0.334 |\n",
       "| chr9-62798866-62802754 | 0 | 1.623945 | 0.511 | 0.214 | 0 | microglial cell | chr9-62798866-62802754    | 0.297 |\n",
       "| chr5-179791833-179794163 | 0 | 2.909141 | 0.347 | 0.060 | 0 | microglial cell | chr5-179791833-179794163  | 0.287 |\n",
       "| chr10-119542064-1195444691 | 0 | 3.101624 | 0.323 | 0.051 | 0 | microglial cell | chr10-119542064-119544469 | 0.272 |\n",
       "| chr17-82230608-82232186 | 0 | 2.784015 | 0.334 | 0.062 | 0 | microglial cell | chr17-82230608-82232186   | 0.272 |\n",
       "| chr21-34888473-34890399 | 0 | 2.367236 | 0.351 | 0.085 | 0 | microglial cell | chr21-34888473-34890399   | 0.266 |\n",
       "\n"
      ],
      "text/plain": [
       "                           p_val avg_log2FC pct.1 pct.2 p_val_adj\n",
       "chr1-26541541-265431601    0     4.144248   0.361 0.027 0        \n",
       "chr9-62798866-62802754     0     1.623945   0.511 0.214 0        \n",
       "chr5-179791833-179794163   0     2.909141   0.347 0.060 0        \n",
       "chr10-119542064-1195444691 0     3.101624   0.323 0.051 0        \n",
       "chr17-82230608-82232186    0     2.784015   0.334 0.062 0        \n",
       "chr21-34888473-34890399    0     2.367236   0.351 0.085 0        \n",
       "                           cluster         gene                      pct_diff\n",
       "chr1-26541541-265431601    microglial cell chr1-26541541-26543160    0.334   \n",
       "chr9-62798866-62802754     microglial cell chr9-62798866-62802754    0.297   \n",
       "chr5-179791833-179794163   microglial cell chr5-179791833-179794163  0.287   \n",
       "chr10-119542064-1195444691 microglial cell chr10-119542064-119544469 0.272   \n",
       "chr17-82230608-82232186    microglial cell chr17-82230608-82232186   0.272   \n",
       "chr21-34888473-34890399    microglial cell chr21-34888473-34890399   0.266   "
      ]
     },
     "metadata": {},
     "output_type": "display_data"
    }
   ],
   "source": [
    "microglial_cells_DA_regions %>% head"
   ]
  },
  {
   "cell_type": "code",
   "execution_count": 50,
   "id": "3407656e-063f-4032-b0de-a6cbf2cffbf8",
   "metadata": {},
   "outputs": [
    {
     "data": {
      "text/plain": [
       ".\n",
       "FALSE \n",
       "38424 "
      ]
     },
     "metadata": {},
     "output_type": "display_data"
    }
   ],
   "source": [
    "microglial_cells_DA_regions %>% rownames %>% duplicated %>% table"
   ]
  },
  {
   "cell_type": "code",
   "execution_count": 51,
   "id": "c9b9737d-4ca7-4bfe-bd0d-439237c2d10a",
   "metadata": {},
   "outputs": [],
   "source": [
    "microglial_cells_eGRNs@grn@networks$glm_network@coefs <- \n",
    "                microglial_cells_eGRNs@grn@networks$glm_network@coefs %>% \n",
    "                            filter(region %in% rownames(microglial_cells_DA_regions))"
   ]
  },
  {
   "cell_type": "code",
   "execution_count": 52,
   "id": "c47b63a4-e21c-4d4f-bd0c-e036c03b6358",
   "metadata": {},
   "outputs": [
    {
     "data": {
      "text/html": [
       "<style>\n",
       ".list-inline {list-style: none; margin:0; padding: 0}\n",
       ".list-inline>li {display: inline-block}\n",
       ".list-inline>li:not(:last-child)::after {content: \"\\00b7\"; padding: 0 .5ex}\n",
       "</style>\n",
       "<ol class=list-inline><li>3682</li><li>10</li></ol>\n"
      ],
      "text/latex": [
       "\\begin{enumerate*}\n",
       "\\item 3682\n",
       "\\item 10\n",
       "\\end{enumerate*}\n"
      ],
      "text/markdown": [
       "1. 3682\n",
       "2. 10\n",
       "\n",
       "\n"
      ],
      "text/plain": [
       "[1] 3682   10"
      ]
     },
     "metadata": {},
     "output_type": "display_data"
    }
   ],
   "source": [
    "microglial_cells_eGRNs %>% coef %>% dim"
   ]
  },
  {
   "cell_type": "code",
   "execution_count": 53,
   "id": "cf9536a2-f253-470c-a111-d8ca1c886d66",
   "metadata": {},
   "outputs": [
    {
     "data": {
      "text/html": [
       "<table class=\"dataframe\">\n",
       "<caption>A tibble: 6 × 10</caption>\n",
       "<thead>\n",
       "\t<tr><th scope=col>tf</th><th scope=col>target</th><th scope=col>region</th><th scope=col>term</th><th scope=col>estimate</th><th scope=col>std_err</th><th scope=col>statistic</th><th scope=col>pval</th><th scope=col>padj</th><th scope=col>corr</th></tr>\n",
       "\t<tr><th scope=col>&lt;chr&gt;</th><th scope=col>&lt;chr&gt;</th><th scope=col>&lt;chr&gt;</th><th scope=col>&lt;chr&gt;</th><th scope=col>&lt;dbl&gt;</th><th scope=col>&lt;dbl&gt;</th><th scope=col>&lt;dbl&gt;</th><th scope=col>&lt;dbl&gt;</th><th scope=col>&lt;dbl&gt;</th><th scope=col>&lt;dbl&gt;</th></tr>\n",
       "</thead>\n",
       "<tbody>\n",
       "\t<tr><td>ZFPM2 </td><td>TMSB4X</td><td>chrX-12894122-12894337</td><td>ZFPM2:chrX_12894122_12894337 </td><td> 0.005019486</td><td>0.009711519</td><td> 0.5168590</td><td>0.60525713</td><td>0.8304228</td><td>-0.1484440</td></tr>\n",
       "\t<tr><td>ZNF618</td><td>TMSB4X</td><td>chrX-12894122-12894337</td><td>ZNF618:chrX_12894122_12894337</td><td> 0.025768830</td><td>0.018832401</td><td> 1.3683242</td><td>0.17121745</td><td>0.4425753</td><td> 0.1004045</td></tr>\n",
       "\t<tr><td>ZNF521</td><td>TMSB4X</td><td>chrX-12894122-12894337</td><td>ZNF521:chrX_12894122_12894337</td><td>-0.028026360</td><td>0.020666086</td><td>-1.3561523</td><td>0.17505751</td><td>0.4481728</td><td>-0.1130517</td></tr>\n",
       "\t<tr><td>BCL11A</td><td>TMSB4X</td><td>chrX-12896965-12897213</td><td>BCL11A:chrX_12896965_12897213</td><td> 0.037299935</td><td>0.017931959</td><td> 2.0800814</td><td>0.03752371</td><td>0.1670923</td><td> 0.1835136</td></tr>\n",
       "\t<tr><td>EOMES </td><td>TMSB4X</td><td>chrX-12896965-12897213</td><td>EOMES:chrX_12896965_12897213 </td><td>-0.018887089</td><td>0.056262556</td><td>-0.3356955</td><td>0.73710203</td><td>0.8980980</td><td> 0.1137810</td></tr>\n",
       "\t<tr><td>ZFPM2 </td><td>TMSB4X</td><td>chrX-12896965-12897213</td><td>ZFPM2:chrX_12896965_12897213 </td><td>-0.015070122</td><td>0.013339719</td><td>-1.1297181</td><td>0.25860106</td><td>0.5556070</td><td>-0.1484440</td></tr>\n",
       "</tbody>\n",
       "</table>\n"
      ],
      "text/latex": [
       "A tibble: 6 × 10\n",
       "\\begin{tabular}{llllllllll}\n",
       " tf & target & region & term & estimate & std\\_err & statistic & pval & padj & corr\\\\\n",
       " <chr> & <chr> & <chr> & <chr> & <dbl> & <dbl> & <dbl> & <dbl> & <dbl> & <dbl>\\\\\n",
       "\\hline\n",
       "\t ZFPM2  & TMSB4X & chrX-12894122-12894337 & ZFPM2:chrX\\_12894122\\_12894337  &  0.005019486 & 0.009711519 &  0.5168590 & 0.60525713 & 0.8304228 & -0.1484440\\\\\n",
       "\t ZNF618 & TMSB4X & chrX-12894122-12894337 & ZNF618:chrX\\_12894122\\_12894337 &  0.025768830 & 0.018832401 &  1.3683242 & 0.17121745 & 0.4425753 &  0.1004045\\\\\n",
       "\t ZNF521 & TMSB4X & chrX-12894122-12894337 & ZNF521:chrX\\_12894122\\_12894337 & -0.028026360 & 0.020666086 & -1.3561523 & 0.17505751 & 0.4481728 & -0.1130517\\\\\n",
       "\t BCL11A & TMSB4X & chrX-12896965-12897213 & BCL11A:chrX\\_12896965\\_12897213 &  0.037299935 & 0.017931959 &  2.0800814 & 0.03752371 & 0.1670923 &  0.1835136\\\\\n",
       "\t EOMES  & TMSB4X & chrX-12896965-12897213 & EOMES:chrX\\_12896965\\_12897213  & -0.018887089 & 0.056262556 & -0.3356955 & 0.73710203 & 0.8980980 &  0.1137810\\\\\n",
       "\t ZFPM2  & TMSB4X & chrX-12896965-12897213 & ZFPM2:chrX\\_12896965\\_12897213  & -0.015070122 & 0.013339719 & -1.1297181 & 0.25860106 & 0.5556070 & -0.1484440\\\\\n",
       "\\end{tabular}\n"
      ],
      "text/markdown": [
       "\n",
       "A tibble: 6 × 10\n",
       "\n",
       "| tf &lt;chr&gt; | target &lt;chr&gt; | region &lt;chr&gt; | term &lt;chr&gt; | estimate &lt;dbl&gt; | std_err &lt;dbl&gt; | statistic &lt;dbl&gt; | pval &lt;dbl&gt; | padj &lt;dbl&gt; | corr &lt;dbl&gt; |\n",
       "|---|---|---|---|---|---|---|---|---|---|\n",
       "| ZFPM2  | TMSB4X | chrX-12894122-12894337 | ZFPM2:chrX_12894122_12894337  |  0.005019486 | 0.009711519 |  0.5168590 | 0.60525713 | 0.8304228 | -0.1484440 |\n",
       "| ZNF618 | TMSB4X | chrX-12894122-12894337 | ZNF618:chrX_12894122_12894337 |  0.025768830 | 0.018832401 |  1.3683242 | 0.17121745 | 0.4425753 |  0.1004045 |\n",
       "| ZNF521 | TMSB4X | chrX-12894122-12894337 | ZNF521:chrX_12894122_12894337 | -0.028026360 | 0.020666086 | -1.3561523 | 0.17505751 | 0.4481728 | -0.1130517 |\n",
       "| BCL11A | TMSB4X | chrX-12896965-12897213 | BCL11A:chrX_12896965_12897213 |  0.037299935 | 0.017931959 |  2.0800814 | 0.03752371 | 0.1670923 |  0.1835136 |\n",
       "| EOMES  | TMSB4X | chrX-12896965-12897213 | EOMES:chrX_12896965_12897213  | -0.018887089 | 0.056262556 | -0.3356955 | 0.73710203 | 0.8980980 |  0.1137810 |\n",
       "| ZFPM2  | TMSB4X | chrX-12896965-12897213 | ZFPM2:chrX_12896965_12897213  | -0.015070122 | 0.013339719 | -1.1297181 | 0.25860106 | 0.5556070 | -0.1484440 |\n",
       "\n"
      ],
      "text/plain": [
       "  tf     target region                 term                         \n",
       "1 ZFPM2  TMSB4X chrX-12894122-12894337 ZFPM2:chrX_12894122_12894337 \n",
       "2 ZNF618 TMSB4X chrX-12894122-12894337 ZNF618:chrX_12894122_12894337\n",
       "3 ZNF521 TMSB4X chrX-12894122-12894337 ZNF521:chrX_12894122_12894337\n",
       "4 BCL11A TMSB4X chrX-12896965-12897213 BCL11A:chrX_12896965_12897213\n",
       "5 EOMES  TMSB4X chrX-12896965-12897213 EOMES:chrX_12896965_12897213 \n",
       "6 ZFPM2  TMSB4X chrX-12896965-12897213 ZFPM2:chrX_12896965_12897213 \n",
       "  estimate     std_err     statistic  pval       padj      corr      \n",
       "1  0.005019486 0.009711519  0.5168590 0.60525713 0.8304228 -0.1484440\n",
       "2  0.025768830 0.018832401  1.3683242 0.17121745 0.4425753  0.1004045\n",
       "3 -0.028026360 0.020666086 -1.3561523 0.17505751 0.4481728 -0.1130517\n",
       "4  0.037299935 0.017931959  2.0800814 0.03752371 0.1670923  0.1835136\n",
       "5 -0.018887089 0.056262556 -0.3356955 0.73710203 0.8980980  0.1137810\n",
       "6 -0.015070122 0.013339719 -1.1297181 0.25860106 0.5556070 -0.1484440"
      ]
     },
     "metadata": {},
     "output_type": "display_data"
    }
   ],
   "source": [
    "coef(microglial_cells_eGRNs) %>% head"
   ]
  },
  {
   "cell_type": "code",
   "execution_count": 54,
   "id": "e43fe9df-2351-4009-b3f6-f445640ce869",
   "metadata": {},
   "outputs": [
    {
     "name": "stderr",
     "output_type": "stream",
     "text": [
      "Found 151 TF modules\n",
      "\n"
     ]
    }
   ],
   "source": [
    "# Find TF modules:\n",
    "\n",
    "microglial_cells_eGRNs  <- find_modules(\n",
    "    microglial_cells_eGRNs, \n",
    "    p_thresh = 0.1,\n",
    "    nvar_thresh = 2, \n",
    "    min_genes_per_module = 1, \n",
    "    rsq_thresh = 0.05\n",
    ")"
   ]
  },
  {
   "cell_type": "code",
   "execution_count": 55,
   "id": "5cb9b772-ebaf-4524-bd01-faa6094f91e7",
   "metadata": {},
   "outputs": [
    {
     "data": {
      "text/plain": [
       "R version 4.4.1 (2024-06-14)\n",
       "Platform: x86_64-unknown-linux-gnu\n",
       "Running under: Red Hat Enterprise Linux 9.4 (Plow)\n",
       "\n",
       "Matrix products: default\n",
       "BLAS/LAPACK: /gnu/store/mvbj21lcf387dgs04d29n0sxrydq03a6-openblas-0.3.20/lib/libopenblasp-r0.3.20.so;  LAPACK version 3.9.0\n",
       "\n",
       "locale:\n",
       " [1] LC_CTYPE=en_GB.UTF-8       LC_NUMERIC=C              \n",
       " [3] LC_TIME=en_GB.UTF-8        LC_COLLATE=en_GB.UTF-8    \n",
       " [5] LC_MONETARY=en_GB.UTF-8    LC_MESSAGES=en_GB.UTF-8   \n",
       " [7] LC_PAPER=en_GB.UTF-8       LC_NAME=C                 \n",
       " [9] LC_ADDRESS=C               LC_TELEPHONE=C            \n",
       "[11] LC_MEASUREMENT=en_GB.UTF-8 LC_IDENTIFICATION=C       \n",
       "\n",
       "time zone: Europe/Berlin\n",
       "tzcode source: system (glibc)\n",
       "\n",
       "attached base packages:\n",
       "[1] stats     graphics  grDevices utils     datasets  methods   base     \n",
       "\n",
       "other attached packages:\n",
       " [1] Pando_1.1.1        Signac_1.14.0      Seurat_5.1.0       SeuratObject_5.0.2\n",
       " [5] sp_2.1-4           lubridate_1.9.3    forcats_1.0.0      stringr_1.5.1     \n",
       " [9] dplyr_1.1.4        purrr_1.0.2        readr_2.1.5        tidyr_1.3.1       \n",
       "[13] tibble_3.2.1       ggplot2_3.5.1      tidyverse_2.0.0   \n",
       "\n",
       "loaded via a namespace (and not attached):\n",
       "  [1] RcppAnnoy_0.0.22         splines_4.4.1            later_1.3.2             \n",
       "  [4] pbdZMQ_0.3-11            bitops_1.0-8             polyclip_1.10-7         \n",
       "  [7] fastDummies_1.7.4        lifecycle_1.0.4          rprojroot_2.0.4         \n",
       " [10] globals_0.16.3           lattice_0.22-6           pals_1.9                \n",
       " [13] MASS_7.3-61              magrittr_2.0.3           plotly_4.10.4           \n",
       " [16] httpuv_1.6.15            sctransform_0.4.1        spam_2.10-0             \n",
       " [19] spatstat.sparse_3.1-0    reticulate_1.38.0        cowplot_1.1.3           \n",
       " [22] mapproj_1.2.11           pbapply_1.7-2            RColorBrewer_1.1-3      \n",
       " [25] maps_3.4.2               abind_1.4-5              Rtsne_0.17              \n",
       " [28] GenomicRanges_1.56.1     ggraph_2.2.1             BiocGenerics_0.50.0     \n",
       " [31] RCurl_1.98-1.16          tweenr_2.0.3             GenomeInfoDbData_1.2.12 \n",
       " [34] IRanges_2.38.1           S4Vectors_0.42.1         ggrepel_0.9.5           \n",
       " [37] irlba_2.3.5.1            listenv_0.9.1            spatstat.utils_3.1-0    \n",
       " [40] goftest_1.2-3            RSpectra_0.16-2          spatstat.random_3.3-1   \n",
       " [43] fitdistrplus_1.2-1       parallelly_1.38.0        leiden_0.4.3.1          \n",
       " [46] codetools_0.2-20         RcppRoll_0.3.1           ggforce_0.4.2           \n",
       " [49] tidyselect_1.2.1         UCSC.utils_1.0.0         farver_2.1.2            \n",
       " [52] viridis_0.6.5            matrixStats_1.3.0        stats4_4.4.1            \n",
       " [55] base64enc_0.1-3          spatstat.explore_3.3-2   jsonlite_1.8.8          \n",
       " [58] tidygraph_1.3.1          progressr_0.14.0         ggridges_0.5.6          \n",
       " [61] survival_3.7-0           tools_4.4.1              ica_1.0-3               \n",
       " [64] Rcpp_1.0.13              glue_1.7.0               gridExtra_2.3           \n",
       " [67] here_1.0.1               MatrixGenerics_1.16.0    GenomeInfoDb_1.40.1     \n",
       " [70] IRdisplay_1.1            withr_3.0.1              fastmap_1.2.0           \n",
       " [73] fansi_1.0.6              ggpointdensity_0.1.0     digest_0.6.37           \n",
       " [76] timechange_0.3.0         R6_2.5.1                 mime_0.12               \n",
       " [79] colorspace_2.1-1         scattermore_1.2          tensor_1.5              \n",
       " [82] dichromat_2.0-0.1        spatstat.data_3.1-2      utf8_1.2.4              \n",
       " [85] generics_0.1.3           data.table_1.16.0        graphlayouts_1.1.1      \n",
       " [88] httr_1.4.7               htmlwidgets_1.6.4        uwot_0.2.2              \n",
       " [91] pkgconfig_2.0.3          gtable_0.3.5             lmtest_0.9-40           \n",
       " [94] XVector_0.44.0           htmltools_0.5.8.1        dotCall64_1.1-1         \n",
       " [97] scales_1.3.0             png_0.1-8                spatstat.univar_3.0-0   \n",
       "[100] tzdb_0.4.0               reshape2_1.4.4           uuid_1.2-1              \n",
       "[103] nlme_3.1-166             repr_1.1.7               zoo_1.8-12              \n",
       "[106] cachem_1.1.0             KernSmooth_2.23-24       parallel_4.4.1          \n",
       "[109] miniUI_0.1.1.1           pillar_1.9.0             grid_4.4.1              \n",
       "[112] vctrs_0.6.5              RANN_2.6.2               promises_1.3.0          \n",
       "[115] xtable_1.8-4             cluster_2.1.6            evaluate_0.24.0         \n",
       "[118] cli_3.6.3                compiler_4.4.1           Rsamtools_2.20.0        \n",
       "[121] rlang_1.1.4              crayon_1.5.3             future.apply_1.11.2     \n",
       "[124] plyr_1.8.9               stringi_1.8.4            viridisLite_0.4.2       \n",
       "[127] deldir_2.0-4             BiocParallel_1.38.0      munsell_0.5.1           \n",
       "[130] Biostrings_2.72.1        lazyeval_0.2.2           spatstat.geom_3.3-2     \n",
       "[133] Matrix_1.7-0             IRkernel_1.3.2           RcppHNSW_0.6.0          \n",
       "[136] hms_1.1.3                patchwork_1.2.0          sparseMatrixStats_1.16.0\n",
       "[139] future_1.34.0            shiny_1.9.1              ROCR_1.0-11             \n",
       "[142] igraph_2.0.3             memoise_2.0.1            fastmatch_1.1-4         "
      ]
     },
     "metadata": {},
     "output_type": "display_data"
    }
   ],
   "source": [
    "sessionInfo()"
   ]
  },
  {
   "cell_type": "code",
   "execution_count": null,
   "id": "4f5b99a7-dac2-4ffc-a442-bffbd04f4189",
   "metadata": {},
   "outputs": [],
   "source": []
  }
 ],
 "metadata": {
  "kernelspec": {
   "display_name": "R",
   "language": "R",
   "name": "ir"
  },
  "language_info": {
   "codemirror_mode": "r",
   "file_extension": ".r",
   "mimetype": "text/x-r-source",
   "name": "R",
   "pygments_lexer": "r",
   "version": "4.4.1"
  }
 },
 "nbformat": 4,
 "nbformat_minor": 5
}
