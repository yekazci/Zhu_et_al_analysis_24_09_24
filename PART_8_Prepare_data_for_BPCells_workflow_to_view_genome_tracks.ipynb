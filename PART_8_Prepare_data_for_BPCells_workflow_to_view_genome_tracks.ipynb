{
 "cells": [
  {
   "cell_type": "markdown",
   "id": "b70c2d59-08ba-45c1-98e9-97818d69cd15",
   "metadata": {},
   "source": [
    "I will extract the atac and rna counts, and fragments from the Seurat objects\\\n",
    "and then prepare to use with BPCells package."
   ]
  },
  {
   "cell_type": "code",
   "execution_count": 1,
   "id": "9d7c5eb0-3de2-47aa-9796-d72ce3f43ec6",
   "metadata": {},
   "outputs": [
    {
     "data": {
      "text/html": [
       "'/fast/AG_Bunina/Yusuf/Project_Endothelial_and_Stroke/Datasets/Chromatin_and_Gene_Exp/2023_Zhu_et_al/Zhu_et_al_2023/24_09_24'"
      ],
      "text/latex": [
       "'/fast/AG\\_Bunina/Yusuf/Project\\_Endothelial\\_and\\_Stroke/Datasets/Chromatin\\_and\\_Gene\\_Exp/2023\\_Zhu\\_et\\_al/Zhu\\_et\\_al\\_2023/24\\_09\\_24'"
      ],
      "text/markdown": [
       "'/fast/AG_Bunina/Yusuf/Project_Endothelial_and_Stroke/Datasets/Chromatin_and_Gene_Exp/2023_Zhu_et_al/Zhu_et_al_2023/24_09_24'"
      ],
      "text/plain": [
       "[1] \"/fast/AG_Bunina/Yusuf/Project_Endothelial_and_Stroke/Datasets/Chromatin_and_Gene_Exp/2023_Zhu_et_al/Zhu_et_al_2023/24_09_24\""
      ]
     },
     "metadata": {},
     "output_type": "display_data"
    }
   ],
   "source": [
    "getwd()"
   ]
  },
  {
   "cell_type": "code",
   "execution_count": 2,
   "id": "06f3f318-20d6-44f6-bbcc-f65b0eb28919",
   "metadata": {},
   "outputs": [
    {
     "data": {
      "text/html": [
       "'/fast/AG_Bunina/Yusuf/Project_Endothelial_and_Stroke/Datasets/Chromatin_and_Gene_Exp/2023_Zhu_et_al/Zhu_et_al_2023/24_09_24'"
      ],
      "text/latex": [
       "'/fast/AG\\_Bunina/Yusuf/Project\\_Endothelial\\_and\\_Stroke/Datasets/Chromatin\\_and\\_Gene\\_Exp/2023\\_Zhu\\_et\\_al/Zhu\\_et\\_al\\_2023/24\\_09\\_24'"
      ],
      "text/markdown": [
       "'/fast/AG_Bunina/Yusuf/Project_Endothelial_and_Stroke/Datasets/Chromatin_and_Gene_Exp/2023_Zhu_et_al/Zhu_et_al_2023/24_09_24'"
      ],
      "text/plain": [
       "[1] \"/fast/AG_Bunina/Yusuf/Project_Endothelial_and_Stroke/Datasets/Chromatin_and_Gene_Exp/2023_Zhu_et_al/Zhu_et_al_2023/24_09_24\""
      ]
     },
     "metadata": {},
     "output_type": "display_data"
    }
   ],
   "source": [
    "here::here()"
   ]
  },
  {
   "cell_type": "code",
   "execution_count": 7,
   "id": "4f840ad7-7df5-4b33-90fc-11af1b3651d0",
   "metadata": {},
   "outputs": [],
   "source": [
    "# load the R environment with the necessary packages such as Epiregulon:\n",
    "\n",
    "my_epiregulon_lib <- \"/fast/AG_Bunina/Yusuf/Project_Endothelial_and_Stroke/Datasets/Chromatin_and_Gene_Exp/2024_C_A_Mannens_C_et_al/04_02_25/renv/library/linux-rhel-9.4/R-4.4/x86_64-unknown-linux-gnu\"\n"
   ]
  },
  {
   "cell_type": "code",
   "execution_count": 8,
   "id": "a45d7971-370e-42f2-9758-14545e80ec05",
   "metadata": {},
   "outputs": [],
   "source": [
    ".libPaths(new = my_epiregulon_lib, include.site = FALSE)"
   ]
  },
  {
   "cell_type": "code",
   "execution_count": 9,
   "id": "f59362bb-2b43-4104-aa2f-494a139ec259",
   "metadata": {},
   "outputs": [
    {
     "data": {
      "text/html": [
       "<style>\n",
       ".list-inline {list-style: none; margin:0; padding: 0}\n",
       ".list-inline>li {display: inline-block}\n",
       ".list-inline>li:not(:last-child)::after {content: \"\\00b7\"; padding: 0 .5ex}\n",
       "</style>\n",
       "<ol class=list-inline><li>'/fast/AG_Bunina/Yusuf/Project_Endothelial_and_Stroke/Datasets/Chromatin_and_Gene_Exp/2024_C_A_Mannens_C_et_al/04_02_25/renv/library/linux-rhel-9.4/R-4.4/x86_64-unknown-linux-gnu'</li><li>'/gnu/store/29x2k7i71g9xq09xmbj1lk515cl7if63-r-minimal-4.4.2/lib/R/library'</li></ol>\n"
      ],
      "text/latex": [
       "\\begin{enumerate*}\n",
       "\\item '/fast/AG\\_Bunina/Yusuf/Project\\_Endothelial\\_and\\_Stroke/Datasets/Chromatin\\_and\\_Gene\\_Exp/2024\\_C\\_A\\_Mannens\\_C\\_et\\_al/04\\_02\\_25/renv/library/linux-rhel-9.4/R-4.4/x86\\_64-unknown-linux-gnu'\n",
       "\\item '/gnu/store/29x2k7i71g9xq09xmbj1lk515cl7if63-r-minimal-4.4.2/lib/R/library'\n",
       "\\end{enumerate*}\n"
      ],
      "text/markdown": [
       "1. '/fast/AG_Bunina/Yusuf/Project_Endothelial_and_Stroke/Datasets/Chromatin_and_Gene_Exp/2024_C_A_Mannens_C_et_al/04_02_25/renv/library/linux-rhel-9.4/R-4.4/x86_64-unknown-linux-gnu'\n",
       "2. '/gnu/store/29x2k7i71g9xq09xmbj1lk515cl7if63-r-minimal-4.4.2/lib/R/library'\n",
       "\n",
       "\n"
      ],
      "text/plain": [
       "[1] \"/fast/AG_Bunina/Yusuf/Project_Endothelial_and_Stroke/Datasets/Chromatin_and_Gene_Exp/2024_C_A_Mannens_C_et_al/04_02_25/renv/library/linux-rhel-9.4/R-4.4/x86_64-unknown-linux-gnu\"\n",
       "[2] \"/gnu/store/29x2k7i71g9xq09xmbj1lk515cl7if63-r-minimal-4.4.2/lib/R/library\"                                                                                                        "
      ]
     },
     "metadata": {},
     "output_type": "display_data"
    }
   ],
   "source": [
    ".libPaths()"
   ]
  },
  {
   "cell_type": "code",
   "execution_count": 10,
   "id": "621333ba-4dbc-4bcb-84d9-a3cd437fb0ea",
   "metadata": {},
   "outputs": [],
   "source": [
    "library(magrittr)"
   ]
  },
  {
   "cell_type": "code",
   "execution_count": 12,
   "id": "8786b9f2-1ebd-4269-ace4-7a9a6f5e1548",
   "metadata": {},
   "outputs": [],
   "source": [
    "# rename R_Objects to r_objects.\n",
    "# use same naming conventions for other folders."
   ]
  },
  {
   "cell_type": "code",
   "execution_count": 20,
   "id": "0e438921-b183-4dc5-a413-b1fc452b9eea",
   "metadata": {},
   "outputs": [
    {
     "name": "stdout",
     "output_type": "stream",
     "text": [
      " [1] \"DE_data_sig_EC.RDS\"                  \n",
      " [2] \"EC_detected_peaks_min1.RDS\"          \n",
      " [3] \"EC_detected_peaks_min5.RDS\"          \n",
      " [4] \"EC_eGRN_min1_Zhu_et_al_Pando_obj.RDS\"\n",
      " [5] \"EC_eGRN_regions_min1_Granges.RDS\"    \n",
      " [6] \"EC_eGRN_regions_min5_Granges.RDS\"    \n",
      " [7] \"Zhu_et_al_Pando_w_eGRNs_SLURM_c1.RDS\"\n",
      " [8] \"Zhu_et_al_Pando_w_eGRNs_SLURM_c2.RDS\"\n",
      " [9] \"Zhu_et_al_Pando_w_eGRNs_SLURM_c3.RDS\"\n",
      "[10] \"Zhu_et_al_Pando_w_eGRNs_SLURM_c4.RDS\"\n",
      "[11] \"Zhu_et_al_Pando_w_eGRNs_SLURM_c5.RDS\"\n",
      "[12] \"Zhu_et_al_Pando_w_eGRNs_SLURM_c6.RDS\"\n",
      "[13] \"Zhu_et_al_Pando_w_motifs.RDS\"        \n",
      "[14] \"Zhu_et_al_eGRNs_combined.RDS\"        \n",
      "[15] \"endothelial_genes.RDS\"               \n",
      "[16] \"endothelial_genes_subsetted.RDS\"     \n",
      "[17] \"important_TFs_EC_min1.RDS\"           \n",
      "[18] \"important_TFs_EC_min5.RDS\"           \n"
     ]
    }
   ],
   "source": [
    "here::here('r_objects')  %>% list.files() %>% print()"
   ]
  },
  {
   "cell_type": "code",
   "execution_count": 21,
   "id": "764785a5-fd2a-4f75-ab23-f7e067728025",
   "metadata": {},
   "outputs": [
    {
     "name": "stderr",
     "output_type": "stream",
     "text": [
      "-- \u001b[1mAttaching core tidyverse packages\u001b[22m ------------------------ tidyverse 2.0.0 --\n",
      "\u001b[32mv\u001b[39m \u001b[34mdplyr    \u001b[39m 1.1.4     \u001b[32mv\u001b[39m \u001b[34mreadr    \u001b[39m 2.1.5\n",
      "\u001b[32mv\u001b[39m \u001b[34mforcats  \u001b[39m 1.0.0     \u001b[32mv\u001b[39m \u001b[34mstringr  \u001b[39m 1.5.1\n",
      "\u001b[32mv\u001b[39m \u001b[34mggplot2  \u001b[39m 3.5.1     \u001b[32mv\u001b[39m \u001b[34mtibble   \u001b[39m 3.2.1\n",
      "\u001b[32mv\u001b[39m \u001b[34mlubridate\u001b[39m 1.9.3     \u001b[32mv\u001b[39m \u001b[34mtidyr    \u001b[39m 1.3.1\n",
      "\u001b[32mv\u001b[39m \u001b[34mpurrr    \u001b[39m 1.0.4     \n",
      "-- \u001b[1mConflicts\u001b[22m ------------------------------------------ tidyverse_conflicts() --\n",
      "\u001b[31mx\u001b[39m \u001b[34mtidyr\u001b[39m::\u001b[32mextract()\u001b[39m   masks \u001b[34mmagrittr\u001b[39m::extract()\n",
      "\u001b[31mx\u001b[39m \u001b[34mdplyr\u001b[39m::\u001b[32mfilter()\u001b[39m    masks \u001b[34mstats\u001b[39m::filter()\n",
      "\u001b[31mx\u001b[39m \u001b[34mdplyr\u001b[39m::\u001b[32mlag()\u001b[39m       masks \u001b[34mstats\u001b[39m::lag()\n",
      "\u001b[31mx\u001b[39m \u001b[34mpurrr\u001b[39m::\u001b[32mset_names()\u001b[39m masks \u001b[34mmagrittr\u001b[39m::set_names()\n",
      "\u001b[36mi\u001b[39m Use the conflicted package (\u001b[3m\u001b[34m<http://conflicted.r-lib.org/>\u001b[39m\u001b[23m) to force all conflicts to become errors\n"
     ]
    }
   ],
   "source": [
    "library(tidyverse)"
   ]
  },
  {
   "cell_type": "code",
   "execution_count": 22,
   "id": "bea88293-a7b7-4480-ac9e-704dc14d7a70",
   "metadata": {},
   "outputs": [
    {
     "name": "stderr",
     "output_type": "stream",
     "text": [
      "Loading required package: SeuratObject\n",
      "\n",
      "Loading required package: sp\n",
      "\n",
      "'SeuratObject' was built under R 4.4.1 but the current version is\n",
      "4.4.2; it is recomended that you reinstall 'SeuratObject' as the ABI\n",
      "for R may have changed\n",
      "\n",
      "\n",
      "Attaching package: 'SeuratObject'\n",
      "\n",
      "\n",
      "The following objects are masked from 'package:base':\n",
      "\n",
      "    intersect, t\n",
      "\n",
      "\n"
     ]
    }
   ],
   "source": [
    "library(Seurat)"
   ]
  },
  {
   "cell_type": "code",
   "execution_count": 23,
   "id": "44a61bee-3396-462a-a438-977fc20e213d",
   "metadata": {},
   "outputs": [],
   "source": [
    "library(Signac)"
   ]
  },
  {
   "cell_type": "code",
   "execution_count": 24,
   "id": "737d6c24-0c17-4389-832c-cdd2e516f4ef",
   "metadata": {},
   "outputs": [
    {
     "name": "stderr",
     "output_type": "stream",
     "text": [
      "\n",
      "Attaching package: 'Pando'\n",
      "\n",
      "\n",
      "The following objects are masked from 'package:Seurat':\n",
      "\n",
      "    GetAssay, VariableFeatures\n",
      "\n",
      "\n",
      "The following objects are masked from 'package:SeuratObject':\n",
      "\n",
      "    LayerData, VariableFeatures\n",
      "\n",
      "\n"
     ]
    }
   ],
   "source": [
    "library(Pando)"
   ]
  },
  {
   "cell_type": "code",
   "execution_count": 25,
   "id": "cf1d4916-2127-4350-9e39-b8f3867174c7",
   "metadata": {},
   "outputs": [],
   "source": [
    "Zhu_et_al_eGRNs_combined <- \n",
    "    readRDS(here::here('r_objects', 'Zhu_et_al_eGRNs_combined.RDS'))"
   ]
  },
  {
   "cell_type": "code",
   "execution_count": 26,
   "id": "bb56d217-20e7-4d77-bed7-3d31093f1b22",
   "metadata": {},
   "outputs": [
    {
     "data": {
      "text/plain": [
       "An object of class \"GRNData\"\n",
       "Slot \"grn\":\n",
       "A RegulatoryNetwork object based on 1014 transcription factors\n",
       "\n",
       "1 inferred network: glm_network\n",
       "\n",
       "Slot \"data\":\n",
       "An object of class Seurat \n",
       "364381 features across 45549 samples within 3 assays \n",
       "Active assay: SCT (30146 features, 3000 variable features)\n",
       " 3 layers present: counts, data, scale.data\n",
       " 2 other assays present: RNA, peaks\n",
       " 7 dimensional reductions calculated: pca, umap.rna, lsi, umap.atac, wnn.umap, pca.harmony, lsi.harmony\n"
      ]
     },
     "metadata": {},
     "output_type": "display_data"
    }
   ],
   "source": [
    "Zhu_et_al_eGRNs_combined"
   ]
  },
  {
   "cell_type": "code",
   "execution_count": 27,
   "id": "1cab84c9-2584-497c-b77c-1da3e79b62af",
   "metadata": {},
   "outputs": [],
   "source": [
    "Zhu_et_al_seurat <- Zhu_et_al_eGRNs_combined@data"
   ]
  },
  {
   "cell_type": "code",
   "execution_count": 28,
   "id": "8e51e196-5112-46b8-9491-69a961f38294",
   "metadata": {},
   "outputs": [
    {
     "data": {
      "text/plain": [
       "An object of class Seurat \n",
       "364381 features across 45549 samples within 3 assays \n",
       "Active assay: SCT (30146 features, 3000 variable features)\n",
       " 3 layers present: counts, data, scale.data\n",
       " 2 other assays present: RNA, peaks\n",
       " 7 dimensional reductions calculated: pca, umap.rna, lsi, umap.atac, wnn.umap, pca.harmony, lsi.harmony"
      ]
     },
     "metadata": {},
     "output_type": "display_data"
    }
   ],
   "source": [
    "Zhu_et_al_seurat"
   ]
  },
  {
   "cell_type": "code",
   "execution_count": 29,
   "id": "fa5984ad-dd86-4ddb-998a-a316c9e98599",
   "metadata": {},
   "outputs": [
    {
     "data": {
      "text/plain": [
       "ChromatinAssay data with 304034 features for 45549 cells\n",
       "Variable features: 76109 \n",
       "Genome: \n",
       "Annotation present: TRUE \n",
       "Motifs present: FALSE \n",
       "Fragment files: 0 "
      ]
     },
     "metadata": {},
     "output_type": "display_data"
    }
   ],
   "source": [
    "Zhu_et_al_seurat@assays$peaks"
   ]
  },
  {
   "cell_type": "code",
   "execution_count": 30,
   "id": "9a6825ad-9ec4-4e05-92dd-3468d208a5ad",
   "metadata": {},
   "outputs": [],
   "source": [
    "# I will extract count_RNA matrix and count_ATAC matrix."
   ]
  },
  {
   "cell_type": "code",
   "execution_count": 32,
   "id": "c69c8429-d046-4b40-9f8e-06c898b5236f",
   "metadata": {},
   "outputs": [
    {
     "data": {
      "text/html": [
       "<table class=\"dataframe\">\n",
       "<caption>A data.frame: 6 x 42</caption>\n",
       "<thead>\n",
       "\t<tr><th></th><th scope=col>orig.ident</th><th scope=col>nCount_RNA</th><th scope=col>nFeature_RNA</th><th scope=col>author_cell_type</th><th scope=col>age_group</th><th scope=col>donor_id</th><th scope=col>author_TSS_percentile_from_ATAC</th><th scope=col>author_nucleosome_signal_from_ATAC</th><th scope=col>assay_ontology_term_id</th><th scope=col>cell_type_ontology_term_id</th><th scope=col>...</th><th scope=col>author_JOINTwnnumap_2</th><th scope=col>modality</th><th scope=col>percent.mt</th><th scope=col>nCount_SCT</th><th scope=col>nFeature_SCT</th><th scope=col>SCT_snn_res.0.2</th><th scope=col>seurat_clusters</th><th scope=col>SCT.weight</th><th scope=col>peaks.weight</th><th scope=col>wsnn_res.0.2</th></tr>\n",
       "\t<tr><th></th><th scope=col>&lt;fct&gt;</th><th scope=col>&lt;dbl&gt;</th><th scope=col>&lt;int&gt;</th><th scope=col>&lt;fct&gt;</th><th scope=col>&lt;fct&gt;</th><th scope=col>&lt;fct&gt;</th><th scope=col>&lt;dbl&gt;</th><th scope=col>&lt;dbl&gt;</th><th scope=col>&lt;fct&gt;</th><th scope=col>&lt;fct&gt;</th><th scope=col>...</th><th scope=col>&lt;dbl&gt;</th><th scope=col>&lt;chr&gt;</th><th scope=col>&lt;dbl&gt;</th><th scope=col>&lt;dbl&gt;</th><th scope=col>&lt;int&gt;</th><th scope=col>&lt;fct&gt;</th><th scope=col>&lt;fct&gt;</th><th scope=col>&lt;dbl&gt;</th><th scope=col>&lt;dbl&gt;</th><th scope=col>&lt;fct&gt;</th></tr>\n",
       "</thead>\n",
       "<tbody>\n",
       "\t<tr><th scope=row>4_AAACAGCCAACACTTG-1</th><td>4</td><td>3699</td><td>1685</td><td>EN-fetal-late</td><td>late fetal</td><td>LaFet1</td><td>0.31</td><td>1.1035032</td><td>EFO:0030059</td><td>CL:0000679</td><td>...</td><td>-5.698158</td><td>RNA_SEQ</td><td>0.00000000</td><td>3977</td><td>1685</td><td>13</td><td>14</td><td>0.510072547</td><td>0.4899275</td><td>14</td></tr>\n",
       "\t<tr><th scope=row>4_AAACAGCCACCAAAGG-1</th><td>4</td><td>4417</td><td>2149</td><td>EN-fetal-late</td><td>late fetal</td><td>LaFet1</td><td>0.72</td><td>1.0027894</td><td>EFO:0030059</td><td>CL:0000679</td><td>...</td><td>-8.584836</td><td>RNA_SEQ</td><td>0.00000000</td><td>4401</td><td>2149</td><td>0 </td><td>0 </td><td>0.088527788</td><td>0.9114722</td><td>0 </td></tr>\n",
       "\t<tr><th scope=row>4_AAACAGCCATAAGTTC-1</th><td>4</td><td>4489</td><td>2469</td><td>EN-fetal-late</td><td>late fetal</td><td>LaFet1</td><td>0.51</td><td>1.0540595</td><td>EFO:0030059</td><td>CL:0000679</td><td>...</td><td>-7.735261</td><td>RNA_SEQ</td><td>0.00000000</td><td>4451</td><td>2469</td><td>0 </td><td>0 </td><td>0.326035802</td><td>0.6739642</td><td>0 </td></tr>\n",
       "\t<tr><th scope=row>4_AAACATGCATAGTCAT-1</th><td>4</td><td>4739</td><td>2620</td><td>EN-fetal-late</td><td>late fetal</td><td>LaFet1</td><td>0.47</td><td>1.1415701</td><td>EFO:0030059</td><td>CL:0000679</td><td>...</td><td>-8.434426</td><td>RNA_SEQ</td><td>0.00000000</td><td>4604</td><td>2620</td><td>0 </td><td>0 </td><td>0.572129921</td><td>0.4278701</td><td>0 </td></tr>\n",
       "\t<tr><th scope=row>4_AAACATGCATTGTCAG-1</th><td>4</td><td>4669</td><td>2595</td><td>EN-fetal-late</td><td>late fetal</td><td>LaFet1</td><td>0.48</td><td>1.1377880</td><td>EFO:0030059</td><td>CL:0000679</td><td>...</td><td>-8.630816</td><td>RNA_SEQ</td><td>0.02141786</td><td>4565</td><td>2595</td><td>0 </td><td>0 </td><td>0.002608364</td><td>0.9973916</td><td>0 </td></tr>\n",
       "\t<tr><th scope=row>4_AAACATGCATTGTGAT-1</th><td>4</td><td>4845</td><td>2931</td><td>EN-fetal-late</td><td>late fetal</td><td>LaFet1</td><td>0.26</td><td>0.7406982</td><td>EFO:0030059</td><td>CL:0000679</td><td>...</td><td>-8.762879</td><td>RNA_SEQ</td><td>0.00000000</td><td>4705</td><td>2931</td><td>0 </td><td>0 </td><td>0.648018534</td><td>0.3519815</td><td>0 </td></tr>\n",
       "</tbody>\n",
       "</table>\n"
      ],
      "text/latex": [
       "A data.frame: 6 x 42\n",
       "\\begin{tabular}{r|lllllllllllllllllllll}\n",
       "  & orig.ident & nCount\\_RNA & nFeature\\_RNA & author\\_cell\\_type & age\\_group & donor\\_id & author\\_TSS\\_percentile\\_from\\_ATAC & author\\_nucleosome\\_signal\\_from\\_ATAC & assay\\_ontology\\_term\\_id & cell\\_type\\_ontology\\_term\\_id & ... & author\\_JOINTwnnumap\\_2 & modality & percent.mt & nCount\\_SCT & nFeature\\_SCT & SCT\\_snn\\_res.0.2 & seurat\\_clusters & SCT.weight & peaks.weight & wsnn\\_res.0.2\\\\\n",
       "  & <fct> & <dbl> & <int> & <fct> & <fct> & <fct> & <dbl> & <dbl> & <fct> & <fct> & ... & <dbl> & <chr> & <dbl> & <dbl> & <int> & <fct> & <fct> & <dbl> & <dbl> & <fct>\\\\\n",
       "\\hline\n",
       "\t4\\_AAACAGCCAACACTTG-1 & 4 & 3699 & 1685 & EN-fetal-late & late fetal & LaFet1 & 0.31 & 1.1035032 & EFO:0030059 & CL:0000679 & ... & -5.698158 & RNA\\_SEQ & 0.00000000 & 3977 & 1685 & 13 & 14 & 0.510072547 & 0.4899275 & 14\\\\\n",
       "\t4\\_AAACAGCCACCAAAGG-1 & 4 & 4417 & 2149 & EN-fetal-late & late fetal & LaFet1 & 0.72 & 1.0027894 & EFO:0030059 & CL:0000679 & ... & -8.584836 & RNA\\_SEQ & 0.00000000 & 4401 & 2149 & 0  & 0  & 0.088527788 & 0.9114722 & 0 \\\\\n",
       "\t4\\_AAACAGCCATAAGTTC-1 & 4 & 4489 & 2469 & EN-fetal-late & late fetal & LaFet1 & 0.51 & 1.0540595 & EFO:0030059 & CL:0000679 & ... & -7.735261 & RNA\\_SEQ & 0.00000000 & 4451 & 2469 & 0  & 0  & 0.326035802 & 0.6739642 & 0 \\\\\n",
       "\t4\\_AAACATGCATAGTCAT-1 & 4 & 4739 & 2620 & EN-fetal-late & late fetal & LaFet1 & 0.47 & 1.1415701 & EFO:0030059 & CL:0000679 & ... & -8.434426 & RNA\\_SEQ & 0.00000000 & 4604 & 2620 & 0  & 0  & 0.572129921 & 0.4278701 & 0 \\\\\n",
       "\t4\\_AAACATGCATTGTCAG-1 & 4 & 4669 & 2595 & EN-fetal-late & late fetal & LaFet1 & 0.48 & 1.1377880 & EFO:0030059 & CL:0000679 & ... & -8.630816 & RNA\\_SEQ & 0.02141786 & 4565 & 2595 & 0  & 0  & 0.002608364 & 0.9973916 & 0 \\\\\n",
       "\t4\\_AAACATGCATTGTGAT-1 & 4 & 4845 & 2931 & EN-fetal-late & late fetal & LaFet1 & 0.26 & 0.7406982 & EFO:0030059 & CL:0000679 & ... & -8.762879 & RNA\\_SEQ & 0.00000000 & 4705 & 2931 & 0  & 0  & 0.648018534 & 0.3519815 & 0 \\\\\n",
       "\\end{tabular}\n"
      ],
      "text/markdown": [
       "\n",
       "A data.frame: 6 x 42\n",
       "\n",
       "| <!--/--> | orig.ident &lt;fct&gt; | nCount_RNA &lt;dbl&gt; | nFeature_RNA &lt;int&gt; | author_cell_type &lt;fct&gt; | age_group &lt;fct&gt; | donor_id &lt;fct&gt; | author_TSS_percentile_from_ATAC &lt;dbl&gt; | author_nucleosome_signal_from_ATAC &lt;dbl&gt; | assay_ontology_term_id &lt;fct&gt; | cell_type_ontology_term_id &lt;fct&gt; | ... ... | author_JOINTwnnumap_2 &lt;dbl&gt; | modality &lt;chr&gt; | percent.mt &lt;dbl&gt; | nCount_SCT &lt;dbl&gt; | nFeature_SCT &lt;int&gt; | SCT_snn_res.0.2 &lt;fct&gt; | seurat_clusters &lt;fct&gt; | SCT.weight &lt;dbl&gt; | peaks.weight &lt;dbl&gt; | wsnn_res.0.2 &lt;fct&gt; |\n",
       "|---|---|---|---|---|---|---|---|---|---|---|---|---|---|---|---|---|---|---|---|---|---|\n",
       "| 4_AAACAGCCAACACTTG-1 | 4 | 3699 | 1685 | EN-fetal-late | late fetal | LaFet1 | 0.31 | 1.1035032 | EFO:0030059 | CL:0000679 | ... | -5.698158 | RNA_SEQ | 0.00000000 | 3977 | 1685 | 13 | 14 | 0.510072547 | 0.4899275 | 14 |\n",
       "| 4_AAACAGCCACCAAAGG-1 | 4 | 4417 | 2149 | EN-fetal-late | late fetal | LaFet1 | 0.72 | 1.0027894 | EFO:0030059 | CL:0000679 | ... | -8.584836 | RNA_SEQ | 0.00000000 | 4401 | 2149 | 0  | 0  | 0.088527788 | 0.9114722 | 0  |\n",
       "| 4_AAACAGCCATAAGTTC-1 | 4 | 4489 | 2469 | EN-fetal-late | late fetal | LaFet1 | 0.51 | 1.0540595 | EFO:0030059 | CL:0000679 | ... | -7.735261 | RNA_SEQ | 0.00000000 | 4451 | 2469 | 0  | 0  | 0.326035802 | 0.6739642 | 0  |\n",
       "| 4_AAACATGCATAGTCAT-1 | 4 | 4739 | 2620 | EN-fetal-late | late fetal | LaFet1 | 0.47 | 1.1415701 | EFO:0030059 | CL:0000679 | ... | -8.434426 | RNA_SEQ | 0.00000000 | 4604 | 2620 | 0  | 0  | 0.572129921 | 0.4278701 | 0  |\n",
       "| 4_AAACATGCATTGTCAG-1 | 4 | 4669 | 2595 | EN-fetal-late | late fetal | LaFet1 | 0.48 | 1.1377880 | EFO:0030059 | CL:0000679 | ... | -8.630816 | RNA_SEQ | 0.02141786 | 4565 | 2595 | 0  | 0  | 0.002608364 | 0.9973916 | 0  |\n",
       "| 4_AAACATGCATTGTGAT-1 | 4 | 4845 | 2931 | EN-fetal-late | late fetal | LaFet1 | 0.26 | 0.7406982 | EFO:0030059 | CL:0000679 | ... | -8.762879 | RNA_SEQ | 0.00000000 | 4705 | 2931 | 0  | 0  | 0.648018534 | 0.3519815 | 0  |\n",
       "\n"
      ],
      "text/plain": [
       "                     orig.ident nCount_RNA nFeature_RNA author_cell_type\n",
       "4_AAACAGCCAACACTTG-1 4          3699       1685         EN-fetal-late   \n",
       "4_AAACAGCCACCAAAGG-1 4          4417       2149         EN-fetal-late   \n",
       "4_AAACAGCCATAAGTTC-1 4          4489       2469         EN-fetal-late   \n",
       "4_AAACATGCATAGTCAT-1 4          4739       2620         EN-fetal-late   \n",
       "4_AAACATGCATTGTCAG-1 4          4669       2595         EN-fetal-late   \n",
       "4_AAACATGCATTGTGAT-1 4          4845       2931         EN-fetal-late   \n",
       "                     age_group  donor_id author_TSS_percentile_from_ATAC\n",
       "4_AAACAGCCAACACTTG-1 late fetal LaFet1   0.31                           \n",
       "4_AAACAGCCACCAAAGG-1 late fetal LaFet1   0.72                           \n",
       "4_AAACAGCCATAAGTTC-1 late fetal LaFet1   0.51                           \n",
       "4_AAACATGCATAGTCAT-1 late fetal LaFet1   0.47                           \n",
       "4_AAACATGCATTGTCAG-1 late fetal LaFet1   0.48                           \n",
       "4_AAACATGCATTGTGAT-1 late fetal LaFet1   0.26                           \n",
       "                     author_nucleosome_signal_from_ATAC assay_ontology_term_id\n",
       "4_AAACAGCCAACACTTG-1 1.1035032                          EFO:0030059           \n",
       "4_AAACAGCCACCAAAGG-1 1.0027894                          EFO:0030059           \n",
       "4_AAACAGCCATAAGTTC-1 1.0540595                          EFO:0030059           \n",
       "4_AAACATGCATAGTCAT-1 1.1415701                          EFO:0030059           \n",
       "4_AAACATGCATTGTCAG-1 1.1377880                          EFO:0030059           \n",
       "4_AAACATGCATTGTGAT-1 0.7406982                          EFO:0030059           \n",
       "                     cell_type_ontology_term_id ... author_JOINTwnnumap_2\n",
       "4_AAACAGCCAACACTTG-1 CL:0000679                 ... -5.698158            \n",
       "4_AAACAGCCACCAAAGG-1 CL:0000679                 ... -8.584836            \n",
       "4_AAACAGCCATAAGTTC-1 CL:0000679                 ... -7.735261            \n",
       "4_AAACATGCATAGTCAT-1 CL:0000679                 ... -8.434426            \n",
       "4_AAACATGCATTGTCAG-1 CL:0000679                 ... -8.630816            \n",
       "4_AAACATGCATTGTGAT-1 CL:0000679                 ... -8.762879            \n",
       "                     modality percent.mt nCount_SCT nFeature_SCT\n",
       "4_AAACAGCCAACACTTG-1 RNA_SEQ  0.00000000 3977       1685        \n",
       "4_AAACAGCCACCAAAGG-1 RNA_SEQ  0.00000000 4401       2149        \n",
       "4_AAACAGCCATAAGTTC-1 RNA_SEQ  0.00000000 4451       2469        \n",
       "4_AAACATGCATAGTCAT-1 RNA_SEQ  0.00000000 4604       2620        \n",
       "4_AAACATGCATTGTCAG-1 RNA_SEQ  0.02141786 4565       2595        \n",
       "4_AAACATGCATTGTGAT-1 RNA_SEQ  0.00000000 4705       2931        \n",
       "                     SCT_snn_res.0.2 seurat_clusters SCT.weight  peaks.weight\n",
       "4_AAACAGCCAACACTTG-1 13              14              0.510072547 0.4899275   \n",
       "4_AAACAGCCACCAAAGG-1 0               0               0.088527788 0.9114722   \n",
       "4_AAACAGCCATAAGTTC-1 0               0               0.326035802 0.6739642   \n",
       "4_AAACATGCATAGTCAT-1 0               0               0.572129921 0.4278701   \n",
       "4_AAACATGCATTGTCAG-1 0               0               0.002608364 0.9973916   \n",
       "4_AAACATGCATTGTGAT-1 0               0               0.648018534 0.3519815   \n",
       "                     wsnn_res.0.2\n",
       "4_AAACAGCCAACACTTG-1 14          \n",
       "4_AAACAGCCACCAAAGG-1 0           \n",
       "4_AAACAGCCATAAGTTC-1 0           \n",
       "4_AAACATGCATAGTCAT-1 0           \n",
       "4_AAACATGCATTGTCAG-1 0           \n",
       "4_AAACATGCATTGTGAT-1 0           "
      ]
     },
     "metadata": {},
     "output_type": "display_data"
    }
   ],
   "source": [
    "Zhu_et_al_seurat@meta.data %>% head()"
   ]
  },
  {
   "cell_type": "code",
   "execution_count": 35,
   "id": "2fabecc8-ec92-498d-a468-857abef831c0",
   "metadata": {},
   "outputs": [
    {
     "data": {
      "text/plain": [
       "6 x 45549 sparse Matrix of class \"dgCMatrix\"\n",
       "                                                                               \n",
       "[1,] . . . . . . . . . . . . . . . . . . . . . . . . . . . . . . . . . . ......\n",
       "[2,] . . . . . . . . . . . . . . . . . . . . . . . . . . . . . . . . . . ......\n",
       "[3,] . . . . . . . . . . . . . . . . . . . . . . . . . . . . . . . . . . ......\n",
       "[4,] . . . . . . . . . . . . . . . . . . . . . . . . . . 1 . . . . . . 1 ......\n",
       "[5,] . . . . . . . . . . . . . . . . . . . . . . . . . . . . . . . . . . ......\n",
       "[6,] . . . . . . . . . . . . . . . . . . . . . . . . . . . . . . . . . . ......\n",
       "\n",
       " .....suppressing 45515 columns in show(); maybe adjust options(max.print=, width=)\n",
       " .............................."
      ]
     },
     "metadata": {},
     "output_type": "display_data"
    }
   ],
   "source": [
    "Zhu_et_al_seurat@assays$RNA@layers$counts %>% head()"
   ]
  },
  {
   "cell_type": "code",
   "execution_count": 40,
   "id": "e2763c4f-753f-4522-ac1c-9686c4d4e247",
   "metadata": {},
   "outputs": [
    {
     "data": {
      "text/html": [
       "<table class=\"dataframe\">\n",
       "<caption>A LogMap: 6 x 1 of type lgl</caption>\n",
       "<thead>\n",
       "\t<tr><th></th><th scope=col>counts</th></tr>\n",
       "</thead>\n",
       "<tbody>\n",
       "\t<tr><th scope=row>AL627309.1</th><td>TRUE</td></tr>\n",
       "\t<tr><th scope=row>AL627309.5</th><td>TRUE</td></tr>\n",
       "\t<tr><th scope=row>AL669831.2</th><td>TRUE</td></tr>\n",
       "\t<tr><th scope=row>LINC01409</th><td>TRUE</td></tr>\n",
       "\t<tr><th scope=row>FAM87B</th><td>TRUE</td></tr>\n",
       "\t<tr><th scope=row>LINC01128</th><td>TRUE</td></tr>\n",
       "</tbody>\n",
       "</table>\n"
      ],
      "text/latex": [
       "A LogMap: 6 x 1 of type lgl\n",
       "\\begin{tabular}{r|l}\n",
       "  & counts\\\\\n",
       "\\hline\n",
       "\tAL627309.1 & TRUE\\\\\n",
       "\tAL627309.5 & TRUE\\\\\n",
       "\tAL669831.2 & TRUE\\\\\n",
       "\tLINC01409 & TRUE\\\\\n",
       "\tFAM87B & TRUE\\\\\n",
       "\tLINC01128 & TRUE\\\\\n",
       "\\end{tabular}\n"
      ],
      "text/markdown": [
       "\n",
       "A LogMap: 6 x 1 of type lgl\n",
       "\n",
       "| <!--/--> | counts |\n",
       "|---|---|\n",
       "| AL627309.1 | TRUE |\n",
       "| AL627309.5 | TRUE |\n",
       "| AL669831.2 | TRUE |\n",
       "| LINC01409 | TRUE |\n",
       "| FAM87B | TRUE |\n",
       "| LINC01128 | TRUE |\n",
       "\n"
      ],
      "text/plain": [
       "           counts\n",
       "AL627309.1 TRUE  \n",
       "AL627309.5 TRUE  \n",
       "AL669831.2 TRUE  \n",
       "LINC01409  TRUE  \n",
       "FAM87B     TRUE  \n",
       "LINC01128  TRUE  "
      ]
     },
     "metadata": {},
     "output_type": "display_data"
    }
   ],
   "source": [
    "Zhu_et_al_seurat@assays$RNA@features %>% head()"
   ]
  },
  {
   "cell_type": "code",
   "execution_count": 41,
   "id": "9fdd7750-deea-46ce-b303-0ab547f69f68",
   "metadata": {},
   "outputs": [
    {
     "data": {
      "text/html": [
       "<table class=\"dataframe\">\n",
       "<caption>A LogMap: 6 x 1 of type lgl</caption>\n",
       "<thead>\n",
       "\t<tr><th></th><th scope=col>counts</th></tr>\n",
       "</thead>\n",
       "<tbody>\n",
       "\t<tr><th scope=row>4_AAACAGCCAACACTTG-1</th><td>TRUE</td></tr>\n",
       "\t<tr><th scope=row>4_AAACAGCCACCAAAGG-1</th><td>TRUE</td></tr>\n",
       "\t<tr><th scope=row>4_AAACAGCCATAAGTTC-1</th><td>TRUE</td></tr>\n",
       "\t<tr><th scope=row>4_AAACATGCATAGTCAT-1</th><td>TRUE</td></tr>\n",
       "\t<tr><th scope=row>4_AAACATGCATTGTCAG-1</th><td>TRUE</td></tr>\n",
       "\t<tr><th scope=row>4_AAACATGCATTGTGAT-1</th><td>TRUE</td></tr>\n",
       "</tbody>\n",
       "</table>\n"
      ],
      "text/latex": [
       "A LogMap: 6 x 1 of type lgl\n",
       "\\begin{tabular}{r|l}\n",
       "  & counts\\\\\n",
       "\\hline\n",
       "\t4\\_AAACAGCCAACACTTG-1 & TRUE\\\\\n",
       "\t4\\_AAACAGCCACCAAAGG-1 & TRUE\\\\\n",
       "\t4\\_AAACAGCCATAAGTTC-1 & TRUE\\\\\n",
       "\t4\\_AAACATGCATAGTCAT-1 & TRUE\\\\\n",
       "\t4\\_AAACATGCATTGTCAG-1 & TRUE\\\\\n",
       "\t4\\_AAACATGCATTGTGAT-1 & TRUE\\\\\n",
       "\\end{tabular}\n"
      ],
      "text/markdown": [
       "\n",
       "A LogMap: 6 x 1 of type lgl\n",
       "\n",
       "| <!--/--> | counts |\n",
       "|---|---|\n",
       "| 4_AAACAGCCAACACTTG-1 | TRUE |\n",
       "| 4_AAACAGCCACCAAAGG-1 | TRUE |\n",
       "| 4_AAACAGCCATAAGTTC-1 | TRUE |\n",
       "| 4_AAACATGCATAGTCAT-1 | TRUE |\n",
       "| 4_AAACATGCATTGTCAG-1 | TRUE |\n",
       "| 4_AAACATGCATTGTGAT-1 | TRUE |\n",
       "\n"
      ],
      "text/plain": [
       "                     counts\n",
       "4_AAACAGCCAACACTTG-1 TRUE  \n",
       "4_AAACAGCCACCAAAGG-1 TRUE  \n",
       "4_AAACAGCCATAAGTTC-1 TRUE  \n",
       "4_AAACATGCATAGTCAT-1 TRUE  \n",
       "4_AAACATGCATTGTCAG-1 TRUE  \n",
       "4_AAACATGCATTGTGAT-1 TRUE  "
      ]
     },
     "metadata": {},
     "output_type": "display_data"
    }
   ],
   "source": [
    "Zhu_et_al_seurat@assays$RNA@cells %>% head()"
   ]
  },
  {
   "cell_type": "code",
   "execution_count": 43,
   "id": "4102795c-65dc-4302-a001-22205f4e33dd",
   "metadata": {},
   "outputs": [
    {
     "data": {
      "text/html": [
       "<style>\n",
       ".list-inline {list-style: none; margin:0; padding: 0}\n",
       ".list-inline>li {display: inline-block}\n",
       ".list-inline>li:not(:last-child)::after {content: \"\\00b7\"; padding: 0 .5ex}\n",
       "</style>\n",
       "<ol class=list-inline><li>'4_AAACAGCCAACACTTG-1'</li><li>'4_AAACAGCCACCAAAGG-1'</li><li>'4_AAACAGCCATAAGTTC-1'</li><li>'4_AAACATGCATAGTCAT-1'</li><li>'4_AAACATGCATTGTCAG-1'</li><li>'4_AAACATGCATTGTGAT-1'</li></ol>\n"
      ],
      "text/latex": [
       "\\begin{enumerate*}\n",
       "\\item '4\\_AAACAGCCAACACTTG-1'\n",
       "\\item '4\\_AAACAGCCACCAAAGG-1'\n",
       "\\item '4\\_AAACAGCCATAAGTTC-1'\n",
       "\\item '4\\_AAACATGCATAGTCAT-1'\n",
       "\\item '4\\_AAACATGCATTGTCAG-1'\n",
       "\\item '4\\_AAACATGCATTGTGAT-1'\n",
       "\\end{enumerate*}\n"
      ],
      "text/markdown": [
       "1. '4_AAACAGCCAACACTTG-1'\n",
       "2. '4_AAACAGCCACCAAAGG-1'\n",
       "3. '4_AAACAGCCATAAGTTC-1'\n",
       "4. '4_AAACATGCATAGTCAT-1'\n",
       "5. '4_AAACATGCATTGTCAG-1'\n",
       "6. '4_AAACATGCATTGTGAT-1'\n",
       "\n",
       "\n"
      ],
      "text/plain": [
       "[1] \"4_AAACAGCCAACACTTG-1\" \"4_AAACAGCCACCAAAGG-1\" \"4_AAACAGCCATAAGTTC-1\"\n",
       "[4] \"4_AAACATGCATAGTCAT-1\" \"4_AAACATGCATTGTCAG-1\" \"4_AAACATGCATTGTGAT-1\""
      ]
     },
     "metadata": {},
     "output_type": "display_data"
    }
   ],
   "source": [
    "Cells(Zhu_et_al_seurat) %>% head()"
   ]
  },
  {
   "cell_type": "code",
   "execution_count": 45,
   "id": "1f5b67eb-e59e-422e-8bfa-ccb187e6278f",
   "metadata": {},
   "outputs": [
    {
     "name": "stderr",
     "output_type": "stream",
     "text": [
      "  [[ suppressing 34 column names '4_AAACAGCCAACACTTG-1', '4_AAACAGCCACCAAAGG-1', '4_AAACAGCCATAAGTTC-1' ... ]]\n",
      "\n"
     ]
    },
    {
     "data": {
      "text/plain": [
       "6 x 45549 sparse Matrix of class \"dgCMatrix\"\n",
       "                                                                              \n",
       "AL627309.1 . . . . . . . . . . . . . . . . . . . . . . . . . . . . . . . . . .\n",
       "AL627309.5 . . . . . . . . . . . . . . . . . . . . . . . . . . . . . . . . . .\n",
       "AL669831.2 . . . . . . . . . . . . . . . . . . . . . . . . . . . . . . . . . .\n",
       "LINC01409  . . . . . . . . . . . . . . . . . . . . . . . . . . 1 . . . . . . 1\n",
       "FAM87B     . . . . . . . . . . . . . . . . . . . . . . . . . . . . . . . . . .\n",
       "LINC01128  . . . . . . . . . . . . . . . . . . . . . . . . . . . . . . . . . .\n",
       "                 \n",
       "AL627309.1 ......\n",
       "AL627309.5 ......\n",
       "AL669831.2 ......\n",
       "LINC01409  ......\n",
       "FAM87B     ......\n",
       "LINC01128  ......\n",
       "\n",
       " .....suppressing 45515 columns in show(); maybe adjust options(max.print=, width=)\n",
       " .............................."
      ]
     },
     "metadata": {},
     "output_type": "display_data"
    }
   ],
   "source": [
    "Zhu_et_al_seurat@assays$SCT@counts %>% head()"
   ]
  },
  {
   "cell_type": "code",
   "execution_count": 46,
   "id": "f1bb13e4-d4e7-48f2-a3ca-40271de97280",
   "metadata": {},
   "outputs": [
    {
     "data": {
      "text/html": [
       "FALSE"
      ],
      "text/latex": [
       "FALSE"
      ],
      "text/markdown": [
       "FALSE"
      ],
      "text/plain": [
       "[1] FALSE"
      ]
     },
     "metadata": {},
     "output_type": "display_data"
    }
   ],
   "source": [
    "identical(Zhu_et_al_seurat@assays$SCT@counts, Zhu_et_al_seurat@assays$RNA@layers$counts)"
   ]
  },
  {
   "cell_type": "code",
   "execution_count": 60,
   "id": "75b4af5d-2417-4250-9f88-cc993aceda8a",
   "metadata": {},
   "outputs": [],
   "source": [
    "count_mat <- Zhu_et_al_seurat@assays$SCT@counts"
   ]
  },
  {
   "cell_type": "code",
   "execution_count": 61,
   "id": "00cfb5bb-8d25-4518-b501-4d36ac93979b",
   "metadata": {},
   "outputs": [
    {
     "name": "stderr",
     "output_type": "stream",
     "text": [
      "  [[ suppressing 34 column names '4_AAACAGCCAACACTTG-1', '4_AAACAGCCACCAAAGG-1', '4_AAACAGCCATAAGTTC-1' ... ]]\n",
      "\n"
     ]
    },
    {
     "data": {
      "text/plain": [
       "6 x 45549 sparse Matrix of class \"dgCMatrix\"\n",
       "                                                                              \n",
       "AL627309.1 . . . . . . . . . . . . . . . . . . . . . . . . . . . . . . . . . .\n",
       "AL627309.5 . . . . . . . . . . . . . . . . . . . . . . . . . . . . . . . . . .\n",
       "AL669831.2 . . . . . . . . . . . . . . . . . . . . . . . . . . . . . . . . . .\n",
       "LINC01409  . . . . . . . . . . . . . . . . . . . . . . . . . . 1 . . . . . . 1\n",
       "FAM87B     . . . . . . . . . . . . . . . . . . . . . . . . . . . . . . . . . .\n",
       "LINC01128  . . . . . . . . . . . . . . . . . . . . . . . . . . . . . . . . . .\n",
       "                 \n",
       "AL627309.1 ......\n",
       "AL627309.5 ......\n",
       "AL669831.2 ......\n",
       "LINC01409  ......\n",
       "FAM87B     ......\n",
       "LINC01128  ......\n",
       "\n",
       " .....suppressing 45515 columns in show(); maybe adjust options(max.print=, width=)\n",
       " .............................."
      ]
     },
     "metadata": {},
     "output_type": "display_data"
    }
   ],
   "source": [
    "count_mat %>% head()"
   ]
  },
  {
   "cell_type": "code",
   "execution_count": 62,
   "id": "c3684015-8545-4957-a5ad-d8b457ef568a",
   "metadata": {},
   "outputs": [],
   "source": [
    "count_mat %>% saveRDS(here::here('r_objects', 'counts_RNA_mat_for_BPCells.RDS'))"
   ]
  },
  {
   "cell_type": "code",
   "execution_count": 65,
   "id": "3b6a2264-2586-4b5f-ab85-645d14036ba0",
   "metadata": {},
   "outputs": [],
   "source": [
    "# extract and save peak matrix:"
   ]
  },
  {
   "cell_type": "code",
   "execution_count": 66,
   "id": "47ea69c9-0ead-4c7b-9f4c-396469658c38",
   "metadata": {},
   "outputs": [],
   "source": [
    "count_ATAC <- Zhu_et_al_seurat@assays$peaks$counts"
   ]
  },
  {
   "cell_type": "code",
   "execution_count": 67,
   "id": "461f08c5-d45e-400b-8946-d7d6ab2e5a70",
   "metadata": {},
   "outputs": [
    {
     "name": "stderr",
     "output_type": "stream",
     "text": [
      "  [[ suppressing 34 column names '4_AAACAGCCAACACTTG-1', '4_AAACAGCCACCAAAGG-1', '4_AAACAGCCATAAGTTC-1' ... ]]\n",
      "\n"
     ]
    },
    {
     "data": {
      "text/plain": [
       "6 x 45549 sparse Matrix of class \"dgCMatrix\"\n",
       "                                                                              \n",
       "chr1-10063-10327   . . . . . . . . . . . . . . . . . . . . . 1 . . . . . . . 1\n",
       "chr1-180726-180979 . . . . . . . . . . . . . . . . . . . . . . . . . . . . . .\n",
       "chr1-181323-181566 . . 1 . . . . . . 1 . . . . . . . . . . . . . . . . . . . .\n",
       "chr1-190727-191632 . . . . . . . . . . . . . . . . . . 1 . . . . . . . 1 . . .\n",
       "chr1-777615-779293 . . . . 1 1 2 . . 1 . . 1 2 . 1 . 1 . . . 1 . . 1 . . . . .\n",
       "chr1-779602-779948 . . . . . . . . . . . . . . . . . . . . . . . . . . . . . .\n",
       "                                 \n",
       "chr1-10063-10327   . . . . ......\n",
       "chr1-180726-180979 . . . . ......\n",
       "chr1-181323-181566 . . . . ......\n",
       "chr1-190727-191632 . . . . ......\n",
       "chr1-777615-779293 . . . . ......\n",
       "chr1-779602-779948 . . . . ......\n",
       "\n",
       " .....suppressing 45515 columns in show(); maybe adjust options(max.print=, width=)\n",
       " .............................."
      ]
     },
     "metadata": {},
     "output_type": "display_data"
    }
   ],
   "source": [
    "count_ATAC %>% head()"
   ]
  },
  {
   "cell_type": "code",
   "execution_count": 68,
   "id": "2872c28b-dfea-4f49-844f-88bb30fd4e04",
   "metadata": {},
   "outputs": [
    {
     "data": {
      "text/html": [
       "<style>\n",
       ".list-inline {list-style: none; margin:0; padding: 0}\n",
       ".list-inline>li {display: inline-block}\n",
       ".list-inline>li:not(:last-child)::after {content: \"\\00b7\"; padding: 0 .5ex}\n",
       "</style>\n",
       "<ol class=list-inline><li>304034</li><li>45549</li></ol>\n"
      ],
      "text/latex": [
       "\\begin{enumerate*}\n",
       "\\item 304034\n",
       "\\item 45549\n",
       "\\end{enumerate*}\n"
      ],
      "text/markdown": [
       "1. 304034\n",
       "2. 45549\n",
       "\n",
       "\n"
      ],
      "text/plain": [
       "[1] 304034  45549"
      ]
     },
     "metadata": {},
     "output_type": "display_data"
    }
   ],
   "source": [
    "count_ATAC %>% dim()"
   ]
  },
  {
   "cell_type": "code",
   "execution_count": 69,
   "id": "f6231bf5-6491-4a59-a3ee-32a3b9383590",
   "metadata": {},
   "outputs": [],
   "source": [
    "count_ATAC %>% saveRDS(here::here('r_objects', 'counts_ATAC_mat_for_BPCells.RDS'))"
   ]
  },
  {
   "cell_type": "code",
   "execution_count": 70,
   "id": "6913423b-49c4-4769-a511-4abd7a687485",
   "metadata": {},
   "outputs": [],
   "source": [
    "# Extract and save metadata:\n",
    "\n",
    "Zhu_et_al_seurat@meta.data %>% \n",
    "    saveRDS(here::here('r_objects', 'metadata_DF_forBPCells.RDS'))"
   ]
  },
  {
   "cell_type": "markdown",
   "id": "31618b6a-8c08-4dac-a2d1-b716bda2ecf1",
   "metadata": {},
   "source": [
    "===========================================================================================\n",
    "\n",
    "I need the fragment files to create genome coverage tracks by BPCells package.\\\n",
    "I am currently aligning the sc multiome raw data to the human genome.\n",
    "\n",
    "After I obtain the fragment files, I will continue with the BPCells workflow.\\\n",
    "I will generate on-disk stored versions of count matrices and the fragments.\\\n",
    "Then, If necessary, I will subset the fragment files with the cell barcodes\\\n",
    "present in the count matrices.\n",
    "\n",
    "Then, I will view TF footprints and genome covergae tracks.\n",
    "\n",
    "============================================================================================="
   ]
  },
  {
   "cell_type": "code",
   "execution_count": 71,
   "id": "da8c6d76-0da4-499f-9532-179bf5129779",
   "metadata": {},
   "outputs": [
    {
     "data": {
      "text/plain": [
       "R version 4.4.2 (2024-10-31)\n",
       "Platform: x86_64-unknown-linux-gnu\n",
       "Running under: Red Hat Enterprise Linux 9.4 (Plow)\n",
       "\n",
       "Matrix products: default\n",
       "BLAS/LAPACK: /gnu/store/mj1kw87qd3m1q7r4844adkn5hifx8k6a-openblas-0.3.20/lib/libopenblasp-r0.3.20.so;  LAPACK version 3.9.0\n",
       "\n",
       "locale:\n",
       " [1] LC_CTYPE=C          LC_NUMERIC=C        LC_TIME=C          \n",
       " [4] LC_COLLATE=C        LC_MONETARY=C       LC_MESSAGES=C.UTF-8\n",
       " [7] LC_PAPER=C          LC_NAME=C           LC_ADDRESS=C       \n",
       "[10] LC_TELEPHONE=C      LC_MEASUREMENT=C    LC_IDENTIFICATION=C\n",
       "\n",
       "time zone: Europe/Berlin\n",
       "tzcode source: system (glibc)\n",
       "\n",
       "attached base packages:\n",
       "[1] stats     graphics  grDevices utils     datasets  methods   base     \n",
       "\n",
       "other attached packages:\n",
       " [1] Pando_1.1.1        Signac_1.14.0      Seurat_5.2.1       SeuratObject_5.0.2\n",
       " [5] sp_2.2-0           lubridate_1.9.3    forcats_1.0.0      stringr_1.5.1     \n",
       " [9] dplyr_1.1.4        purrr_1.0.4        readr_2.1.5        tidyr_1.3.1       \n",
       "[13] tibble_3.2.1       ggplot2_3.5.1      tidyverse_2.0.0    magrittr_2.0.3    \n",
       "\n",
       "loaded via a namespace (and not attached):\n",
       "  [1] RcppAnnoy_0.0.22            splines_4.4.2              \n",
       "  [3] later_1.4.1                 pbdZMQ_0.3-11              \n",
       "  [5] bitops_1.0-9                polyclip_1.10-7            \n",
       "  [7] fastDummies_1.7.5           lifecycle_1.0.4            \n",
       "  [9] rprojroot_2.0.4             globals_0.16.3             \n",
       " [11] lattice_0.22-6              pals_1.9                   \n",
       " [13] MASS_7.3-61                 plotly_4.10.4              \n",
       " [15] httpuv_1.6.15               sctransform_0.4.1          \n",
       " [17] spam_2.11-1                 spatstat.sparse_3.1-0      \n",
       " [19] reticulate_1.40.0           cowplot_1.1.3              \n",
       " [21] mapproj_1.2.11              pbapply_1.7-2              \n",
       " [23] RColorBrewer_1.1-3          maps_3.4.2                 \n",
       " [25] abind_1.4-8                 Rtsne_0.17                 \n",
       " [27] GenomicRanges_1.56.2        ggraph_2.2.1               \n",
       " [29] BiocGenerics_0.50.0         RCurl_1.98-1.16            \n",
       " [31] tweenr_2.0.3                GenomeInfoDbData_1.2.12    \n",
       " [33] IRanges_2.38.1              S4Vectors_0.42.1           \n",
       " [35] ggrepel_0.9.6               irlba_2.3.5.1              \n",
       " [37] listenv_0.9.1               spatstat.utils_3.1-2       \n",
       " [39] goftest_1.2-3               RSpectra_0.16-2            \n",
       " [41] spatstat.random_3.3-2       fitdistrplus_1.2-2         \n",
       " [43] parallelly_1.42.0           DelayedArray_0.30.1        \n",
       " [45] codetools_0.2-20            RcppRoll_0.3.1             \n",
       " [47] ggforce_0.4.2               tidyselect_1.2.1           \n",
       " [49] UCSC.utils_1.0.0            farver_2.1.2               \n",
       " [51] viridis_0.6.5               matrixStats_1.5.0          \n",
       " [53] stats4_4.4.2                base64enc_0.1-3            \n",
       " [55] spatstat.explore_3.3-4      jsonlite_1.8.8             \n",
       " [57] tidygraph_1.3.1             progressr_0.15.1           \n",
       " [59] ggridges_0.5.6              survival_3.7-0             \n",
       " [61] tools_4.4.2                 ica_1.0-3                  \n",
       " [63] Rcpp_1.0.14                 glue_1.7.0                 \n",
       " [65] SparseArray_1.4.8           gridExtra_2.3              \n",
       " [67] here_1.0.1                  epiregulon_1.0.1           \n",
       " [69] MatrixGenerics_1.16.0       GenomeInfoDb_1.40.1        \n",
       " [71] IRdisplay_1.1               withr_3.0.2                \n",
       " [73] fastmap_1.2.0               fansi_1.0.6                \n",
       " [75] ggpointdensity_0.1.0        digest_0.6.37              \n",
       " [77] timechange_0.3.0            R6_2.5.1                   \n",
       " [79] mime_0.12                   colorspace_2.1-1           \n",
       " [81] scattermore_1.2             tensor_1.5                 \n",
       " [83] dichromat_2.0-0.1           spatstat.data_3.1-4        \n",
       " [85] utf8_1.2.4                  generics_0.1.3             \n",
       " [87] data.table_1.16.4           S4Arrays_1.4.1             \n",
       " [89] graphlayouts_1.1.1          httr_1.4.7                 \n",
       " [91] htmlwidgets_1.6.4           uwot_0.2.2                 \n",
       " [93] pkgconfig_2.0.3             gtable_0.3.6               \n",
       " [95] lmtest_0.9-40               SingleCellExperiment_1.26.0\n",
       " [97] XVector_0.44.0              htmltools_0.5.8.1          \n",
       " [99] dotCall64_1.2               Biobase_2.64.0             \n",
       "[101] scales_1.3.0                png_0.1-8                  \n",
       "[103] spatstat.univar_3.1-1       tzdb_0.4.0                 \n",
       "[105] reshape2_1.4.4              uuid_1.2-1                 \n",
       "[107] nlme_3.1-166                repr_1.1.7                 \n",
       "[109] zoo_1.8-12                  cachem_1.1.0               \n",
       "[111] KernSmooth_2.23-24          parallel_4.4.2             \n",
       "[113] miniUI_0.1.1.1              pillar_1.9.0               \n",
       "[115] grid_4.4.2                  vctrs_0.6.5                \n",
       "[117] RANN_2.6.2                  promises_1.3.2             \n",
       "[119] xtable_1.8-4                cluster_2.1.6              \n",
       "[121] evaluate_0.24.0             cli_3.6.3                  \n",
       "[123] compiler_4.4.2              Rsamtools_2.20.0           \n",
       "[125] rlang_1.1.4                 crayon_1.5.3               \n",
       "[127] future.apply_1.11.3         plyr_1.8.9                 \n",
       "[129] stringi_1.8.4               viridisLite_0.4.2          \n",
       "[131] deldir_2.0-4                BiocParallel_1.38.0        \n",
       "[133] munsell_0.5.1               Biostrings_2.72.1          \n",
       "[135] lazyeval_0.2.2              spatstat.geom_3.3-5        \n",
       "[137] Matrix_1.7-0                IRkernel_1.3.2             \n",
       "[139] RcppHNSW_0.6.0              hms_1.1.3                  \n",
       "[141] patchwork_1.3.0             sparseMatrixStats_1.16.0   \n",
       "[143] future_1.34.0               shiny_1.10.0               \n",
       "[145] SummarizedExperiment_1.34.0 ROCR_1.0-11                \n",
       "[147] igraph_2.1.4                memoise_2.0.1              \n",
       "[149] fastmatch_1.1-4            "
      ]
     },
     "metadata": {},
     "output_type": "display_data"
    }
   ],
   "source": [
    "sessionInfo()"
   ]
  },
  {
   "cell_type": "code",
   "execution_count": null,
   "id": "3294019a-2f8b-489a-8c1c-bc76100dd092",
   "metadata": {},
   "outputs": [],
   "source": []
  }
 ],
 "metadata": {
  "kernelspec": {
   "display_name": "R",
   "language": "R",
   "name": "ir"
  },
  "language_info": {
   "codemirror_mode": "r",
   "file_extension": ".r",
   "mimetype": "text/x-r-source",
   "name": "R",
   "pygments_lexer": "r",
   "version": "4.4.2"
  }
 },
 "nbformat": 4,
 "nbformat_minor": 5
}
