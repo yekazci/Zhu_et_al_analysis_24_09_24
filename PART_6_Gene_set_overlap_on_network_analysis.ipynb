{
 "cells": [
  {
   "cell_type": "code",
   "execution_count": 1,
   "id": "62a1dbe5-06c3-4bd3-94bc-193b7d85aed8",
   "metadata": {},
   "outputs": [
    {
     "name": "stderr",
     "output_type": "stream",
     "text": [
      "── \u001b[1mAttaching core tidyverse packages\u001b[22m ──────────────────────── tidyverse 2.0.0 ──\n",
      "\u001b[32m✔\u001b[39m \u001b[34mdplyr    \u001b[39m 1.1.4     \u001b[32m✔\u001b[39m \u001b[34mreadr    \u001b[39m 2.1.5\n",
      "\u001b[32m✔\u001b[39m \u001b[34mforcats  \u001b[39m 1.0.0     \u001b[32m✔\u001b[39m \u001b[34mstringr  \u001b[39m 1.5.1\n",
      "\u001b[32m✔\u001b[39m \u001b[34mggplot2  \u001b[39m 3.5.1     \u001b[32m✔\u001b[39m \u001b[34mtibble   \u001b[39m 3.2.1\n",
      "\u001b[32m✔\u001b[39m \u001b[34mlubridate\u001b[39m 1.9.3     \u001b[32m✔\u001b[39m \u001b[34mtidyr    \u001b[39m 1.3.1\n",
      "\u001b[32m✔\u001b[39m \u001b[34mpurrr    \u001b[39m 1.0.2     \n",
      "── \u001b[1mConflicts\u001b[22m ────────────────────────────────────────── tidyverse_conflicts() ──\n",
      "\u001b[31m✖\u001b[39m \u001b[34mdplyr\u001b[39m::\u001b[32mfilter()\u001b[39m masks \u001b[34mstats\u001b[39m::filter()\n",
      "\u001b[31m✖\u001b[39m \u001b[34mdplyr\u001b[39m::\u001b[32mlag()\u001b[39m    masks \u001b[34mstats\u001b[39m::lag()\n",
      "\u001b[36mℹ\u001b[39m Use the conflicted package (\u001b[3m\u001b[34m<http://conflicted.r-lib.org/>\u001b[39m\u001b[23m) to force all conflicts to become errors\n"
     ]
    }
   ],
   "source": [
    "library(tidyverse)"
   ]
  },
  {
   "cell_type": "code",
   "execution_count": 2,
   "id": "d83c5e5f-83ce-4f97-a8e7-2c36dd7963f7",
   "metadata": {},
   "outputs": [
    {
     "name": "stderr",
     "output_type": "stream",
     "text": [
      "Loading required package: SeuratObject\n",
      "\n",
      "Loading required package: sp\n",
      "\n",
      "\n",
      "Attaching package: ‘SeuratObject’\n",
      "\n",
      "\n",
      "The following objects are masked from ‘package:base’:\n",
      "\n",
      "    intersect, t\n",
      "\n",
      "\n"
     ]
    }
   ],
   "source": [
    "library(Seurat)"
   ]
  },
  {
   "cell_type": "code",
   "execution_count": 4,
   "id": "6dae99d1-6565-4610-a3c6-e4658d8ea6ce",
   "metadata": {},
   "outputs": [],
   "source": [
    "library(Signac)"
   ]
  },
  {
   "cell_type": "code",
   "execution_count": 5,
   "id": "42fc408f-72bf-47af-8944-847a223e50b0",
   "metadata": {},
   "outputs": [
    {
     "name": "stderr",
     "output_type": "stream",
     "text": [
      "\n",
      "Attaching package: ‘Pando’\n",
      "\n",
      "\n",
      "The following objects are masked from ‘package:Seurat’:\n",
      "\n",
      "    GetAssay, VariableFeatures\n",
      "\n",
      "\n",
      "The following objects are masked from ‘package:SeuratObject’:\n",
      "\n",
      "    LayerData, VariableFeatures\n",
      "\n",
      "\n"
     ]
    }
   ],
   "source": [
    "library(Pando)"
   ]
  },
  {
   "cell_type": "code",
   "execution_count": 6,
   "id": "bfacb743-b578-4f5a-aaef-1fc3c7c38b29",
   "metadata": {},
   "outputs": [
    {
     "data": {
      "text/html": [
       "'/fast/AG_Bunina/Yusuf/Project_Endothelial_and_Stroke/Datasets/Chromatin_and_Gene_Exp/2023_Zhu_et_al/Zhu_et_al_2023/24_09_24'"
      ],
      "text/latex": [
       "'/fast/AG\\_Bunina/Yusuf/Project\\_Endothelial\\_and\\_Stroke/Datasets/Chromatin\\_and\\_Gene\\_Exp/2023\\_Zhu\\_et\\_al/Zhu\\_et\\_al\\_2023/24\\_09\\_24'"
      ],
      "text/markdown": [
       "'/fast/AG_Bunina/Yusuf/Project_Endothelial_and_Stroke/Datasets/Chromatin_and_Gene_Exp/2023_Zhu_et_al/Zhu_et_al_2023/24_09_24'"
      ],
      "text/plain": [
       "[1] \"/fast/AG_Bunina/Yusuf/Project_Endothelial_and_Stroke/Datasets/Chromatin_and_Gene_Exp/2023_Zhu_et_al/Zhu_et_al_2023/24_09_24\""
      ]
     },
     "metadata": {},
     "output_type": "display_data"
    }
   ],
   "source": [
    "getwd()"
   ]
  },
  {
   "cell_type": "code",
   "execution_count": 7,
   "id": "efe3092f-f661-46d0-9604-1799de56eb08",
   "metadata": {},
   "outputs": [
    {
     "data": {
      "text/html": [
       "'/fast/AG_Bunina/Yusuf/Project_Endothelial_and_Stroke/Datasets/Chromatin_and_Gene_Exp/2023_Zhu_et_al/Zhu_et_al_2023/24_09_24'"
      ],
      "text/latex": [
       "'/fast/AG\\_Bunina/Yusuf/Project\\_Endothelial\\_and\\_Stroke/Datasets/Chromatin\\_and\\_Gene\\_Exp/2023\\_Zhu\\_et\\_al/Zhu\\_et\\_al\\_2023/24\\_09\\_24'"
      ],
      "text/markdown": [
       "'/fast/AG_Bunina/Yusuf/Project_Endothelial_and_Stroke/Datasets/Chromatin_and_Gene_Exp/2023_Zhu_et_al/Zhu_et_al_2023/24_09_24'"
      ],
      "text/plain": [
       "[1] \"/fast/AG_Bunina/Yusuf/Project_Endothelial_and_Stroke/Datasets/Chromatin_and_Gene_Exp/2023_Zhu_et_al/Zhu_et_al_2023/24_09_24\""
      ]
     },
     "metadata": {},
     "output_type": "display_data"
    }
   ],
   "source": [
    "here::here()"
   ]
  },
  {
   "cell_type": "code",
   "execution_count": 9,
   "id": "94160cd3-79e3-4b63-84c6-e19e004b0188",
   "metadata": {},
   "outputs": [
    {
     "name": "stdout",
     "output_type": "stream",
     "text": [
      " [1] \"DE_data_sig_EC.RDS\"                  \n",
      " [2] \"EC_detected_peaks_min1.RDS\"          \n",
      " [3] \"EC_detected_peaks_min5.RDS\"          \n",
      " [4] \"EC_eGRN_min1_Zhu_et_al_Pando_obj.RDS\"\n",
      " [5] \"EC_eGRN_regions_min1_Granges.RDS\"    \n",
      " [6] \"EC_eGRN_regions_min5_Granges.RDS\"    \n",
      " [7] \"endothelial_genes_subsetted.RDS\"     \n",
      " [8] \"endothelial_genes.RDS\"               \n",
      " [9] \"important_TFs_EC_min1.RDS\"           \n",
      "[10] \"important_TFs_EC_min5.RDS\"           \n",
      "[11] \"Zhu_et_al_eGRNs_combined.RDS\"        \n",
      "[12] \"Zhu_et_al_Pando_w_eGRNs_SLURM_c1.RDS\"\n",
      "[13] \"Zhu_et_al_Pando_w_eGRNs_SLURM_c2.RDS\"\n",
      "[14] \"Zhu_et_al_Pando_w_eGRNs_SLURM_c3.RDS\"\n",
      "[15] \"Zhu_et_al_Pando_w_eGRNs_SLURM_c4.RDS\"\n",
      "[16] \"Zhu_et_al_Pando_w_eGRNs_SLURM_c5.RDS\"\n",
      "[17] \"Zhu_et_al_Pando_w_eGRNs_SLURM_c6.RDS\"\n",
      "[18] \"Zhu_et_al_Pando_w_motifs.RDS\"        \n"
     ]
    }
   ],
   "source": [
    "list.files(here::here('R_Objects')) %>% print"
   ]
  },
  {
   "cell_type": "code",
   "execution_count": 10,
   "id": "09fc0ced-1d81-4135-a1d6-b158b2f70bc7",
   "metadata": {},
   "outputs": [],
   "source": [
    " EC_eGRN_min1_Zhu_et_al_Pando_obj <- readRDS(here::here('R_Objects', \"EC_eGRN_min1_Zhu_et_al_Pando_obj.RDS\"))"
   ]
  },
  {
   "cell_type": "code",
   "execution_count": 11,
   "id": "82ef0f23-c02a-450a-8533-802bd9ef53bd",
   "metadata": {},
   "outputs": [
    {
     "data": {
      "text/plain": [
       "An object of class \"GRNData\"\n",
       "Slot \"grn\":\n",
       "A RegulatoryNetwork object based on 1014 transcription factors\n",
       "\n",
       "1 inferred network: glm_network\n",
       "\n",
       "Slot \"data\":\n",
       "An object of class Seurat \n",
       "364381 features across 45549 samples within 3 assays \n",
       "Active assay: SCT (30146 features, 3000 variable features)\n",
       " 3 layers present: counts, data, scale.data\n",
       " 2 other assays present: RNA, peaks\n",
       " 7 dimensional reductions calculated: pca, umap.rna, lsi, umap.atac, wnn.umap, pca.harmony, lsi.harmony\n"
      ]
     },
     "metadata": {},
     "output_type": "display_data"
    }
   ],
   "source": [
    "EC_eGRN_min1_Zhu_et_al_Pando_obj"
   ]
  },
  {
   "cell_type": "code",
   "execution_count": 13,
   "id": "a84f2c31-4c34-4554-892a-2285c9c565c6",
   "metadata": {},
   "outputs": [
    {
     "data": {
      "text/html": [
       "<style>\n",
       ".list-inline {list-style: none; margin:0; padding: 0}\n",
       ".list-inline>li {display: inline-block}\n",
       ".list-inline>li:not(:last-child)::after {content: \"\\00b7\"; padding: 0 .5ex}\n",
       "</style>\n",
       "<ol class=list-inline><li>'0'</li><li>'1'</li><li>'2'</li><li>'3'</li><li>'4'</li><li>'5'</li><li>'6'</li><li>'7'</li><li>'8'</li><li>'9'</li><li>'10'</li><li>'11'</li><li>'12'</li><li>'13'</li><li>'14'</li><li>'15'</li><li>'16'</li><li>'17'</li><li>'18'</li><li>'19'</li><li>'20'</li><li>'21'</li><li>'22'</li></ol>\n"
      ],
      "text/latex": [
       "\\begin{enumerate*}\n",
       "\\item '0'\n",
       "\\item '1'\n",
       "\\item '2'\n",
       "\\item '3'\n",
       "\\item '4'\n",
       "\\item '5'\n",
       "\\item '6'\n",
       "\\item '7'\n",
       "\\item '8'\n",
       "\\item '9'\n",
       "\\item '10'\n",
       "\\item '11'\n",
       "\\item '12'\n",
       "\\item '13'\n",
       "\\item '14'\n",
       "\\item '15'\n",
       "\\item '16'\n",
       "\\item '17'\n",
       "\\item '18'\n",
       "\\item '19'\n",
       "\\item '20'\n",
       "\\item '21'\n",
       "\\item '22'\n",
       "\\end{enumerate*}\n"
      ],
      "text/markdown": [
       "1. '0'\n",
       "2. '1'\n",
       "3. '2'\n",
       "4. '3'\n",
       "5. '4'\n",
       "6. '5'\n",
       "7. '6'\n",
       "8. '7'\n",
       "9. '8'\n",
       "10. '9'\n",
       "11. '10'\n",
       "12. '11'\n",
       "13. '12'\n",
       "14. '13'\n",
       "15. '14'\n",
       "16. '15'\n",
       "17. '16'\n",
       "18. '17'\n",
       "19. '18'\n",
       "20. '19'\n",
       "21. '20'\n",
       "22. '21'\n",
       "23. '22'\n",
       "\n",
       "\n"
      ],
      "text/plain": [
       " [1] \"0\"  \"1\"  \"2\"  \"3\"  \"4\"  \"5\"  \"6\"  \"7\"  \"8\"  \"9\"  \"10\" \"11\" \"12\" \"13\" \"14\"\n",
       "[16] \"15\" \"16\" \"17\" \"18\" \"19\" \"20\" \"21\" \"22\""
      ]
     },
     "metadata": {},
     "output_type": "display_data"
    }
   ],
   "source": [
    "EC_eGRN_min1_Zhu_et_al_Pando_obj@data %>% levels"
   ]
  },
  {
   "cell_type": "code",
   "execution_count": 14,
   "id": "581c8125-538c-4740-aaf6-185ad2bf3984",
   "metadata": {},
   "outputs": [
    {
     "data": {
      "text/html": [
       "<style>\n",
       ".list-inline {list-style: none; margin:0; padding: 0}\n",
       ".list-inline>li {display: inline-block}\n",
       ".list-inline>li:not(:last-child)::after {content: \"\\00b7\"; padding: 0 .5ex}\n",
       "</style>\n",
       "<ol class=list-inline><li>'endothelial cell'</li><li>'astrocyte'</li><li>'oligodendrocyte'</li><li>'microglial cell'</li><li>'vascular associated smooth muscle cell'</li><li>'inhibitory interneuron'</li><li>'pericyte'</li><li>'glutamatergic neuron'</li><li>'radial glial cell'</li><li>'oligodendrocyte precursor cell'</li><li>'neural progenitor cell'</li><li>'medial ganglionic eminence derived interneuron'</li><li>'caudal ganglionic eminence derived interneuron'</li></ol>\n"
      ],
      "text/latex": [
       "\\begin{enumerate*}\n",
       "\\item 'endothelial cell'\n",
       "\\item 'astrocyte'\n",
       "\\item 'oligodendrocyte'\n",
       "\\item 'microglial cell'\n",
       "\\item 'vascular associated smooth muscle cell'\n",
       "\\item 'inhibitory interneuron'\n",
       "\\item 'pericyte'\n",
       "\\item 'glutamatergic neuron'\n",
       "\\item 'radial glial cell'\n",
       "\\item 'oligodendrocyte precursor cell'\n",
       "\\item 'neural progenitor cell'\n",
       "\\item 'medial ganglionic eminence derived interneuron'\n",
       "\\item 'caudal ganglionic eminence derived interneuron'\n",
       "\\end{enumerate*}\n"
      ],
      "text/markdown": [
       "1. 'endothelial cell'\n",
       "2. 'astrocyte'\n",
       "3. 'oligodendrocyte'\n",
       "4. 'microglial cell'\n",
       "5. 'vascular associated smooth muscle cell'\n",
       "6. 'inhibitory interneuron'\n",
       "7. 'pericyte'\n",
       "8. 'glutamatergic neuron'\n",
       "9. 'radial glial cell'\n",
       "10. 'oligodendrocyte precursor cell'\n",
       "11. 'neural progenitor cell'\n",
       "12. 'medial ganglionic eminence derived interneuron'\n",
       "13. 'caudal ganglionic eminence derived interneuron'\n",
       "\n",
       "\n"
      ],
      "text/plain": [
       " [1] \"endothelial cell\"                              \n",
       " [2] \"astrocyte\"                                     \n",
       " [3] \"oligodendrocyte\"                               \n",
       " [4] \"microglial cell\"                               \n",
       " [5] \"vascular associated smooth muscle cell\"        \n",
       " [6] \"inhibitory interneuron\"                        \n",
       " [7] \"pericyte\"                                      \n",
       " [8] \"glutamatergic neuron\"                          \n",
       " [9] \"radial glial cell\"                             \n",
       "[10] \"oligodendrocyte precursor cell\"                \n",
       "[11] \"neural progenitor cell\"                        \n",
       "[12] \"medial ganglionic eminence derived interneuron\"\n",
       "[13] \"caudal ganglionic eminence derived interneuron\""
      ]
     },
     "metadata": {},
     "output_type": "display_data"
    }
   ],
   "source": [
    "EC_eGRN_min1_Zhu_et_al_Pando_obj@data$cell_type %>% levels"
   ]
  },
  {
   "cell_type": "code",
   "execution_count": 17,
   "id": "d48bcb0f-bbdb-441a-a63c-421b12b6a3db",
   "metadata": {},
   "outputs": [],
   "source": [
    "# Load gene sets:"
   ]
  },
  {
   "cell_type": "code",
   "execution_count": 18,
   "id": "5d33b873-8865-45df-80d7-66a145424988",
   "metadata": {},
   "outputs": [],
   "source": [
    "library(msigdbr)"
   ]
  },
  {
   "cell_type": "code",
   "execution_count": 19,
   "id": "682a32c9-1c92-4517-aecd-df334b77df7b",
   "metadata": {},
   "outputs": [],
   "source": [
    "all_gene_sets <- msigdbr(species = \"Homo sapiens\")"
   ]
  },
  {
   "cell_type": "code",
   "execution_count": 26,
   "id": "0a2da816-896d-4382-80b0-13a636c71e13",
   "metadata": {},
   "outputs": [
    {
     "data": {
      "text/plain": [
       "An object of class Seurat \n",
       "364381 features across 45549 samples within 3 assays \n",
       "Active assay: SCT (30146 features, 3000 variable features)\n",
       " 3 layers present: counts, data, scale.data\n",
       " 2 other assays present: RNA, peaks\n",
       " 7 dimensional reductions calculated: pca, umap.rna, lsi, umap.atac, wnn.umap, pca.harmony, lsi.harmony"
      ]
     },
     "metadata": {},
     "output_type": "display_data"
    }
   ],
   "source": [
    "EC_eGRN_min1_Zhu_et_al_Pando_obj@data"
   ]
  },
  {
   "cell_type": "code",
   "execution_count": 28,
   "id": "fb8abf00-501c-4b10-8ad6-fa9bf5d7e9d1",
   "metadata": {},
   "outputs": [
    {
     "data": {
      "text/plain": [
       "Assay (v5) data with 30201 features for 45549 cells\n",
       "First 10 features:\n",
       " AL627309.1, AL627309.5, AL669831.2, LINC01409, FAM87B, LINC01128,\n",
       "LINC00115, FAM41C, AL645608.6, AL645608.2 \n",
       "Layers:\n",
       " counts "
      ]
     },
     "metadata": {},
     "output_type": "display_data"
    }
   ],
   "source": [
    "EC_eGRN_min1_Zhu_et_al_Pando_obj@data@assays$RNA"
   ]
  },
  {
   "cell_type": "code",
   "execution_count": 32,
   "id": "63144881-95d9-4229-a193-be016e0654ba",
   "metadata": {},
   "outputs": [],
   "source": [
    "# I need to adjust the scripts to work with 'SCT' assay. Now it works with the RNA.\n",
    "\n",
    "# So I can not use the 'high_exp_plot' parameter for now:"
   ]
  },
  {
   "cell_type": "code",
   "execution_count": 34,
   "id": "b0b8cbfb-8f7e-4082-9f2f-91be6a7ead8a",
   "metadata": {},
   "outputs": [],
   "source": [
    "source(here::here('r_scripts', 'gene_set_analysis_in_eGRNs.R'))"
   ]
  },
  {
   "cell_type": "code",
   "execution_count": 35,
   "id": "56629c2e-496e-4db8-bbda-751e3df0920a",
   "metadata": {},
   "outputs": [
    {
     "name": "stderr",
     "output_type": "stream",
     "text": [
      "Warning message in dir.create(sub_dir):\n",
      "“'/fast/AG_Bunina/Yusuf/Project_Endothelial_and_Stroke/Datasets/Chromatin_and_Gene_Exp/2023_Zhu_et_al/Zhu_et_al_2023/24_09_24/R_Outputs/Gene_sets_eGRNs/hif1a_GeneSets' already exists”\n",
      "make sure you installed the GGally, network, igraph and ggraph packages :)\n",
      "\n",
      "First option: One can directly use only the node_names parameter to specify \n",
      "          the gene names to visualize in the graph\n",
      "\n",
      "Second option: Use TF-names and/or target genes parameters \n",
      "         to visualize their connections\n",
      "\n",
      "make sure you installed the GGally, network, igraph and ggraph packages :)\n",
      "\n",
      "First option: One can directly use only the node_names parameter to specify \n",
      "          the gene names to visualize in the graph\n",
      "\n",
      "Second option: Use TF-names and/or target genes parameters \n",
      "         to visualize their connections\n",
      "\n"
     ]
    },
    {
     "name": "stdout",
     "output_type": "stream",
     "text": [
      " Network attributes:\n",
      "  vertices = 28 \n",
      "  directed = TRUE \n",
      "  hyper = FALSE \n",
      "  loops = FALSE \n",
      "  multiple = FALSE \n",
      "  bipartite = FALSE \n",
      "  total edges= 20 \n",
      "    missing edges= 0 \n",
      "    non-missing edges= 20 \n",
      "\n",
      " Vertex attribute names: \n",
      "    vertex.names \n",
      "\n",
      "No edge attributes\n"
     ]
    },
    {
     "name": "stderr",
     "output_type": "stream",
     "text": [
      "\u001b[1m\u001b[22mScale for \u001b[32msize\u001b[39m is already present.\n",
      "Adding another scale for \u001b[32msize\u001b[39m, which will replace the existing scale.\n"
     ]
    },
    {
     "data": {
      "text/html": [
       "<strong>$ELVIDGE_HIF1A_AND_HIF2A_TARGETS_DN</strong> = <dl>\n",
       "\t<dt>$expression_plot</dt>\n",
       "\t\t<dd>'/fast/AG_Bunina/Yusuf/Project_Endothelial_and_Stroke/Datasets/Chromatin_and_Gene_Exp/2023_Zhu_et_al/Zhu_et_al_2023/24_09_24/R_Outputs/Gene_sets_eGRNs/hif1a_GeneSets/ELVIDGE_HIF1A_AND_HIF2A_TARGETS_DN_overlap_expression_plot.png'</dd>\n",
       "\t<dt>$network_plot</dt>\n",
       "\t\t<dd>'/fast/AG_Bunina/Yusuf/Project_Endothelial_and_Stroke/Datasets/Chromatin_and_Gene_Exp/2023_Zhu_et_al/Zhu_et_al_2023/24_09_24/R_Outputs/Gene_sets_eGRNs/hif1a_GeneSets/ELVIDGE_HIF1A_AND_HIF2A_TARGETS_DN_network_plot.png'</dd>\n",
       "\t<dt>$expression_plot_all_Target</dt>\n",
       "\t\t<dd>'/fast/AG_Bunina/Yusuf/Project_Endothelial_and_Stroke/Datasets/Chromatin_and_Gene_Exp/2023_Zhu_et_al/Zhu_et_al_2023/24_09_24/R_Outputs/Gene_sets_eGRNs/hif1a_GeneSets/ELVIDGE_HIF1A_AND_HIF2A_TARGETS_DN_all_connections_Target_expression_plot.png'</dd>\n",
       "\t<dt>$expression_plot_all_TF</dt>\n",
       "\t\t<dd>'/fast/AG_Bunina/Yusuf/Project_Endothelial_and_Stroke/Datasets/Chromatin_and_Gene_Exp/2023_Zhu_et_al/Zhu_et_al_2023/24_09_24/R_Outputs/Gene_sets_eGRNs/hif1a_GeneSets/ELVIDGE_HIF1A_AND_HIF2A_TARGETS_DN_all_connections_TF_expression_plot.png'</dd>\n",
       "</dl>\n"
      ],
      "text/latex": [
       "\\textbf{\\$ELVIDGE\\_HIF1A\\_AND\\_HIF2A\\_TARGETS\\_DN} = \\begin{description}\n",
       "\\item[\\$expression\\_plot] '/fast/AG\\_Bunina/Yusuf/Project\\_Endothelial\\_and\\_Stroke/Datasets/Chromatin\\_and\\_Gene\\_Exp/2023\\_Zhu\\_et\\_al/Zhu\\_et\\_al\\_2023/24\\_09\\_24/R\\_Outputs/Gene\\_sets\\_eGRNs/hif1a\\_GeneSets/ELVIDGE\\_HIF1A\\_AND\\_HIF2A\\_TARGETS\\_DN\\_overlap\\_expression\\_plot.png'\n",
       "\\item[\\$network\\_plot] '/fast/AG\\_Bunina/Yusuf/Project\\_Endothelial\\_and\\_Stroke/Datasets/Chromatin\\_and\\_Gene\\_Exp/2023\\_Zhu\\_et\\_al/Zhu\\_et\\_al\\_2023/24\\_09\\_24/R\\_Outputs/Gene\\_sets\\_eGRNs/hif1a\\_GeneSets/ELVIDGE\\_HIF1A\\_AND\\_HIF2A\\_TARGETS\\_DN\\_network\\_plot.png'\n",
       "\\item[\\$expression\\_plot\\_all\\_Target] '/fast/AG\\_Bunina/Yusuf/Project\\_Endothelial\\_and\\_Stroke/Datasets/Chromatin\\_and\\_Gene\\_Exp/2023\\_Zhu\\_et\\_al/Zhu\\_et\\_al\\_2023/24\\_09\\_24/R\\_Outputs/Gene\\_sets\\_eGRNs/hif1a\\_GeneSets/ELVIDGE\\_HIF1A\\_AND\\_HIF2A\\_TARGETS\\_DN\\_all\\_connections\\_Target\\_expression\\_plot.png'\n",
       "\\item[\\$expression\\_plot\\_all\\_TF] '/fast/AG\\_Bunina/Yusuf/Project\\_Endothelial\\_and\\_Stroke/Datasets/Chromatin\\_and\\_Gene\\_Exp/2023\\_Zhu\\_et\\_al/Zhu\\_et\\_al\\_2023/24\\_09\\_24/R\\_Outputs/Gene\\_sets\\_eGRNs/hif1a\\_GeneSets/ELVIDGE\\_HIF1A\\_AND\\_HIF2A\\_TARGETS\\_DN\\_all\\_connections\\_TF\\_expression\\_plot.png'\n",
       "\\end{description}\n"
      ],
      "text/markdown": [
       "**$ELVIDGE_HIF1A_AND_HIF2A_TARGETS_DN** = $expression_plot\n",
       ":   '/fast/AG_Bunina/Yusuf/Project_Endothelial_and_Stroke/Datasets/Chromatin_and_Gene_Exp/2023_Zhu_et_al/Zhu_et_al_2023/24_09_24/R_Outputs/Gene_sets_eGRNs/hif1a_GeneSets/ELVIDGE_HIF1A_AND_HIF2A_TARGETS_DN_overlap_expression_plot.png'\n",
       "$network_plot\n",
       ":   '/fast/AG_Bunina/Yusuf/Project_Endothelial_and_Stroke/Datasets/Chromatin_and_Gene_Exp/2023_Zhu_et_al/Zhu_et_al_2023/24_09_24/R_Outputs/Gene_sets_eGRNs/hif1a_GeneSets/ELVIDGE_HIF1A_AND_HIF2A_TARGETS_DN_network_plot.png'\n",
       "$expression_plot_all_Target\n",
       ":   '/fast/AG_Bunina/Yusuf/Project_Endothelial_and_Stroke/Datasets/Chromatin_and_Gene_Exp/2023_Zhu_et_al/Zhu_et_al_2023/24_09_24/R_Outputs/Gene_sets_eGRNs/hif1a_GeneSets/ELVIDGE_HIF1A_AND_HIF2A_TARGETS_DN_all_connections_Target_expression_plot.png'\n",
       "$expression_plot_all_TF\n",
       ":   '/fast/AG_Bunina/Yusuf/Project_Endothelial_and_Stroke/Datasets/Chromatin_and_Gene_Exp/2023_Zhu_et_al/Zhu_et_al_2023/24_09_24/R_Outputs/Gene_sets_eGRNs/hif1a_GeneSets/ELVIDGE_HIF1A_AND_HIF2A_TARGETS_DN_all_connections_TF_expression_plot.png'\n",
       "\n",
       "\n"
      ],
      "text/plain": [
       "$ELVIDGE_HIF1A_AND_HIF2A_TARGETS_DN\n",
       "$ELVIDGE_HIF1A_AND_HIF2A_TARGETS_DN$expression_plot\n",
       "[1] \"/fast/AG_Bunina/Yusuf/Project_Endothelial_and_Stroke/Datasets/Chromatin_and_Gene_Exp/2023_Zhu_et_al/Zhu_et_al_2023/24_09_24/R_Outputs/Gene_sets_eGRNs/hif1a_GeneSets/ELVIDGE_HIF1A_AND_HIF2A_TARGETS_DN_overlap_expression_plot.png\"\n",
       "\n",
       "$ELVIDGE_HIF1A_AND_HIF2A_TARGETS_DN$network_plot\n",
       "[1] \"/fast/AG_Bunina/Yusuf/Project_Endothelial_and_Stroke/Datasets/Chromatin_and_Gene_Exp/2023_Zhu_et_al/Zhu_et_al_2023/24_09_24/R_Outputs/Gene_sets_eGRNs/hif1a_GeneSets/ELVIDGE_HIF1A_AND_HIF2A_TARGETS_DN_network_plot.png\"\n",
       "\n",
       "$ELVIDGE_HIF1A_AND_HIF2A_TARGETS_DN$expression_plot_all_Target\n",
       "[1] \"/fast/AG_Bunina/Yusuf/Project_Endothelial_and_Stroke/Datasets/Chromatin_and_Gene_Exp/2023_Zhu_et_al/Zhu_et_al_2023/24_09_24/R_Outputs/Gene_sets_eGRNs/hif1a_GeneSets/ELVIDGE_HIF1A_AND_HIF2A_TARGETS_DN_all_connections_Target_expression_plot.png\"\n",
       "\n",
       "$ELVIDGE_HIF1A_AND_HIF2A_TARGETS_DN$expression_plot_all_TF\n",
       "[1] \"/fast/AG_Bunina/Yusuf/Project_Endothelial_and_Stroke/Datasets/Chromatin_and_Gene_Exp/2023_Zhu_et_al/Zhu_et_al_2023/24_09_24/R_Outputs/Gene_sets_eGRNs/hif1a_GeneSets/ELVIDGE_HIF1A_AND_HIF2A_TARGETS_DN_all_connections_TF_expression_plot.png\"\n",
       "\n"
      ]
     },
     "metadata": {},
     "output_type": "display_data"
    }
   ],
   "source": [
    "generate_gene_set_visualizations_w_extra_plot_w_cluster_option_network_focused(pando_obj = EC_eGRN_min1_Zhu_et_al_Pando_obj, \n",
    "                                                                               all_gene_sets = all_gene_sets,\n",
    "                                                                               seurat_identity = 'cell_type', \n",
    "                                                                               term_to_search = 'hif1a', \n",
    "                                                                               output_dir = here::here('R_Outputs', 'Gene_sets_eGRNs'), \n",
    "                                                                               num_of_gene_sets = 1, \n",
    "                                                                               aesthetical = TRUE,\n",
    "                                                                               # for cell type specific expression:\n",
    "                                                                               # high_exp_plot = TRUE,\n",
    "                                                                               cell_type_of_interest = \"endothelial cell\",\n",
    "                                                                               group_by = 'cell_type',\n",
    "                                                                               # To restrict network connections only the overlapping genes:\n",
    "                                                                               network_focused_on = c('target'),\n",
    "                                                                               # To create separate expression plots for TF and target genes:\n",
    "                                                                               plot_separate = TRUE\n",
    "                                                                                              )"
   ]
  },
  {
   "cell_type": "code",
   "execution_count": 36,
   "id": "a261a1d3-ac8a-439f-825e-3d218a3a02d7",
   "metadata": {},
   "outputs": [
    {
     "name": "stderr",
     "output_type": "stream",
     "text": [
      "Warning message in dir.create(sub_dir):\n",
      "“'/fast/AG_Bunina/Yusuf/Project_Endothelial_and_Stroke/Datasets/Chromatin_and_Gene_Exp/2023_Zhu_et_al/Zhu_et_al_2023/24_09_24/R_Outputs/Gene_sets_eGRNs/hif1a_GeneSets' already exists”\n",
      "make sure you installed the GGally, network, igraph and ggraph packages :)\n",
      "\n",
      "First option: One can directly use only the node_names parameter to specify \n",
      "          the gene names to visualize in the graph\n",
      "\n",
      "Second option: Use TF-names and/or target genes parameters \n",
      "         to visualize their connections\n",
      "\n",
      "make sure you installed the GGally, network, igraph and ggraph packages :)\n",
      "\n",
      "First option: One can directly use only the node_names parameter to specify \n",
      "          the gene names to visualize in the graph\n",
      "\n",
      "Second option: Use TF-names and/or target genes parameters \n",
      "         to visualize their connections\n",
      "\n"
     ]
    },
    {
     "name": "stdout",
     "output_type": "stream",
     "text": [
      " Network attributes:\n",
      "  vertices = 63 \n",
      "  directed = TRUE \n",
      "  hyper = FALSE \n",
      "  loops = FALSE \n",
      "  multiple = FALSE \n",
      "  bipartite = FALSE \n",
      "  total edges= 54 \n",
      "    missing edges= 0 \n",
      "    non-missing edges= 54 \n",
      "\n",
      " Vertex attribute names: \n",
      "    vertex.names \n",
      "\n",
      "No edge attributes\n"
     ]
    },
    {
     "name": "stderr",
     "output_type": "stream",
     "text": [
      "\u001b[1m\u001b[22mScale for \u001b[32msize\u001b[39m is already present.\n",
      "Adding another scale for \u001b[32msize\u001b[39m, which will replace the existing scale.\n"
     ]
    },
    {
     "data": {
      "text/html": [
       "<strong>$ELVIDGE_HIF1A_AND_HIF2A_TARGETS_DN</strong> = <dl>\n",
       "\t<dt>$expression_plot</dt>\n",
       "\t\t<dd>'/fast/AG_Bunina/Yusuf/Project_Endothelial_and_Stroke/Datasets/Chromatin_and_Gene_Exp/2023_Zhu_et_al/Zhu_et_al_2023/24_09_24/R_Outputs/Gene_sets_eGRNs/hif1a_GeneSets/ELVIDGE_HIF1A_AND_HIF2A_TARGETS_DN_overlap_expression_plot.png'</dd>\n",
       "\t<dt>$network_plot</dt>\n",
       "\t\t<dd>'/fast/AG_Bunina/Yusuf/Project_Endothelial_and_Stroke/Datasets/Chromatin_and_Gene_Exp/2023_Zhu_et_al/Zhu_et_al_2023/24_09_24/R_Outputs/Gene_sets_eGRNs/hif1a_GeneSets/ELVIDGE_HIF1A_AND_HIF2A_TARGETS_DN_network_plot.png'</dd>\n",
       "\t<dt>$expression_plot_all_Target</dt>\n",
       "\t\t<dd>'/fast/AG_Bunina/Yusuf/Project_Endothelial_and_Stroke/Datasets/Chromatin_and_Gene_Exp/2023_Zhu_et_al/Zhu_et_al_2023/24_09_24/R_Outputs/Gene_sets_eGRNs/hif1a_GeneSets/ELVIDGE_HIF1A_AND_HIF2A_TARGETS_DN_all_connections_Target_expression_plot.png'</dd>\n",
       "\t<dt>$expression_plot_all_TF</dt>\n",
       "\t\t<dd>'/fast/AG_Bunina/Yusuf/Project_Endothelial_and_Stroke/Datasets/Chromatin_and_Gene_Exp/2023_Zhu_et_al/Zhu_et_al_2023/24_09_24/R_Outputs/Gene_sets_eGRNs/hif1a_GeneSets/ELVIDGE_HIF1A_AND_HIF2A_TARGETS_DN_all_connections_TF_expression_plot.png'</dd>\n",
       "</dl>\n"
      ],
      "text/latex": [
       "\\textbf{\\$ELVIDGE\\_HIF1A\\_AND\\_HIF2A\\_TARGETS\\_DN} = \\begin{description}\n",
       "\\item[\\$expression\\_plot] '/fast/AG\\_Bunina/Yusuf/Project\\_Endothelial\\_and\\_Stroke/Datasets/Chromatin\\_and\\_Gene\\_Exp/2023\\_Zhu\\_et\\_al/Zhu\\_et\\_al\\_2023/24\\_09\\_24/R\\_Outputs/Gene\\_sets\\_eGRNs/hif1a\\_GeneSets/ELVIDGE\\_HIF1A\\_AND\\_HIF2A\\_TARGETS\\_DN\\_overlap\\_expression\\_plot.png'\n",
       "\\item[\\$network\\_plot] '/fast/AG\\_Bunina/Yusuf/Project\\_Endothelial\\_and\\_Stroke/Datasets/Chromatin\\_and\\_Gene\\_Exp/2023\\_Zhu\\_et\\_al/Zhu\\_et\\_al\\_2023/24\\_09\\_24/R\\_Outputs/Gene\\_sets\\_eGRNs/hif1a\\_GeneSets/ELVIDGE\\_HIF1A\\_AND\\_HIF2A\\_TARGETS\\_DN\\_network\\_plot.png'\n",
       "\\item[\\$expression\\_plot\\_all\\_Target] '/fast/AG\\_Bunina/Yusuf/Project\\_Endothelial\\_and\\_Stroke/Datasets/Chromatin\\_and\\_Gene\\_Exp/2023\\_Zhu\\_et\\_al/Zhu\\_et\\_al\\_2023/24\\_09\\_24/R\\_Outputs/Gene\\_sets\\_eGRNs/hif1a\\_GeneSets/ELVIDGE\\_HIF1A\\_AND\\_HIF2A\\_TARGETS\\_DN\\_all\\_connections\\_Target\\_expression\\_plot.png'\n",
       "\\item[\\$expression\\_plot\\_all\\_TF] '/fast/AG\\_Bunina/Yusuf/Project\\_Endothelial\\_and\\_Stroke/Datasets/Chromatin\\_and\\_Gene\\_Exp/2023\\_Zhu\\_et\\_al/Zhu\\_et\\_al\\_2023/24\\_09\\_24/R\\_Outputs/Gene\\_sets\\_eGRNs/hif1a\\_GeneSets/ELVIDGE\\_HIF1A\\_AND\\_HIF2A\\_TARGETS\\_DN\\_all\\_connections\\_TF\\_expression\\_plot.png'\n",
       "\\end{description}\n"
      ],
      "text/markdown": [
       "**$ELVIDGE_HIF1A_AND_HIF2A_TARGETS_DN** = $expression_plot\n",
       ":   '/fast/AG_Bunina/Yusuf/Project_Endothelial_and_Stroke/Datasets/Chromatin_and_Gene_Exp/2023_Zhu_et_al/Zhu_et_al_2023/24_09_24/R_Outputs/Gene_sets_eGRNs/hif1a_GeneSets/ELVIDGE_HIF1A_AND_HIF2A_TARGETS_DN_overlap_expression_plot.png'\n",
       "$network_plot\n",
       ":   '/fast/AG_Bunina/Yusuf/Project_Endothelial_and_Stroke/Datasets/Chromatin_and_Gene_Exp/2023_Zhu_et_al/Zhu_et_al_2023/24_09_24/R_Outputs/Gene_sets_eGRNs/hif1a_GeneSets/ELVIDGE_HIF1A_AND_HIF2A_TARGETS_DN_network_plot.png'\n",
       "$expression_plot_all_Target\n",
       ":   '/fast/AG_Bunina/Yusuf/Project_Endothelial_and_Stroke/Datasets/Chromatin_and_Gene_Exp/2023_Zhu_et_al/Zhu_et_al_2023/24_09_24/R_Outputs/Gene_sets_eGRNs/hif1a_GeneSets/ELVIDGE_HIF1A_AND_HIF2A_TARGETS_DN_all_connections_Target_expression_plot.png'\n",
       "$expression_plot_all_TF\n",
       ":   '/fast/AG_Bunina/Yusuf/Project_Endothelial_and_Stroke/Datasets/Chromatin_and_Gene_Exp/2023_Zhu_et_al/Zhu_et_al_2023/24_09_24/R_Outputs/Gene_sets_eGRNs/hif1a_GeneSets/ELVIDGE_HIF1A_AND_HIF2A_TARGETS_DN_all_connections_TF_expression_plot.png'\n",
       "\n",
       "\n"
      ],
      "text/plain": [
       "$ELVIDGE_HIF1A_AND_HIF2A_TARGETS_DN\n",
       "$ELVIDGE_HIF1A_AND_HIF2A_TARGETS_DN$expression_plot\n",
       "[1] \"/fast/AG_Bunina/Yusuf/Project_Endothelial_and_Stroke/Datasets/Chromatin_and_Gene_Exp/2023_Zhu_et_al/Zhu_et_al_2023/24_09_24/R_Outputs/Gene_sets_eGRNs/hif1a_GeneSets/ELVIDGE_HIF1A_AND_HIF2A_TARGETS_DN_overlap_expression_plot.png\"\n",
       "\n",
       "$ELVIDGE_HIF1A_AND_HIF2A_TARGETS_DN$network_plot\n",
       "[1] \"/fast/AG_Bunina/Yusuf/Project_Endothelial_and_Stroke/Datasets/Chromatin_and_Gene_Exp/2023_Zhu_et_al/Zhu_et_al_2023/24_09_24/R_Outputs/Gene_sets_eGRNs/hif1a_GeneSets/ELVIDGE_HIF1A_AND_HIF2A_TARGETS_DN_network_plot.png\"\n",
       "\n",
       "$ELVIDGE_HIF1A_AND_HIF2A_TARGETS_DN$expression_plot_all_Target\n",
       "[1] \"/fast/AG_Bunina/Yusuf/Project_Endothelial_and_Stroke/Datasets/Chromatin_and_Gene_Exp/2023_Zhu_et_al/Zhu_et_al_2023/24_09_24/R_Outputs/Gene_sets_eGRNs/hif1a_GeneSets/ELVIDGE_HIF1A_AND_HIF2A_TARGETS_DN_all_connections_Target_expression_plot.png\"\n",
       "\n",
       "$ELVIDGE_HIF1A_AND_HIF2A_TARGETS_DN$expression_plot_all_TF\n",
       "[1] \"/fast/AG_Bunina/Yusuf/Project_Endothelial_and_Stroke/Datasets/Chromatin_and_Gene_Exp/2023_Zhu_et_al/Zhu_et_al_2023/24_09_24/R_Outputs/Gene_sets_eGRNs/hif1a_GeneSets/ELVIDGE_HIF1A_AND_HIF2A_TARGETS_DN_all_connections_TF_expression_plot.png\"\n",
       "\n"
      ]
     },
     "metadata": {},
     "output_type": "display_data"
    }
   ],
   "source": [
    "generate_gene_set_visualizations_w_extra_plot_w_cluster_option_network_focused(pando_obj = EC_eGRN_min1_Zhu_et_al_Pando_obj, \n",
    "                                                                               all_gene_sets = all_gene_sets,\n",
    "                                                                               seurat_identity = 'cell_type', \n",
    "                                                                               term_to_search = 'hif1a', \n",
    "                                                                               output_dir = here::here('R_Outputs', 'Gene_sets_eGRNs'), \n",
    "                                                                               num_of_gene_sets = 1, \n",
    "                                                                               aesthetical = TRUE,\n",
    "                                                                               # for cell type specific expression:\n",
    "                                                                               # high_exp_plot = TRUE, # need to adapt the function to use this.\n",
    "                                                                               cell_type_of_interest = \"endothelial cell\",\n",
    "                                                                               group_by = 'cell_type',\n",
    "                                                                               # To restrict network connections only the overlapping genes:\n",
    "                                                                               #network_focused_on = NULL,\n",
    "                                                                               # To create separate expression plots for TF and target genes:\n",
    "                                                                               plot_separate = TRUE\n",
    "                                                                                              )"
   ]
  },
  {
   "cell_type": "markdown",
   "id": "8a17e0c2-4cde-487d-9f56-252e3ec77e00",
   "metadata": {},
   "source": [
    "Below, I will check what the average expression function outputs for the inputted SCT assay."
   ]
  },
  {
   "cell_type": "code",
   "execution_count": 37,
   "id": "1e76f587-527d-4995-8051-b94906a1b3be",
   "metadata": {},
   "outputs": [
    {
     "name": "stderr",
     "output_type": "stream",
     "text": [
      "As of Seurat v5, we recommend using AggregateExpression to perform pseudo-bulk analysis.\n",
      "\u001b[90mThis message is displayed once per session.\u001b[39m\n"
     ]
    }
   ],
   "source": [
    "  avg_expression <- Seurat::AverageExpression(\n",
    "    object = EC_eGRN_min1_Zhu_et_al_Pando_obj@data, \n",
    "    assays = \"SCT\", \n",
    "    layer = \"data\",\n",
    "    group.by = 'cell_type',\n",
    "    # features = available_genes,\n",
    "    return.seurat = FALSE  # Return a data frame for easier handling\n",
    "  )"
   ]
  },
  {
   "cell_type": "code",
   "execution_count": 38,
   "id": "47c065c2-61e2-4623-a914-f781402af594",
   "metadata": {},
   "outputs": [
    {
     "name": "stderr",
     "output_type": "stream",
     "text": [
      "  [[ suppressing 13 column names ‘endothelial cell’, ‘astrocyte’, ‘oligodendrocyte’ ... ]]\n",
      "\n"
     ]
    },
    {
     "data": {
      "text/plain": [
       "6 x 13 sparse Matrix of class \"dgCMatrix\"\n",
       "                                                                        \n",
       "AL627309.1 0.00397878 0.0068855084 0.0020150211 0.0165636042 .          \n",
       "AL627309.5 0.00795756 0.0150520416 0.0080600843 0.0225265018 0.005633803\n",
       "AL669831.2 .          0.0003202562 0.0001831837 0.0002208481 .          \n",
       "LINC01409  0.07692308 0.0936749400 0.0446968309 0.1203621908 0.056338028\n",
       "FAM87B     .          0.0006405124 .            0.0004416961 .          \n",
       "LINC01128  0.11538462 0.0566853483 0.0225315992 0.0408568905 0.036619718\n",
       "                                                                          \n",
       "AL627309.1 0.0025869503 0.005908419 0.0063897764 0.0015128593 0.0040849673\n",
       "AL627309.5 0.0054613395 0.002954210 0.0136163091 0.0083207262 0.0122549020\n",
       "AL669831.2 0.0005748778 .           0.0009888940 0.0007564297 0.0006127451\n",
       "LINC01409  0.0531762001 0.075332349 0.1171458999 0.0620272315 0.0759803922\n",
       "FAM87B     .            .           0.0003042751 0.0022692890 .           \n",
       "LINC01128  0.1075021558 0.066469719 0.1104518485 0.0779122542 0.0302287582\n",
       "                                               \n",
       "AL627309.1 0.002415459 0.0079631182 0.003707627\n",
       "AL627309.5 .           0.0264040235 0.023305085\n",
       "AL669831.2 .           0.0012573345 0.001059322\n",
       "LINC01409  0.038647343 0.0955574183 0.106461864\n",
       "FAM87B     .           0.0004191115 .          \n",
       "LINC01128  0.065217391 0.0863369656 0.096927966"
      ]
     },
     "metadata": {},
     "output_type": "display_data"
    }
   ],
   "source": [
    "avg_expression$SCT %>% head"
   ]
  },
  {
   "cell_type": "code",
   "execution_count": 51,
   "id": "6b3c0e03-3295-4d80-8e5f-0f36e901b957",
   "metadata": {},
   "outputs": [],
   "source": [
    "source(here::here('r_scripts', 'gene_set_analysis_in_eGRNs.R'))"
   ]
  },
  {
   "cell_type": "code",
   "execution_count": 52,
   "id": "2dd67b63-d443-42ac-9156-3a63a28791e0",
   "metadata": {},
   "outputs": [
    {
     "name": "stderr",
     "output_type": "stream",
     "text": [
      "Warning message in dir.create(sub_dir):\n",
      "“'/fast/AG_Bunina/Yusuf/Project_Endothelial_and_Stroke/Datasets/Chromatin_and_Gene_Exp/2023_Zhu_et_al/Zhu_et_al_2023/24_09_24/R_Outputs/Gene_sets_eGRNs/hif1a_GeneSets' already exists”\n",
      "make sure you installed the GGally, network, igraph and ggraph packages :)\n",
      "\n",
      "First option: One can directly use only the node_names parameter to specify \n",
      "          the gene names to visualize in the graph\n",
      "\n",
      "Second option: Use TF-names and/or target genes parameters \n",
      "         to visualize their connections\n",
      "\n",
      "make sure you installed the GGally, network, igraph and ggraph packages :)\n",
      "\n",
      "First option: One can directly use only the node_names parameter to specify \n",
      "          the gene names to visualize in the graph\n",
      "\n",
      "Second option: Use TF-names and/or target genes parameters \n",
      "         to visualize their connections\n",
      "\n"
     ]
    },
    {
     "name": "stdout",
     "output_type": "stream",
     "text": [
      " Network attributes:\n",
      "  vertices = 39 \n",
      "  directed = TRUE \n",
      "  hyper = FALSE \n",
      "  loops = FALSE \n",
      "  multiple = FALSE \n",
      "  bipartite = FALSE \n",
      "  total edges= 35 \n",
      "    missing edges= 0 \n",
      "    non-missing edges= 35 \n",
      "\n",
      " Vertex attribute names: \n",
      "    vertex.names \n",
      "\n",
      "No edge attributes\n"
     ]
    },
    {
     "name": "stderr",
     "output_type": "stream",
     "text": [
      "\u001b[1m\u001b[22mScale for \u001b[32msize\u001b[39m is already present.\n",
      "Adding another scale for \u001b[32msize\u001b[39m, which will replace the existing scale.\n"
     ]
    },
    {
     "data": {
      "text/html": [
       "<strong>$ELVIDGE_HIF1A_AND_HIF2A_TARGETS_DN</strong> = <dl>\n",
       "\t<dt>$expression_plot</dt>\n",
       "\t\t<dd>'/fast/AG_Bunina/Yusuf/Project_Endothelial_and_Stroke/Datasets/Chromatin_and_Gene_Exp/2023_Zhu_et_al/Zhu_et_al_2023/24_09_24/R_Outputs/Gene_sets_eGRNs/hif1a_GeneSets/ELVIDGE_HIF1A_AND_HIF2A_TARGETS_DN_overlap_expression_plot.png'</dd>\n",
       "\t<dt>$network_plot</dt>\n",
       "\t\t<dd>'/fast/AG_Bunina/Yusuf/Project_Endothelial_and_Stroke/Datasets/Chromatin_and_Gene_Exp/2023_Zhu_et_al/Zhu_et_al_2023/24_09_24/R_Outputs/Gene_sets_eGRNs/hif1a_GeneSets/ELVIDGE_HIF1A_AND_HIF2A_TARGETS_DN_network_plot.png'</dd>\n",
       "\t<dt>$expression_plot_all_Target</dt>\n",
       "\t\t<dd>'/fast/AG_Bunina/Yusuf/Project_Endothelial_and_Stroke/Datasets/Chromatin_and_Gene_Exp/2023_Zhu_et_al/Zhu_et_al_2023/24_09_24/R_Outputs/Gene_sets_eGRNs/hif1a_GeneSets/ELVIDGE_HIF1A_AND_HIF2A_TARGETS_DN_all_connections_Target_expression_plot.png'</dd>\n",
       "\t<dt>$expression_plot_all_TF</dt>\n",
       "\t\t<dd>'/fast/AG_Bunina/Yusuf/Project_Endothelial_and_Stroke/Datasets/Chromatin_and_Gene_Exp/2023_Zhu_et_al/Zhu_et_al_2023/24_09_24/R_Outputs/Gene_sets_eGRNs/hif1a_GeneSets/ELVIDGE_HIF1A_AND_HIF2A_TARGETS_DN_all_connections_TF_expression_plot.png'</dd>\n",
       "</dl>\n"
      ],
      "text/latex": [
       "\\textbf{\\$ELVIDGE\\_HIF1A\\_AND\\_HIF2A\\_TARGETS\\_DN} = \\begin{description}\n",
       "\\item[\\$expression\\_plot] '/fast/AG\\_Bunina/Yusuf/Project\\_Endothelial\\_and\\_Stroke/Datasets/Chromatin\\_and\\_Gene\\_Exp/2023\\_Zhu\\_et\\_al/Zhu\\_et\\_al\\_2023/24\\_09\\_24/R\\_Outputs/Gene\\_sets\\_eGRNs/hif1a\\_GeneSets/ELVIDGE\\_HIF1A\\_AND\\_HIF2A\\_TARGETS\\_DN\\_overlap\\_expression\\_plot.png'\n",
       "\\item[\\$network\\_plot] '/fast/AG\\_Bunina/Yusuf/Project\\_Endothelial\\_and\\_Stroke/Datasets/Chromatin\\_and\\_Gene\\_Exp/2023\\_Zhu\\_et\\_al/Zhu\\_et\\_al\\_2023/24\\_09\\_24/R\\_Outputs/Gene\\_sets\\_eGRNs/hif1a\\_GeneSets/ELVIDGE\\_HIF1A\\_AND\\_HIF2A\\_TARGETS\\_DN\\_network\\_plot.png'\n",
       "\\item[\\$expression\\_plot\\_all\\_Target] '/fast/AG\\_Bunina/Yusuf/Project\\_Endothelial\\_and\\_Stroke/Datasets/Chromatin\\_and\\_Gene\\_Exp/2023\\_Zhu\\_et\\_al/Zhu\\_et\\_al\\_2023/24\\_09\\_24/R\\_Outputs/Gene\\_sets\\_eGRNs/hif1a\\_GeneSets/ELVIDGE\\_HIF1A\\_AND\\_HIF2A\\_TARGETS\\_DN\\_all\\_connections\\_Target\\_expression\\_plot.png'\n",
       "\\item[\\$expression\\_plot\\_all\\_TF] '/fast/AG\\_Bunina/Yusuf/Project\\_Endothelial\\_and\\_Stroke/Datasets/Chromatin\\_and\\_Gene\\_Exp/2023\\_Zhu\\_et\\_al/Zhu\\_et\\_al\\_2023/24\\_09\\_24/R\\_Outputs/Gene\\_sets\\_eGRNs/hif1a\\_GeneSets/ELVIDGE\\_HIF1A\\_AND\\_HIF2A\\_TARGETS\\_DN\\_all\\_connections\\_TF\\_expression\\_plot.png'\n",
       "\\end{description}\n"
      ],
      "text/markdown": [
       "**$ELVIDGE_HIF1A_AND_HIF2A_TARGETS_DN** = $expression_plot\n",
       ":   '/fast/AG_Bunina/Yusuf/Project_Endothelial_and_Stroke/Datasets/Chromatin_and_Gene_Exp/2023_Zhu_et_al/Zhu_et_al_2023/24_09_24/R_Outputs/Gene_sets_eGRNs/hif1a_GeneSets/ELVIDGE_HIF1A_AND_HIF2A_TARGETS_DN_overlap_expression_plot.png'\n",
       "$network_plot\n",
       ":   '/fast/AG_Bunina/Yusuf/Project_Endothelial_and_Stroke/Datasets/Chromatin_and_Gene_Exp/2023_Zhu_et_al/Zhu_et_al_2023/24_09_24/R_Outputs/Gene_sets_eGRNs/hif1a_GeneSets/ELVIDGE_HIF1A_AND_HIF2A_TARGETS_DN_network_plot.png'\n",
       "$expression_plot_all_Target\n",
       ":   '/fast/AG_Bunina/Yusuf/Project_Endothelial_and_Stroke/Datasets/Chromatin_and_Gene_Exp/2023_Zhu_et_al/Zhu_et_al_2023/24_09_24/R_Outputs/Gene_sets_eGRNs/hif1a_GeneSets/ELVIDGE_HIF1A_AND_HIF2A_TARGETS_DN_all_connections_Target_expression_plot.png'\n",
       "$expression_plot_all_TF\n",
       ":   '/fast/AG_Bunina/Yusuf/Project_Endothelial_and_Stroke/Datasets/Chromatin_and_Gene_Exp/2023_Zhu_et_al/Zhu_et_al_2023/24_09_24/R_Outputs/Gene_sets_eGRNs/hif1a_GeneSets/ELVIDGE_HIF1A_AND_HIF2A_TARGETS_DN_all_connections_TF_expression_plot.png'\n",
       "\n",
       "\n"
      ],
      "text/plain": [
       "$ELVIDGE_HIF1A_AND_HIF2A_TARGETS_DN\n",
       "$ELVIDGE_HIF1A_AND_HIF2A_TARGETS_DN$expression_plot\n",
       "[1] \"/fast/AG_Bunina/Yusuf/Project_Endothelial_and_Stroke/Datasets/Chromatin_and_Gene_Exp/2023_Zhu_et_al/Zhu_et_al_2023/24_09_24/R_Outputs/Gene_sets_eGRNs/hif1a_GeneSets/ELVIDGE_HIF1A_AND_HIF2A_TARGETS_DN_overlap_expression_plot.png\"\n",
       "\n",
       "$ELVIDGE_HIF1A_AND_HIF2A_TARGETS_DN$network_plot\n",
       "[1] \"/fast/AG_Bunina/Yusuf/Project_Endothelial_and_Stroke/Datasets/Chromatin_and_Gene_Exp/2023_Zhu_et_al/Zhu_et_al_2023/24_09_24/R_Outputs/Gene_sets_eGRNs/hif1a_GeneSets/ELVIDGE_HIF1A_AND_HIF2A_TARGETS_DN_network_plot.png\"\n",
       "\n",
       "$ELVIDGE_HIF1A_AND_HIF2A_TARGETS_DN$expression_plot_all_Target\n",
       "[1] \"/fast/AG_Bunina/Yusuf/Project_Endothelial_and_Stroke/Datasets/Chromatin_and_Gene_Exp/2023_Zhu_et_al/Zhu_et_al_2023/24_09_24/R_Outputs/Gene_sets_eGRNs/hif1a_GeneSets/ELVIDGE_HIF1A_AND_HIF2A_TARGETS_DN_all_connections_Target_expression_plot.png\"\n",
       "\n",
       "$ELVIDGE_HIF1A_AND_HIF2A_TARGETS_DN$expression_plot_all_TF\n",
       "[1] \"/fast/AG_Bunina/Yusuf/Project_Endothelial_and_Stroke/Datasets/Chromatin_and_Gene_Exp/2023_Zhu_et_al/Zhu_et_al_2023/24_09_24/R_Outputs/Gene_sets_eGRNs/hif1a_GeneSets/ELVIDGE_HIF1A_AND_HIF2A_TARGETS_DN_all_connections_TF_expression_plot.png\"\n",
       "\n"
      ]
     },
     "metadata": {},
     "output_type": "display_data"
    }
   ],
   "source": [
    "# I adjusted the function scripts accordingly and now can now set the high_exp_plot parameter TRUE:\n",
    "\n",
    "generate_gene_set_visualizations_w_extra_plot_w_cluster_option_network_focused(pando_obj = EC_eGRN_min1_Zhu_et_al_Pando_obj, \n",
    "                                                                               all_gene_sets = all_gene_sets,\n",
    "                                                                               seurat_identity = 'cell_type', \n",
    "                                                                               term_to_search = 'hif1a', \n",
    "                                                                               output_dir = here::here('R_Outputs', 'Gene_sets_eGRNs'), \n",
    "                                                                               num_of_gene_sets = 1, \n",
    "                                                                               aesthetical = TRUE,\n",
    "                                                                               # for cell type specific expression:\n",
    "                                                                               high_exp_plot = TRUE, # need to adapt the function to use this.\n",
    "                                                                               cell_type_of_interest = \"endothelial cell\",\n",
    "                                                                               group_by = 'cell_type',\n",
    "                                                                               # To restrict network connections only the overlapping genes:\n",
    "                                                                               #network_focused_on = NULL,\n",
    "                                                                               # To create separate expression plots for TF and target genes:\n",
    "                                                                               plot_separate = TRUE\n",
    "                                                                                              )"
   ]
  },
  {
   "cell_type": "code",
   "execution_count": 54,
   "id": "6c4336dc-3cf8-4584-bb90-fe72b1c0b6bc",
   "metadata": {},
   "outputs": [
    {
     "name": "stderr",
     "output_type": "stream",
     "text": [
      "Warning message in dir.create(sub_dir):\n",
      "“'/fast/AG_Bunina/Yusuf/Project_Endothelial_and_Stroke/Datasets/Chromatin_and_Gene_Exp/2023_Zhu_et_al/Zhu_et_al_2023/24_09_24/R_Outputs/Gene_sets_eGRNs/hif1a_GeneSets' already exists”\n",
      "make sure you installed the GGally, network, igraph and ggraph packages :)\n",
      "\n",
      "First option: One can directly use only the node_names parameter to specify \n",
      "          the gene names to visualize in the graph\n",
      "\n",
      "Second option: Use TF-names and/or target genes parameters \n",
      "         to visualize their connections\n",
      "\n",
      "make sure you installed the GGally, network, igraph and ggraph packages :)\n",
      "\n",
      "First option: One can directly use only the node_names parameter to specify \n",
      "          the gene names to visualize in the graph\n",
      "\n",
      "Second option: Use TF-names and/or target genes parameters \n",
      "         to visualize their connections\n",
      "\n"
     ]
    },
    {
     "name": "stdout",
     "output_type": "stream",
     "text": [
      " Network attributes:\n",
      "  vertices = 14 \n",
      "  directed = TRUE \n",
      "  hyper = FALSE \n",
      "  loops = FALSE \n",
      "  multiple = FALSE \n",
      "  bipartite = FALSE \n",
      "  total edges= 10 \n",
      "    missing edges= 0 \n",
      "    non-missing edges= 10 \n",
      "\n",
      " Vertex attribute names: \n",
      "    vertex.names \n",
      "\n",
      "No edge attributes\n"
     ]
    },
    {
     "name": "stderr",
     "output_type": "stream",
     "text": [
      "\u001b[1m\u001b[22mScale for \u001b[32msize\u001b[39m is already present.\n",
      "Adding another scale for \u001b[32msize\u001b[39m, which will replace the existing scale.\n"
     ]
    },
    {
     "data": {
      "text/html": [
       "<strong>$ELVIDGE_HIF1A_AND_HIF2A_TARGETS_DN</strong> = <dl>\n",
       "\t<dt>$expression_plot</dt>\n",
       "\t\t<dd>'/fast/AG_Bunina/Yusuf/Project_Endothelial_and_Stroke/Datasets/Chromatin_and_Gene_Exp/2023_Zhu_et_al/Zhu_et_al_2023/24_09_24/R_Outputs/Gene_sets_eGRNs/hif1a_GeneSets/ELVIDGE_HIF1A_AND_HIF2A_TARGETS_DN_overlap_expression_plot.png'</dd>\n",
       "\t<dt>$network_plot</dt>\n",
       "\t\t<dd>'/fast/AG_Bunina/Yusuf/Project_Endothelial_and_Stroke/Datasets/Chromatin_and_Gene_Exp/2023_Zhu_et_al/Zhu_et_al_2023/24_09_24/R_Outputs/Gene_sets_eGRNs/hif1a_GeneSets/ELVIDGE_HIF1A_AND_HIF2A_TARGETS_DN_network_plot.png'</dd>\n",
       "\t<dt>$expression_plot_all_Target</dt>\n",
       "\t\t<dd>'/fast/AG_Bunina/Yusuf/Project_Endothelial_and_Stroke/Datasets/Chromatin_and_Gene_Exp/2023_Zhu_et_al/Zhu_et_al_2023/24_09_24/R_Outputs/Gene_sets_eGRNs/hif1a_GeneSets/ELVIDGE_HIF1A_AND_HIF2A_TARGETS_DN_all_connections_Target_expression_plot.png'</dd>\n",
       "\t<dt>$expression_plot_all_TF</dt>\n",
       "\t\t<dd>'/fast/AG_Bunina/Yusuf/Project_Endothelial_and_Stroke/Datasets/Chromatin_and_Gene_Exp/2023_Zhu_et_al/Zhu_et_al_2023/24_09_24/R_Outputs/Gene_sets_eGRNs/hif1a_GeneSets/ELVIDGE_HIF1A_AND_HIF2A_TARGETS_DN_all_connections_TF_expression_plot.png'</dd>\n",
       "</dl>\n"
      ],
      "text/latex": [
       "\\textbf{\\$ELVIDGE\\_HIF1A\\_AND\\_HIF2A\\_TARGETS\\_DN} = \\begin{description}\n",
       "\\item[\\$expression\\_plot] '/fast/AG\\_Bunina/Yusuf/Project\\_Endothelial\\_and\\_Stroke/Datasets/Chromatin\\_and\\_Gene\\_Exp/2023\\_Zhu\\_et\\_al/Zhu\\_et\\_al\\_2023/24\\_09\\_24/R\\_Outputs/Gene\\_sets\\_eGRNs/hif1a\\_GeneSets/ELVIDGE\\_HIF1A\\_AND\\_HIF2A\\_TARGETS\\_DN\\_overlap\\_expression\\_plot.png'\n",
       "\\item[\\$network\\_plot] '/fast/AG\\_Bunina/Yusuf/Project\\_Endothelial\\_and\\_Stroke/Datasets/Chromatin\\_and\\_Gene\\_Exp/2023\\_Zhu\\_et\\_al/Zhu\\_et\\_al\\_2023/24\\_09\\_24/R\\_Outputs/Gene\\_sets\\_eGRNs/hif1a\\_GeneSets/ELVIDGE\\_HIF1A\\_AND\\_HIF2A\\_TARGETS\\_DN\\_network\\_plot.png'\n",
       "\\item[\\$expression\\_plot\\_all\\_Target] '/fast/AG\\_Bunina/Yusuf/Project\\_Endothelial\\_and\\_Stroke/Datasets/Chromatin\\_and\\_Gene\\_Exp/2023\\_Zhu\\_et\\_al/Zhu\\_et\\_al\\_2023/24\\_09\\_24/R\\_Outputs/Gene\\_sets\\_eGRNs/hif1a\\_GeneSets/ELVIDGE\\_HIF1A\\_AND\\_HIF2A\\_TARGETS\\_DN\\_all\\_connections\\_Target\\_expression\\_plot.png'\n",
       "\\item[\\$expression\\_plot\\_all\\_TF] '/fast/AG\\_Bunina/Yusuf/Project\\_Endothelial\\_and\\_Stroke/Datasets/Chromatin\\_and\\_Gene\\_Exp/2023\\_Zhu\\_et\\_al/Zhu\\_et\\_al\\_2023/24\\_09\\_24/R\\_Outputs/Gene\\_sets\\_eGRNs/hif1a\\_GeneSets/ELVIDGE\\_HIF1A\\_AND\\_HIF2A\\_TARGETS\\_DN\\_all\\_connections\\_TF\\_expression\\_plot.png'\n",
       "\\end{description}\n"
      ],
      "text/markdown": [
       "**$ELVIDGE_HIF1A_AND_HIF2A_TARGETS_DN** = $expression_plot\n",
       ":   '/fast/AG_Bunina/Yusuf/Project_Endothelial_and_Stroke/Datasets/Chromatin_and_Gene_Exp/2023_Zhu_et_al/Zhu_et_al_2023/24_09_24/R_Outputs/Gene_sets_eGRNs/hif1a_GeneSets/ELVIDGE_HIF1A_AND_HIF2A_TARGETS_DN_overlap_expression_plot.png'\n",
       "$network_plot\n",
       ":   '/fast/AG_Bunina/Yusuf/Project_Endothelial_and_Stroke/Datasets/Chromatin_and_Gene_Exp/2023_Zhu_et_al/Zhu_et_al_2023/24_09_24/R_Outputs/Gene_sets_eGRNs/hif1a_GeneSets/ELVIDGE_HIF1A_AND_HIF2A_TARGETS_DN_network_plot.png'\n",
       "$expression_plot_all_Target\n",
       ":   '/fast/AG_Bunina/Yusuf/Project_Endothelial_and_Stroke/Datasets/Chromatin_and_Gene_Exp/2023_Zhu_et_al/Zhu_et_al_2023/24_09_24/R_Outputs/Gene_sets_eGRNs/hif1a_GeneSets/ELVIDGE_HIF1A_AND_HIF2A_TARGETS_DN_all_connections_Target_expression_plot.png'\n",
       "$expression_plot_all_TF\n",
       ":   '/fast/AG_Bunina/Yusuf/Project_Endothelial_and_Stroke/Datasets/Chromatin_and_Gene_Exp/2023_Zhu_et_al/Zhu_et_al_2023/24_09_24/R_Outputs/Gene_sets_eGRNs/hif1a_GeneSets/ELVIDGE_HIF1A_AND_HIF2A_TARGETS_DN_all_connections_TF_expression_plot.png'\n",
       "\n",
       "\n"
      ],
      "text/plain": [
       "$ELVIDGE_HIF1A_AND_HIF2A_TARGETS_DN\n",
       "$ELVIDGE_HIF1A_AND_HIF2A_TARGETS_DN$expression_plot\n",
       "[1] \"/fast/AG_Bunina/Yusuf/Project_Endothelial_and_Stroke/Datasets/Chromatin_and_Gene_Exp/2023_Zhu_et_al/Zhu_et_al_2023/24_09_24/R_Outputs/Gene_sets_eGRNs/hif1a_GeneSets/ELVIDGE_HIF1A_AND_HIF2A_TARGETS_DN_overlap_expression_plot.png\"\n",
       "\n",
       "$ELVIDGE_HIF1A_AND_HIF2A_TARGETS_DN$network_plot\n",
       "[1] \"/fast/AG_Bunina/Yusuf/Project_Endothelial_and_Stroke/Datasets/Chromatin_and_Gene_Exp/2023_Zhu_et_al/Zhu_et_al_2023/24_09_24/R_Outputs/Gene_sets_eGRNs/hif1a_GeneSets/ELVIDGE_HIF1A_AND_HIF2A_TARGETS_DN_network_plot.png\"\n",
       "\n",
       "$ELVIDGE_HIF1A_AND_HIF2A_TARGETS_DN$expression_plot_all_Target\n",
       "[1] \"/fast/AG_Bunina/Yusuf/Project_Endothelial_and_Stroke/Datasets/Chromatin_and_Gene_Exp/2023_Zhu_et_al/Zhu_et_al_2023/24_09_24/R_Outputs/Gene_sets_eGRNs/hif1a_GeneSets/ELVIDGE_HIF1A_AND_HIF2A_TARGETS_DN_all_connections_Target_expression_plot.png\"\n",
       "\n",
       "$ELVIDGE_HIF1A_AND_HIF2A_TARGETS_DN$expression_plot_all_TF\n",
       "[1] \"/fast/AG_Bunina/Yusuf/Project_Endothelial_and_Stroke/Datasets/Chromatin_and_Gene_Exp/2023_Zhu_et_al/Zhu_et_al_2023/24_09_24/R_Outputs/Gene_sets_eGRNs/hif1a_GeneSets/ELVIDGE_HIF1A_AND_HIF2A_TARGETS_DN_all_connections_TF_expression_plot.png\"\n",
       "\n"
      ]
     },
     "metadata": {},
     "output_type": "display_data"
    }
   ],
   "source": [
    "# I adjusted the function scripts accordingly and now can now set the high_exp_plot parameter TRUE:\n",
    "\n",
    "generate_gene_set_visualizations_w_extra_plot_w_cluster_option_network_focused(pando_obj = EC_eGRN_min1_Zhu_et_al_Pando_obj, \n",
    "                                                                               all_gene_sets = all_gene_sets,\n",
    "                                                                               seurat_identity = 'cell_type', \n",
    "                                                                               term_to_search = 'hif1a', \n",
    "                                                                               output_dir = here::here('R_Outputs', 'Gene_sets_eGRNs'), \n",
    "                                                                               num_of_gene_sets = 1, \n",
    "                                                                               aesthetical = TRUE,\n",
    "                                                                               # for cell type specific expression:\n",
    "                                                                               high_exp_plot = TRUE, # need to adapt the function to use this.\n",
    "                                                                               cell_type_of_interest = \"endothelial cell\",\n",
    "                                                                               group_by = 'cell_type',\n",
    "                                                                               # To restrict network connections only the overlapping genes:\n",
    "                                                                               network_focused_on = c('target'),\n",
    "                                                                               # To create separate expression plots for TF and target genes:\n",
    "                                                                               plot_separate = TRUE\n",
    "                                                                                              )"
   ]
  },
  {
   "cell_type": "code",
   "execution_count": 58,
   "id": "f90095f2-a2a2-4853-8d28-4de95f2abb04",
   "metadata": {},
   "outputs": [],
   "source": [
    "source(here::here('r_scripts', 'gene_set_analysis_in_eGRNs.R'))"
   ]
  },
  {
   "cell_type": "code",
   "execution_count": 59,
   "id": "a6545b65-2df4-43e9-ba23-112a8aae4c92",
   "metadata": {},
   "outputs": [
    {
     "name": "stderr",
     "output_type": "stream",
     "text": [
      "Warning message in dir.create(sub_dir):\n",
      "“'/fast/AG_Bunina/Yusuf/Project_Endothelial_and_Stroke/Datasets/Chromatin_and_Gene_Exp/2023_Zhu_et_al/Zhu_et_al_2023/24_09_24/R_Outputs/Gene_sets_eGRNs/hif1a_GeneSets' already exists”\n",
      "make sure you installed the GGally, network, igraph and ggraph packages :)\n",
      "\n",
      "First option: One can directly use only the node_names parameter to specify \n",
      "          the gene names to visualize in the graph\n",
      "\n",
      "Second option: Use TF-names and/or target genes parameters \n",
      "         to visualize their connections\n",
      "\n",
      "make sure you installed the GGally, network, igraph and ggraph packages :)\n",
      "\n",
      "First option: One can directly use only the node_names parameter to specify \n",
      "          the gene names to visualize in the graph\n",
      "\n",
      "Second option: Use TF-names and/or target genes parameters \n",
      "         to visualize their connections\n",
      "\n"
     ]
    },
    {
     "name": "stdout",
     "output_type": "stream",
     "text": [
      " Network attributes:\n",
      "  vertices = 14 \n",
      "  directed = TRUE \n",
      "  hyper = FALSE \n",
      "  loops = FALSE \n",
      "  multiple = FALSE \n",
      "  bipartite = FALSE \n",
      "  total edges= 10 \n",
      "    missing edges= 0 \n",
      "    non-missing edges= 10 \n",
      "\n",
      " Vertex attribute names: \n",
      "    vertex.names \n",
      "\n",
      "No edge attributes\n"
     ]
    },
    {
     "name": "stderr",
     "output_type": "stream",
     "text": [
      "\u001b[1m\u001b[22mScale for \u001b[32msize\u001b[39m is already present.\n",
      "Adding another scale for \u001b[32msize\u001b[39m, which will replace the existing scale.\n"
     ]
    },
    {
     "name": "stdout",
     "output_type": "stream",
     "text": [
      " [1] \"BACH1\"   \"ERG\"     \"FOXQ1\"   \"ID1\"     \"JUN\"     \"KLF2\"    \"MECOM\"  \n",
      " [8] \"REL\"     \"TBX3\"    \"PDGFB\"   \"EGR1\"    \"FOS\"     \"SLC2A1\"  \"BHLHE40\"\n"
     ]
    },
    {
     "data": {
      "text/html": [
       "<strong>$ELVIDGE_HIF1A_AND_HIF2A_TARGETS_DN</strong> = <dl>\n",
       "\t<dt>$expression_plot</dt>\n",
       "\t\t<dd>'/fast/AG_Bunina/Yusuf/Project_Endothelial_and_Stroke/Datasets/Chromatin_and_Gene_Exp/2023_Zhu_et_al/Zhu_et_al_2023/24_09_24/R_Outputs/Gene_sets_eGRNs/hif1a_GeneSets/ELVIDGE_HIF1A_AND_HIF2A_TARGETS_DN_overlap_expression_plot.png'</dd>\n",
       "\t<dt>$network_plot</dt>\n",
       "\t\t<dd>'/fast/AG_Bunina/Yusuf/Project_Endothelial_and_Stroke/Datasets/Chromatin_and_Gene_Exp/2023_Zhu_et_al/Zhu_et_al_2023/24_09_24/R_Outputs/Gene_sets_eGRNs/hif1a_GeneSets/ELVIDGE_HIF1A_AND_HIF2A_TARGETS_DN_network_plot.png'</dd>\n",
       "\t<dt>$expression_plot_all_Target</dt>\n",
       "\t\t<dd>'/fast/AG_Bunina/Yusuf/Project_Endothelial_and_Stroke/Datasets/Chromatin_and_Gene_Exp/2023_Zhu_et_al/Zhu_et_al_2023/24_09_24/R_Outputs/Gene_sets_eGRNs/hif1a_GeneSets/ELVIDGE_HIF1A_AND_HIF2A_TARGETS_DN_all_connections_Target_expression_plot.png'</dd>\n",
       "\t<dt>$expression_plot_all_TF</dt>\n",
       "\t\t<dd>'/fast/AG_Bunina/Yusuf/Project_Endothelial_and_Stroke/Datasets/Chromatin_and_Gene_Exp/2023_Zhu_et_al/Zhu_et_al_2023/24_09_24/R_Outputs/Gene_sets_eGRNs/hif1a_GeneSets/ELVIDGE_HIF1A_AND_HIF2A_TARGETS_DN_all_connections_TF_expression_plot.png'</dd>\n",
       "</dl>\n"
      ],
      "text/latex": [
       "\\textbf{\\$ELVIDGE\\_HIF1A\\_AND\\_HIF2A\\_TARGETS\\_DN} = \\begin{description}\n",
       "\\item[\\$expression\\_plot] '/fast/AG\\_Bunina/Yusuf/Project\\_Endothelial\\_and\\_Stroke/Datasets/Chromatin\\_and\\_Gene\\_Exp/2023\\_Zhu\\_et\\_al/Zhu\\_et\\_al\\_2023/24\\_09\\_24/R\\_Outputs/Gene\\_sets\\_eGRNs/hif1a\\_GeneSets/ELVIDGE\\_HIF1A\\_AND\\_HIF2A\\_TARGETS\\_DN\\_overlap\\_expression\\_plot.png'\n",
       "\\item[\\$network\\_plot] '/fast/AG\\_Bunina/Yusuf/Project\\_Endothelial\\_and\\_Stroke/Datasets/Chromatin\\_and\\_Gene\\_Exp/2023\\_Zhu\\_et\\_al/Zhu\\_et\\_al\\_2023/24\\_09\\_24/R\\_Outputs/Gene\\_sets\\_eGRNs/hif1a\\_GeneSets/ELVIDGE\\_HIF1A\\_AND\\_HIF2A\\_TARGETS\\_DN\\_network\\_plot.png'\n",
       "\\item[\\$expression\\_plot\\_all\\_Target] '/fast/AG\\_Bunina/Yusuf/Project\\_Endothelial\\_and\\_Stroke/Datasets/Chromatin\\_and\\_Gene\\_Exp/2023\\_Zhu\\_et\\_al/Zhu\\_et\\_al\\_2023/24\\_09\\_24/R\\_Outputs/Gene\\_sets\\_eGRNs/hif1a\\_GeneSets/ELVIDGE\\_HIF1A\\_AND\\_HIF2A\\_TARGETS\\_DN\\_all\\_connections\\_Target\\_expression\\_plot.png'\n",
       "\\item[\\$expression\\_plot\\_all\\_TF] '/fast/AG\\_Bunina/Yusuf/Project\\_Endothelial\\_and\\_Stroke/Datasets/Chromatin\\_and\\_Gene\\_Exp/2023\\_Zhu\\_et\\_al/Zhu\\_et\\_al\\_2023/24\\_09\\_24/R\\_Outputs/Gene\\_sets\\_eGRNs/hif1a\\_GeneSets/ELVIDGE\\_HIF1A\\_AND\\_HIF2A\\_TARGETS\\_DN\\_all\\_connections\\_TF\\_expression\\_plot.png'\n",
       "\\end{description}\n"
      ],
      "text/markdown": [
       "**$ELVIDGE_HIF1A_AND_HIF2A_TARGETS_DN** = $expression_plot\n",
       ":   '/fast/AG_Bunina/Yusuf/Project_Endothelial_and_Stroke/Datasets/Chromatin_and_Gene_Exp/2023_Zhu_et_al/Zhu_et_al_2023/24_09_24/R_Outputs/Gene_sets_eGRNs/hif1a_GeneSets/ELVIDGE_HIF1A_AND_HIF2A_TARGETS_DN_overlap_expression_plot.png'\n",
       "$network_plot\n",
       ":   '/fast/AG_Bunina/Yusuf/Project_Endothelial_and_Stroke/Datasets/Chromatin_and_Gene_Exp/2023_Zhu_et_al/Zhu_et_al_2023/24_09_24/R_Outputs/Gene_sets_eGRNs/hif1a_GeneSets/ELVIDGE_HIF1A_AND_HIF2A_TARGETS_DN_network_plot.png'\n",
       "$expression_plot_all_Target\n",
       ":   '/fast/AG_Bunina/Yusuf/Project_Endothelial_and_Stroke/Datasets/Chromatin_and_Gene_Exp/2023_Zhu_et_al/Zhu_et_al_2023/24_09_24/R_Outputs/Gene_sets_eGRNs/hif1a_GeneSets/ELVIDGE_HIF1A_AND_HIF2A_TARGETS_DN_all_connections_Target_expression_plot.png'\n",
       "$expression_plot_all_TF\n",
       ":   '/fast/AG_Bunina/Yusuf/Project_Endothelial_and_Stroke/Datasets/Chromatin_and_Gene_Exp/2023_Zhu_et_al/Zhu_et_al_2023/24_09_24/R_Outputs/Gene_sets_eGRNs/hif1a_GeneSets/ELVIDGE_HIF1A_AND_HIF2A_TARGETS_DN_all_connections_TF_expression_plot.png'\n",
       "\n",
       "\n"
      ],
      "text/plain": [
       "$ELVIDGE_HIF1A_AND_HIF2A_TARGETS_DN\n",
       "$ELVIDGE_HIF1A_AND_HIF2A_TARGETS_DN$expression_plot\n",
       "[1] \"/fast/AG_Bunina/Yusuf/Project_Endothelial_and_Stroke/Datasets/Chromatin_and_Gene_Exp/2023_Zhu_et_al/Zhu_et_al_2023/24_09_24/R_Outputs/Gene_sets_eGRNs/hif1a_GeneSets/ELVIDGE_HIF1A_AND_HIF2A_TARGETS_DN_overlap_expression_plot.png\"\n",
       "\n",
       "$ELVIDGE_HIF1A_AND_HIF2A_TARGETS_DN$network_plot\n",
       "[1] \"/fast/AG_Bunina/Yusuf/Project_Endothelial_and_Stroke/Datasets/Chromatin_and_Gene_Exp/2023_Zhu_et_al/Zhu_et_al_2023/24_09_24/R_Outputs/Gene_sets_eGRNs/hif1a_GeneSets/ELVIDGE_HIF1A_AND_HIF2A_TARGETS_DN_network_plot.png\"\n",
       "\n",
       "$ELVIDGE_HIF1A_AND_HIF2A_TARGETS_DN$expression_plot_all_Target\n",
       "[1] \"/fast/AG_Bunina/Yusuf/Project_Endothelial_and_Stroke/Datasets/Chromatin_and_Gene_Exp/2023_Zhu_et_al/Zhu_et_al_2023/24_09_24/R_Outputs/Gene_sets_eGRNs/hif1a_GeneSets/ELVIDGE_HIF1A_AND_HIF2A_TARGETS_DN_all_connections_Target_expression_plot.png\"\n",
       "\n",
       "$ELVIDGE_HIF1A_AND_HIF2A_TARGETS_DN$expression_plot_all_TF\n",
       "[1] \"/fast/AG_Bunina/Yusuf/Project_Endothelial_and_Stroke/Datasets/Chromatin_and_Gene_Exp/2023_Zhu_et_al/Zhu_et_al_2023/24_09_24/R_Outputs/Gene_sets_eGRNs/hif1a_GeneSets/ELVIDGE_HIF1A_AND_HIF2A_TARGETS_DN_all_connections_TF_expression_plot.png\"\n",
       "\n"
      ]
     },
     "metadata": {},
     "output_type": "display_data"
    }
   ],
   "source": [
    "# Another change was done in the script:\n",
    "\n",
    "generate_gene_set_visualizations_w_extra_plot_w_cluster_option_network_focused(pando_obj = EC_eGRN_min1_Zhu_et_al_Pando_obj, \n",
    "                                                                               all_gene_sets = all_gene_sets,\n",
    "                                                                               seurat_identity = 'cell_type', \n",
    "                                                                               term_to_search = 'hif1a', \n",
    "                                                                               output_dir = here::here('R_Outputs', 'Gene_sets_eGRNs'), \n",
    "                                                                               num_of_gene_sets = 1, \n",
    "                                                                               aesthetical = TRUE,\n",
    "                                                                               # for cell type specific expression:\n",
    "                                                                               high_exp_plot = TRUE, # need to adapt the function to use this.\n",
    "                                                                               cell_type_of_interest = \"endothelial cell\",\n",
    "                                                                               group_by = 'cell_type',\n",
    "                                                                               # To restrict network connections only the overlapping genes:\n",
    "                                                                               network_focused_on = c('target'),\n",
    "                                                                               # To create separate expression plots for TF and target genes:\n",
    "                                                                               plot_separate = TRUE\n",
    "                                                                                              )"
   ]
  },
  {
   "cell_type": "code",
   "execution_count": 62,
   "id": "28be9bbd-9309-401f-8edd-12b31544c450",
   "metadata": {},
   "outputs": [
    {
     "name": "stdout",
     "output_type": "stream",
     "text": [
      " Network attributes:\n",
      "  vertices = 705 \n",
      "  directed = TRUE \n",
      "  hyper = FALSE \n",
      "  loops = FALSE \n",
      "  multiple = FALSE \n",
      "  bipartite = FALSE \n",
      "  total edges= 1210 \n",
      "    missing edges= 0 \n",
      "    non-missing edges= 1210 \n",
      "\n",
      " Vertex attribute names: \n",
      "    vertex.names \n",
      "\n",
      " Edge attribute names not shown \n"
     ]
    },
    {
     "name": "stderr",
     "output_type": "stream",
     "text": [
      "\u001b[1m\u001b[22mScale for \u001b[32msize\u001b[39m is already present.\n",
      "Adding another scale for \u001b[32msize\u001b[39m, which will replace the existing scale.\n"
     ]
    }
   ],
   "source": [
    "p1 <- vis_subnetwork_w_GGNET2(meta_DF = EC_eGRN_min1_Zhu_et_al_Pando_obj %>% NetworkModules %>% .@meta)"
   ]
  },
  {
   "cell_type": "code",
   "execution_count": 65,
   "id": "2800431b-f169-4284-9cf4-bdabad1af416",
   "metadata": {},
   "outputs": [
    {
     "data": {
      "text/html": [
       "<table class=\"dataframe\">\n",
       "<caption>A data.frame: 6 × 7</caption>\n",
       "<thead>\n",
       "\t<tr><th></th><th scope=col>label</th><th scope=col>alpha</th><th scope=col>color</th><th scope=col>shape</th><th scope=col>size</th><th scope=col>x</th><th scope=col>y</th></tr>\n",
       "\t<tr><th></th><th scope=col>&lt;chr&gt;</th><th scope=col>&lt;dbl&gt;</th><th scope=col>&lt;chr&gt;</th><th scope=col>&lt;dbl&gt;</th><th scope=col>&lt;chr&gt;</th><th scope=col>&lt;dbl&gt;</th><th scope=col>&lt;dbl&gt;</th></tr>\n",
       "</thead>\n",
       "<tbody>\n",
       "\t<tr><th scope=row>1</th><td>AEBP2 </td><td>0.7</td><td>TF</td><td>19</td><td>repressor</td><td>0.5996259</td><td>0.6774502</td></tr>\n",
       "\t<tr><th scope=row>2</th><td>ALX4  </td><td>0.7</td><td>TF</td><td>19</td><td>repressor</td><td>0.7734529</td><td>0.2624542</td></tr>\n",
       "\t<tr><th scope=row>3</th><td>AR    </td><td>0.7</td><td>TF</td><td>19</td><td>repressor</td><td>0.4025981</td><td>0.6332325</td></tr>\n",
       "\t<tr><th scope=row>4</th><td>ARID3A</td><td>0.7</td><td>TF</td><td>19</td><td>repressor</td><td>0.1815556</td><td>0.6420837</td></tr>\n",
       "\t<tr><th scope=row>5</th><td>ARNT2 </td><td>0.7</td><td>TF</td><td>19</td><td>repressor</td><td>0.3380087</td><td>0.5385508</td></tr>\n",
       "\t<tr><th scope=row>6</th><td>ARX   </td><td>0.7</td><td>TF</td><td>19</td><td>repressor</td><td>0.5439480</td><td>0.3956670</td></tr>\n",
       "</tbody>\n",
       "</table>\n"
      ],
      "text/latex": [
       "A data.frame: 6 × 7\n",
       "\\begin{tabular}{r|lllllll}\n",
       "  & label & alpha & color & shape & size & x & y\\\\\n",
       "  & <chr> & <dbl> & <chr> & <dbl> & <chr> & <dbl> & <dbl>\\\\\n",
       "\\hline\n",
       "\t1 & AEBP2  & 0.7 & TF & 19 & repressor & 0.5996259 & 0.6774502\\\\\n",
       "\t2 & ALX4   & 0.7 & TF & 19 & repressor & 0.7734529 & 0.2624542\\\\\n",
       "\t3 & AR     & 0.7 & TF & 19 & repressor & 0.4025981 & 0.6332325\\\\\n",
       "\t4 & ARID3A & 0.7 & TF & 19 & repressor & 0.1815556 & 0.6420837\\\\\n",
       "\t5 & ARNT2  & 0.7 & TF & 19 & repressor & 0.3380087 & 0.5385508\\\\\n",
       "\t6 & ARX    & 0.7 & TF & 19 & repressor & 0.5439480 & 0.3956670\\\\\n",
       "\\end{tabular}\n"
      ],
      "text/markdown": [
       "\n",
       "A data.frame: 6 × 7\n",
       "\n",
       "| <!--/--> | label &lt;chr&gt; | alpha &lt;dbl&gt; | color &lt;chr&gt; | shape &lt;dbl&gt; | size &lt;chr&gt; | x &lt;dbl&gt; | y &lt;dbl&gt; |\n",
       "|---|---|---|---|---|---|---|---|\n",
       "| 1 | AEBP2  | 0.7 | TF | 19 | repressor | 0.5996259 | 0.6774502 |\n",
       "| 2 | ALX4   | 0.7 | TF | 19 | repressor | 0.7734529 | 0.2624542 |\n",
       "| 3 | AR     | 0.7 | TF | 19 | repressor | 0.4025981 | 0.6332325 |\n",
       "| 4 | ARID3A | 0.7 | TF | 19 | repressor | 0.1815556 | 0.6420837 |\n",
       "| 5 | ARNT2  | 0.7 | TF | 19 | repressor | 0.3380087 | 0.5385508 |\n",
       "| 6 | ARX    | 0.7 | TF | 19 | repressor | 0.5439480 | 0.3956670 |\n",
       "\n"
      ],
      "text/plain": [
       "  label  alpha color shape size      x         y        \n",
       "1 AEBP2  0.7   TF    19    repressor 0.5996259 0.6774502\n",
       "2 ALX4   0.7   TF    19    repressor 0.7734529 0.2624542\n",
       "3 AR     0.7   TF    19    repressor 0.4025981 0.6332325\n",
       "4 ARID3A 0.7   TF    19    repressor 0.1815556 0.6420837\n",
       "5 ARNT2  0.7   TF    19    repressor 0.3380087 0.5385508\n",
       "6 ARX    0.7   TF    19    repressor 0.5439480 0.3956670"
      ]
     },
     "metadata": {},
     "output_type": "display_data"
    }
   ],
   "source": [
    "p1$data %>% head"
   ]
  },
  {
   "cell_type": "code",
   "execution_count": 66,
   "id": "f541ffb8-62cb-449d-ac88-35a04a59d383",
   "metadata": {},
   "outputs": [
    {
     "data": {
      "text/html": [
       "'character'"
      ],
      "text/latex": [
       "'character'"
      ],
      "text/markdown": [
       "'character'"
      ],
      "text/plain": [
       "[1] \"character\""
      ]
     },
     "metadata": {},
     "output_type": "display_data"
    }
   ],
   "source": [
    "p1$data$color %>% class"
   ]
  },
  {
   "cell_type": "code",
   "execution_count": 69,
   "id": "1c829652-acc0-4f8e-9edf-d8bc927e6bd7",
   "metadata": {},
   "outputs": [
    {
     "data": {
      "text/html": [
       "<style>\n",
       ".list-inline {list-style: none; margin:0; padding: 0}\n",
       ".list-inline>li {display: inline-block}\n",
       ".list-inline>li:not(:last-child)::after {content: \"\\00b7\"; padding: 0 .5ex}\n",
       "</style>\n",
       "<ol class=list-inline><li>'ATP2B1'</li><li>'CAMK1D'</li><li>'CNTNAP2'</li><li>'DMD'</li><li>'NHSL1'</li><li>'PLCB1'</li></ol>\n"
      ],
      "text/latex": [
       "\\begin{enumerate*}\n",
       "\\item 'ATP2B1'\n",
       "\\item 'CAMK1D'\n",
       "\\item 'CNTNAP2'\n",
       "\\item 'DMD'\n",
       "\\item 'NHSL1'\n",
       "\\item 'PLCB1'\n",
       "\\end{enumerate*}\n"
      ],
      "text/markdown": [
       "1. 'ATP2B1'\n",
       "2. 'CAMK1D'\n",
       "3. 'CNTNAP2'\n",
       "4. 'DMD'\n",
       "5. 'NHSL1'\n",
       "6. 'PLCB1'\n",
       "\n",
       "\n"
      ],
      "text/plain": [
       "[1] \"ATP2B1\"  \"CAMK1D\"  \"CNTNAP2\" \"DMD\"     \"NHSL1\"   \"PLCB1\"  "
      ]
     },
     "metadata": {},
     "output_type": "display_data"
    }
   ],
   "source": [
    "p1$data %>% filter(color %in% 'target') %>% pull(label) %>% unique %>% head"
   ]
  },
  {
   "cell_type": "code",
   "execution_count": 70,
   "id": "fb4fa580-a90b-465c-8b38-57f054dd418c",
   "metadata": {},
   "outputs": [
    {
     "data": {
      "text/plain": [
       "R version 4.4.1 (2024-06-14)\n",
       "Platform: x86_64-unknown-linux-gnu\n",
       "Running under: Red Hat Enterprise Linux 9.4 (Plow)\n",
       "\n",
       "Matrix products: default\n",
       "BLAS/LAPACK: /gnu/store/mvbj21lcf387dgs04d29n0sxrydq03a6-openblas-0.3.20/lib/libopenblasp-r0.3.20.so;  LAPACK version 3.9.0\n",
       "\n",
       "locale:\n",
       " [1] LC_CTYPE=en_GB.UTF-8       LC_NUMERIC=C              \n",
       " [3] LC_TIME=en_GB.UTF-8        LC_COLLATE=en_GB.UTF-8    \n",
       " [5] LC_MONETARY=en_GB.UTF-8    LC_MESSAGES=en_GB.UTF-8   \n",
       " [7] LC_PAPER=en_GB.UTF-8       LC_NAME=C                 \n",
       " [9] LC_ADDRESS=C               LC_TELEPHONE=C            \n",
       "[11] LC_MEASUREMENT=en_GB.UTF-8 LC_IDENTIFICATION=C       \n",
       "\n",
       "time zone: Europe/Berlin\n",
       "tzcode source: system (glibc)\n",
       "\n",
       "attached base packages:\n",
       "[1] stats     graphics  grDevices utils     datasets  methods   base     \n",
       "\n",
       "other attached packages:\n",
       " [1] ggraph_2.2.1       igraph_2.0.3       network_1.18.2     GGally_2.2.1      \n",
       " [5] msigdbr_7.5.1      patchwork_1.2.0    here_1.0.1         Pando_1.1.1       \n",
       " [9] Signac_1.14.0      Seurat_5.1.0       SeuratObject_5.0.2 sp_2.1-4          \n",
       "[13] lubridate_1.9.3    forcats_1.0.0      stringr_1.5.1      dplyr_1.1.4       \n",
       "[17] purrr_1.0.2        readr_2.1.5        tidyr_1.3.1        tibble_3.2.1      \n",
       "[21] ggplot2_3.5.1      tidyverse_2.0.0   \n",
       "\n",
       "loaded via a namespace (and not attached):\n",
       "  [1] RcppAnnoy_0.0.22         splines_4.4.1            later_1.3.2             \n",
       "  [4] prismatic_1.1.2          pbdZMQ_0.3-11            bitops_1.0-8            \n",
       "  [7] polyclip_1.10-7          janitor_2.2.0            fastDummies_1.7.4       \n",
       " [10] lifecycle_1.0.4          rprojroot_2.0.4          globals_0.16.3          \n",
       " [13] lattice_0.22-6           pals_1.9                 MASS_7.3-61             \n",
       " [16] magrittr_2.0.3           plotly_4.10.4            httpuv_1.6.15           \n",
       " [19] sctransform_0.4.1        spam_2.10-0              spatstat.sparse_3.1-0   \n",
       " [22] reticulate_1.38.0        cowplot_1.1.3            mapproj_1.2.11          \n",
       " [25] pbapply_1.7-2            RColorBrewer_1.1-3       maps_3.4.2              \n",
       " [28] abind_1.4-5              Rtsne_0.17               GenomicRanges_1.56.1    \n",
       " [31] BiocGenerics_0.50.0      RCurl_1.98-1.16          tweenr_2.0.3            \n",
       " [34] circlize_0.4.16          GenomeInfoDbData_1.2.12  IRanges_2.38.1          \n",
       " [37] S4Vectors_0.42.1         ggrepel_0.9.5            irlba_2.3.5.1           \n",
       " [40] listenv_0.9.1            spatstat.utils_3.1-0     goftest_1.2-3           \n",
       " [43] RSpectra_0.16-2          spatstat.random_3.3-1    fitdistrplus_1.2-1      \n",
       " [46] parallelly_1.38.0        scCustomize_3.0.1        leiden_0.4.3.1          \n",
       " [49] codetools_0.2-20         RcppRoll_0.3.1           ggforce_0.4.2           \n",
       " [52] shape_1.4.6.1            tidyselect_1.2.1         UCSC.utils_1.0.0        \n",
       " [55] farver_2.1.2             viridis_0.6.5            matrixStats_1.3.0       \n",
       " [58] stats4_4.4.1             base64enc_0.1-3          spatstat.explore_3.3-2  \n",
       " [61] jsonlite_1.8.8           tidygraph_1.3.1          progressr_0.14.0        \n",
       " [64] ggridges_0.5.6           survival_3.7-0           systemfonts_1.1.0       \n",
       " [67] tools_4.4.1              ragg_1.3.2               sna_2.7-2               \n",
       " [70] ica_1.0-3                Rcpp_1.0.13              glue_1.7.0              \n",
       " [73] gridExtra_2.3            MatrixGenerics_1.16.0    GenomeInfoDb_1.40.1     \n",
       " [76] IRdisplay_1.1            withr_3.0.1              fastmap_1.2.0           \n",
       " [79] fansi_1.0.6              ggpointdensity_0.1.0     digest_0.6.37           \n",
       " [82] timechange_0.3.0         R6_2.5.1                 mime_0.12               \n",
       " [85] textshaping_0.4.0        ggprism_1.0.5            colorspace_2.1-1        \n",
       " [88] scattermore_1.2          tensor_1.5               dichromat_2.0-0.1       \n",
       " [91] spatstat.data_3.1-2      utf8_1.2.4               generics_0.1.3          \n",
       " [94] data.table_1.16.0        graphlayouts_1.1.1       httr_1.4.7              \n",
       " [97] htmlwidgets_1.6.4        ggstats_0.6.0            uwot_0.2.2              \n",
       "[100] pkgconfig_2.0.3          gtable_0.3.5             lmtest_0.9-40           \n",
       "[103] XVector_0.44.0           htmltools_0.5.8.1        dotCall64_1.1-1         \n",
       "[106] scales_1.3.0             png_0.1-8                snakecase_0.11.1        \n",
       "[109] spatstat.univar_3.0-0    rstudioapi_0.16.0        tzdb_0.4.0              \n",
       "[112] reshape2_1.4.4           uuid_1.2-1               coda_0.19-4.1           \n",
       "[115] statnet.common_4.9.0     nlme_3.1-166             GlobalOptions_0.1.2     \n",
       "[118] repr_1.1.7               zoo_1.8-12               cachem_1.1.0            \n",
       "[121] KernSmooth_2.23-24       vipor_0.4.7              parallel_4.4.1          \n",
       "[124] miniUI_0.1.1.1           ggrastr_1.0.2            pillar_1.9.0            \n",
       "[127] grid_4.4.1               vctrs_0.6.5              RANN_2.6.2              \n",
       "[130] promises_1.3.0           xtable_1.8-4             cluster_2.1.6           \n",
       "[133] paletteer_1.6.0          beeswarm_0.4.0           evaluate_0.24.0         \n",
       "[136] cli_3.6.3                compiler_4.4.1           Rsamtools_2.20.0        \n",
       "[139] rlang_1.1.4              crayon_1.5.3             future.apply_1.11.2     \n",
       "[142] labeling_0.4.3           rematch2_2.1.2           ggbeeswarm_0.7.2        \n",
       "[145] plyr_1.8.9               stringi_1.8.4            viridisLite_0.4.2       \n",
       "[148] deldir_2.0-4             BiocParallel_1.38.0      babelgene_22.9          \n",
       "[151] munsell_0.5.1            Biostrings_2.72.1        lazyeval_0.2.2          \n",
       "[154] spatstat.geom_3.3-2      Matrix_1.7-0             IRkernel_1.3.2          \n",
       "[157] RcppHNSW_0.6.0           hms_1.1.3                sparseMatrixStats_1.16.0\n",
       "[160] future_1.34.0            shiny_1.9.1              ROCR_1.0-11             \n",
       "[163] memoise_2.0.1            fastmatch_1.1-4         "
      ]
     },
     "metadata": {},
     "output_type": "display_data"
    }
   ],
   "source": [
    "sessionInfo()"
   ]
  },
  {
   "cell_type": "code",
   "execution_count": null,
   "id": "4f2a8d67-ee65-460e-9e5c-470f9d1778a5",
   "metadata": {},
   "outputs": [],
   "source": []
  }
 ],
 "metadata": {
  "kernelspec": {
   "display_name": "R",
   "language": "R",
   "name": "ir"
  },
  "language_info": {
   "codemirror_mode": "r",
   "file_extension": ".r",
   "mimetype": "text/x-r-source",
   "name": "R",
   "pygments_lexer": "r",
   "version": "4.4.1"
  }
 },
 "nbformat": 4,
 "nbformat_minor": 5
}
