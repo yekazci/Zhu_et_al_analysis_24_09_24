{
 "cells": [
  {
   "cell_type": "code",
   "execution_count": 1,
   "id": "d4f6bbd6-4c05-492b-a110-5a76be276388",
   "metadata": {},
   "outputs": [
    {
     "name": "stderr",
     "output_type": "stream",
     "text": [
      "── \u001b[1mAttaching core tidyverse packages\u001b[22m ──────────────────────── tidyverse 2.0.0 ──\n",
      "\u001b[32m✔\u001b[39m \u001b[34mdplyr    \u001b[39m 1.1.4     \u001b[32m✔\u001b[39m \u001b[34mreadr    \u001b[39m 2.1.5\n",
      "\u001b[32m✔\u001b[39m \u001b[34mforcats  \u001b[39m 1.0.0     \u001b[32m✔\u001b[39m \u001b[34mstringr  \u001b[39m 1.5.1\n",
      "\u001b[32m✔\u001b[39m \u001b[34mggplot2  \u001b[39m 3.5.1     \u001b[32m✔\u001b[39m \u001b[34mtibble   \u001b[39m 3.2.1\n",
      "\u001b[32m✔\u001b[39m \u001b[34mlubridate\u001b[39m 1.9.3     \u001b[32m✔\u001b[39m \u001b[34mtidyr    \u001b[39m 1.3.1\n",
      "\u001b[32m✔\u001b[39m \u001b[34mpurrr    \u001b[39m 1.0.2     \n",
      "── \u001b[1mConflicts\u001b[22m ────────────────────────────────────────── tidyverse_conflicts() ──\n",
      "\u001b[31m✖\u001b[39m \u001b[34mdplyr\u001b[39m::\u001b[32mfilter()\u001b[39m masks \u001b[34mstats\u001b[39m::filter()\n",
      "\u001b[31m✖\u001b[39m \u001b[34mdplyr\u001b[39m::\u001b[32mlag()\u001b[39m    masks \u001b[34mstats\u001b[39m::lag()\n",
      "\u001b[36mℹ\u001b[39m Use the conflicted package (\u001b[3m\u001b[34m<http://conflicted.r-lib.org/>\u001b[39m\u001b[23m) to force all conflicts to become errors\n"
     ]
    }
   ],
   "source": [
    "library(tidyverse)"
   ]
  },
  {
   "cell_type": "code",
   "execution_count": 2,
   "id": "23e08cfc-596c-4f5f-852d-b4d9b20d3936",
   "metadata": {},
   "outputs": [
    {
     "data": {
      "text/html": [
       "'/fast/AG_Bunina/Yusuf/Project_Endothelial_and_Stroke/Datasets/Chromatin_and_Gene_Exp/2023_Zhu_et_al/Zhu_et_al_2023/24_09_24'"
      ],
      "text/latex": [
       "'/fast/AG\\_Bunina/Yusuf/Project\\_Endothelial\\_and\\_Stroke/Datasets/Chromatin\\_and\\_Gene\\_Exp/2023\\_Zhu\\_et\\_al/Zhu\\_et\\_al\\_2023/24\\_09\\_24'"
      ],
      "text/markdown": [
       "'/fast/AG_Bunina/Yusuf/Project_Endothelial_and_Stroke/Datasets/Chromatin_and_Gene_Exp/2023_Zhu_et_al/Zhu_et_al_2023/24_09_24'"
      ],
      "text/plain": [
       "[1] \"/fast/AG_Bunina/Yusuf/Project_Endothelial_and_Stroke/Datasets/Chromatin_and_Gene_Exp/2023_Zhu_et_al/Zhu_et_al_2023/24_09_24\""
      ]
     },
     "metadata": {},
     "output_type": "display_data"
    }
   ],
   "source": [
    "getwd()"
   ]
  },
  {
   "cell_type": "code",
   "execution_count": 3,
   "id": "6eabef6a-5d0d-456d-a4b1-effdadb2423c",
   "metadata": {},
   "outputs": [
    {
     "data": {
      "text/html": [
       "'/fast/AG_Bunina/Yusuf/Project_Endothelial_and_Stroke/Datasets/Chromatin_and_Gene_Exp/2023_Zhu_et_al/Zhu_et_al_2023/24_09_24'"
      ],
      "text/latex": [
       "'/fast/AG\\_Bunina/Yusuf/Project\\_Endothelial\\_and\\_Stroke/Datasets/Chromatin\\_and\\_Gene\\_Exp/2023\\_Zhu\\_et\\_al/Zhu\\_et\\_al\\_2023/24\\_09\\_24'"
      ],
      "text/markdown": [
       "'/fast/AG_Bunina/Yusuf/Project_Endothelial_and_Stroke/Datasets/Chromatin_and_Gene_Exp/2023_Zhu_et_al/Zhu_et_al_2023/24_09_24'"
      ],
      "text/plain": [
       "[1] \"/fast/AG_Bunina/Yusuf/Project_Endothelial_and_Stroke/Datasets/Chromatin_and_Gene_Exp/2023_Zhu_et_al/Zhu_et_al_2023/24_09_24\""
      ]
     },
     "metadata": {},
     "output_type": "display_data"
    }
   ],
   "source": [
    "here::here()"
   ]
  },
  {
   "cell_type": "code",
   "execution_count": 4,
   "id": "5ea027a7-f0cc-4276-9017-f5ade5a29716",
   "metadata": {},
   "outputs": [
    {
     "name": "stderr",
     "output_type": "stream",
     "text": [
      "Loading required package: SeuratObject\n",
      "\n",
      "Loading required package: sp\n",
      "\n",
      "\n",
      "Attaching package: ‘SeuratObject’\n",
      "\n",
      "\n",
      "The following objects are masked from ‘package:base’:\n",
      "\n",
      "    intersect, t\n",
      "\n",
      "\n"
     ]
    }
   ],
   "source": [
    "library(Seurat)"
   ]
  },
  {
   "cell_type": "code",
   "execution_count": 5,
   "id": "a2bcb600-1fdb-4382-822c-6d977fbf749f",
   "metadata": {},
   "outputs": [],
   "source": [
    "library(Signac)"
   ]
  },
  {
   "cell_type": "code",
   "execution_count": 6,
   "id": "7acfd279-b760-46ca-9f17-fbd9a0aa4daf",
   "metadata": {},
   "outputs": [
    {
     "name": "stderr",
     "output_type": "stream",
     "text": [
      "\n",
      "Attaching package: ‘Pando’\n",
      "\n",
      "\n",
      "The following objects are masked from ‘package:Seurat’:\n",
      "\n",
      "    GetAssay, VariableFeatures\n",
      "\n",
      "\n",
      "The following objects are masked from ‘package:SeuratObject’:\n",
      "\n",
      "    LayerData, VariableFeatures\n",
      "\n",
      "\n"
     ]
    }
   ],
   "source": [
    "library(Pando)"
   ]
  },
  {
   "cell_type": "code",
   "execution_count": 9,
   "id": "c96ec6ea-9645-400f-8706-dc640fd499a1",
   "metadata": {},
   "outputs": [],
   "source": [
    "Zhu_et_al_Pando_w_eGRNs <- \n",
    "    readRDS(here::here('..', '10_04_24_ARCHIVED', 'R_Objects', 'Zhu_et_al_Pando_w_eGRNs.RDS'))"
   ]
  },
  {
   "cell_type": "code",
   "execution_count": 11,
   "id": "130e81ff-9f84-47ed-80c1-89747e8951d4",
   "metadata": {},
   "outputs": [],
   "source": [
    "da_peaks_all <- \n",
    "    readRDS(here::here('..', '10_04_24_ARCHIVED', 'R_Objects', 'da_peaks_all_logfc_cutoff_0_1_minPCT_0_01.RDS'))"
   ]
  },
  {
   "cell_type": "code",
   "execution_count": 12,
   "id": "1f9e6e43-43ff-4ff6-abad-41341e6739b9",
   "metadata": {},
   "outputs": [
    {
     "data": {
      "text/html": [
       "<style>\n",
       ".list-inline {list-style: none; margin:0; padding: 0}\n",
       ".list-inline>li {display: inline-block}\n",
       ".list-inline>li:not(:last-child)::after {content: \"\\00b7\"; padding: 0 .5ex}\n",
       "</style>\n",
       "<ol class=list-inline><li>482945</li><li>8</li></ol>\n"
      ],
      "text/latex": [
       "\\begin{enumerate*}\n",
       "\\item 482945\n",
       "\\item 8\n",
       "\\end{enumerate*}\n"
      ],
      "text/markdown": [
       "1. 482945\n",
       "2. 8\n",
       "\n",
       "\n"
      ],
      "text/plain": [
       "[1] 482945      8"
      ]
     },
     "metadata": {},
     "output_type": "display_data"
    }
   ],
   "source": [
    "da_peaks_all %>% dim"
   ]
  },
  {
   "cell_type": "code",
   "execution_count": 13,
   "id": "b704c087-188c-4250-8624-1db682d39149",
   "metadata": {},
   "outputs": [
    {
     "data": {
      "text/plain": [
       "     p_val             avg_log2FC         pct.1             pct.2        \n",
       " Min.   :0.000e+00   Min.   :0.1000   Min.   :0.00900   Min.   :0.00000  \n",
       " 1st Qu.:0.000e+00   1st Qu.:0.7935   1st Qu.:0.01600   1st Qu.:0.00500  \n",
       " Median :0.000e+00   Median :1.3790   Median :0.02700   Median :0.00900  \n",
       " Mean   :3.841e-04   Mean   :1.5323   Mean   :0.05023   Mean   :0.02488  \n",
       " 3rd Qu.:9.440e-07   3rd Qu.:2.1392   3rd Qu.:0.05400   3rd Qu.:0.02000  \n",
       " Max.   :1.000e-02   Max.   :5.9867   Max.   :0.68600   Max.   :0.56800  \n",
       "                                                                         \n",
       "   p_val_adj                                                cluster     \n",
       " Min.   :0.0000   glutamatergic neuron                          :76877  \n",
       " 1st Qu.:0.0000   astrocyte                                     :76070  \n",
       " Median :0.0000   caudal ganglionic eminence derived interneuron:69502  \n",
       " Mean   :0.2450   medial ganglionic eminence derived interneuron:67280  \n",
       " 3rd Qu.:0.2871   oligodendrocyte precursor cell                :54513  \n",
       " Max.   :1.0000   microglial cell                               :44274  \n",
       "                  (Other)                                       :94429  \n",
       "     gene              pct_diff       \n",
       " Length:482945      Min.   :-0.10700  \n",
       " Class :character   1st Qu.: 0.00900  \n",
       " Mode  :character   Median : 0.01600  \n",
       "                    Mean   : 0.02535  \n",
       "                    3rd Qu.: 0.03100  \n",
       "                    Max.   : 0.41500  \n",
       "                                      "
      ]
     },
     "metadata": {},
     "output_type": "display_data"
    }
   ],
   "source": [
    "da_peaks_all %>% summary"
   ]
  },
  {
   "cell_type": "code",
   "execution_count": 14,
   "id": "6d0eef70-df9f-4127-b9a9-17b10888d3e9",
   "metadata": {},
   "outputs": [
    {
     "data": {
      "text/html": [
       "<style>\n",
       ".list-inline {list-style: none; margin:0; padding: 0}\n",
       ".list-inline>li {display: inline-block}\n",
       ".list-inline>li:not(:last-child)::after {content: \"\\00b7\"; padding: 0 .5ex}\n",
       "</style>\n",
       "<ol class=list-inline><li>348145</li><li>8</li></ol>\n"
      ],
      "text/latex": [
       "\\begin{enumerate*}\n",
       "\\item 348145\n",
       "\\item 8\n",
       "\\end{enumerate*}\n"
      ],
      "text/markdown": [
       "1. 348145\n",
       "2. 8\n",
       "\n",
       "\n"
      ],
      "text/plain": [
       "[1] 348145      8"
      ]
     },
     "metadata": {},
     "output_type": "display_data"
    }
   ],
   "source": [
    "da_peaks_all %>% \n",
    "filter(p_val_adj < 0.05) %>% \n",
    "dim"
   ]
  },
  {
   "cell_type": "code",
   "execution_count": 15,
   "id": "7fdadcb6-4b55-4869-9f34-4575fb77f04c",
   "metadata": {},
   "outputs": [
    {
     "data": {
      "text/plain": [
       "   Min. 1st Qu.  Median    Mean 3rd Qu.    Max. \n",
       " 0.1000  0.7935  1.3790  1.5323  2.1392  5.9867 "
      ]
     },
     "metadata": {},
     "output_type": "display_data"
    }
   ],
   "source": [
    "da_peaks_all %>% .$avg_log2FC %>% summary"
   ]
  },
  {
   "cell_type": "code",
   "execution_count": 16,
   "id": "0878a7f4-9240-4821-9d5a-ef7824ea3b2e",
   "metadata": {},
   "outputs": [],
   "source": [
    "da_peaks_all_sig <- \n",
    "da_peaks_all %>% \n",
    "filter(p_val_adj < 0.05)"
   ]
  },
  {
   "cell_type": "code",
   "execution_count": 18,
   "id": "22f7341d-562f-4846-a3b5-0d078e341d92",
   "metadata": {},
   "outputs": [
    {
     "data": {
      "text/html": [
       "<style>\n",
       ".list-inline {list-style: none; margin:0; padding: 0}\n",
       ".list-inline>li {display: inline-block}\n",
       ".list-inline>li:not(:last-child)::after {content: \"\\00b7\"; padding: 0 .5ex}\n",
       "</style>\n",
       "<ol class=list-inline><li>348145</li><li>8</li></ol>\n"
      ],
      "text/latex": [
       "\\begin{enumerate*}\n",
       "\\item 348145\n",
       "\\item 8\n",
       "\\end{enumerate*}\n"
      ],
      "text/markdown": [
       "1. 348145\n",
       "2. 8\n",
       "\n",
       "\n"
      ],
      "text/plain": [
       "[1] 348145      8"
      ]
     },
     "metadata": {},
     "output_type": "display_data"
    }
   ],
   "source": [
    "da_peaks_all_sig %>% dim"
   ]
  },
  {
   "cell_type": "code",
   "execution_count": 19,
   "id": "2cca4074-5261-4227-a813-60e74b27fb19",
   "metadata": {},
   "outputs": [
    {
     "name": "stdout",
     "output_type": "stream",
     "text": [
      "                                          cluster     n\n",
      "1                                endothelial cell   919\n",
      "2                                       astrocyte 66003\n",
      "3                                 oligodendrocyte 20477\n",
      "4                                 microglial cell 38424\n",
      "5          vascular associated smooth muscle cell  6399\n",
      "6                          inhibitory interneuron 10183\n",
      "7                                        pericyte  6641\n",
      "8                            glutamatergic neuron 67860\n",
      "9                               radial glial cell  5685\n",
      "10                 oligodendrocyte precursor cell 42509\n",
      "11                         neural progenitor cell  5881\n",
      "12 medial ganglionic eminence derived interneuron 41459\n",
      "13 caudal ganglionic eminence derived interneuron 35705\n"
     ]
    }
   ],
   "source": [
    "da_peaks_all_sig %>% count(cluster) %>% print"
   ]
  },
  {
   "cell_type": "code",
   "execution_count": 20,
   "id": "d4d7a3d5-d824-4b48-aa0c-b77006b46156",
   "metadata": {},
   "outputs": [],
   "source": [
    "rm(da_peaks_all)"
   ]
  },
  {
   "cell_type": "code",
   "execution_count": 29,
   "id": "1ec62869-eee6-407c-8e0c-bd35d4ca9e4e",
   "metadata": {},
   "outputs": [],
   "source": [
    "source(here::here('r_scripts', 'helper_functions_for_SNP_analysis.r'))"
   ]
  },
  {
   "cell_type": "code",
   "execution_count": 30,
   "id": "44b46cbb-2df5-42df-a763-bbea54b2f482",
   "metadata": {
    "collapsed": true,
    "jupyter": {
     "outputs_hidden": true
    },
    "tags": []
   },
   "outputs": [
    {
     "name": "stderr",
     "output_type": "stream",
     "text": [
      "make sure you installed the GGally, network, igraph and ggraph packages :)\n",
      "\n",
      "First option: One can directly use only the node_names parameter to specify \n",
      "          the gene names to visualize in the graph\n",
      "\n",
      "Second option: Use TF-names and/or target genes parameters \n",
      "         to visualize their connections\n",
      "\n",
      "Registered S3 method overwritten by 'GGally':\n",
      "  method from   \n",
      "  +.gg   ggplot2\n",
      "\n",
      "\n",
      "‘network’ 1.18.2 (2023-12-04), part of the Statnet Project\n",
      "* ‘news(package=\"network\")’ for changes since last version\n",
      "* ‘citation(\"network\")’ for citation information\n",
      "* ‘https://statnet.org’ for help, support, and other information\n",
      "\n",
      "\n",
      "\n",
      "Attaching package: ‘igraph’\n",
      "\n",
      "\n",
      "The following objects are masked from ‘package:network’:\n",
      "\n",
      "    %c%, %s%, add.edges, add.vertices, delete.edges, delete.vertices,\n",
      "    get.edge.attribute, get.edges, get.vertex.attribute, is.bipartite,\n",
      "    is.directed, list.edge.attributes, list.vertex.attributes,\n",
      "    set.edge.attribute, set.vertex.attribute\n",
      "\n",
      "\n",
      "The following object is masked from ‘package:Seurat’:\n",
      "\n",
      "    components\n",
      "\n",
      "\n",
      "The following objects are masked from ‘package:lubridate’:\n",
      "\n",
      "    %--%, union\n",
      "\n",
      "\n",
      "The following objects are masked from ‘package:dplyr’:\n",
      "\n",
      "    as_data_frame, groups, union\n",
      "\n",
      "\n",
      "The following objects are masked from ‘package:purrr’:\n",
      "\n",
      "    compose, simplify\n",
      "\n",
      "\n",
      "The following object is masked from ‘package:tidyr’:\n",
      "\n",
      "    crossing\n",
      "\n",
      "\n",
      "The following object is masked from ‘package:tibble’:\n",
      "\n",
      "    as_data_frame\n",
      "\n",
      "\n",
      "The following objects are masked from ‘package:stats’:\n",
      "\n",
      "    decompose, spectrum\n",
      "\n",
      "\n",
      "The following object is masked from ‘package:base’:\n",
      "\n",
      "    union\n",
      "\n",
      "\n",
      "\n",
      "Attaching package: ‘ggraph’\n",
      "\n",
      "\n",
      "The following object is masked from ‘package:sp’:\n",
      "\n",
      "    geometry\n",
      "\n",
      "\n",
      "make sure you installed the GGally, network, igraph and ggraph packages :)\n",
      "\n",
      "First option: One can directly use only the node_names parameter to specify \n",
      "          the gene names to visualize in the graph\n",
      "\n",
      "Second option: Use TF-names and/or target genes parameters \n",
      "         to visualize their connections\n",
      "\n"
     ]
    }
   ],
   "source": [
    "source(here::here('r_scripts', 'network_visualization_functions_w_degree_option.r'))"
   ]
  },
  {
   "cell_type": "code",
   "execution_count": 31,
   "id": "c17dcdea-e8cb-42f3-91e8-5627310610fa",
   "metadata": {
    "collapsed": true,
    "jupyter": {
     "outputs_hidden": true
    },
    "tags": []
   },
   "outputs": [
    {
     "name": "stderr",
     "output_type": "stream",
     "text": [
      "Loading traseR package...\n",
      "\n",
      "Loading required package: GenomicRanges\n",
      "\n",
      "Loading required package: stats4\n",
      "\n",
      "Loading required package: BiocGenerics\n",
      "\n",
      "\n",
      "Attaching package: ‘BiocGenerics’\n",
      "\n",
      "\n",
      "The following objects are masked from ‘package:igraph’:\n",
      "\n",
      "    normalize, path, union\n",
      "\n",
      "\n",
      "The following object is masked from ‘package:SeuratObject’:\n",
      "\n",
      "    intersect\n",
      "\n",
      "\n",
      "The following objects are masked from ‘package:lubridate’:\n",
      "\n",
      "    intersect, setdiff, union\n",
      "\n",
      "\n",
      "The following objects are masked from ‘package:dplyr’:\n",
      "\n",
      "    combine, intersect, setdiff, union\n",
      "\n",
      "\n",
      "The following objects are masked from ‘package:stats’:\n",
      "\n",
      "    IQR, mad, sd, var, xtabs\n",
      "\n",
      "\n",
      "The following objects are masked from ‘package:base’:\n",
      "\n",
      "    anyDuplicated, aperm, append, as.data.frame, basename, cbind,\n",
      "    colnames, dirname, do.call, duplicated, eval, evalq, Filter, Find,\n",
      "    get, grep, grepl, intersect, is.unsorted, lapply, Map, mapply,\n",
      "    match, mget, order, paste, pmax, pmax.int, pmin, pmin.int,\n",
      "    Position, rank, rbind, Reduce, rownames, sapply, setdiff, table,\n",
      "    tapply, union, unique, unsplit, which.max, which.min\n",
      "\n",
      "\n",
      "Loading required package: S4Vectors\n",
      "\n",
      "\n",
      "Attaching package: ‘S4Vectors’\n",
      "\n",
      "\n",
      "The following objects are masked from ‘package:lubridate’:\n",
      "\n",
      "    second, second<-\n",
      "\n",
      "\n",
      "The following objects are masked from ‘package:dplyr’:\n",
      "\n",
      "    first, rename\n",
      "\n",
      "\n",
      "The following object is masked from ‘package:tidyr’:\n",
      "\n",
      "    expand\n",
      "\n",
      "\n",
      "The following object is masked from ‘package:utils’:\n",
      "\n",
      "    findMatches\n",
      "\n",
      "\n",
      "The following objects are masked from ‘package:base’:\n",
      "\n",
      "    expand.grid, I, unname\n",
      "\n",
      "\n",
      "Loading required package: IRanges\n",
      "\n",
      "\n",
      "Attaching package: ‘IRanges’\n",
      "\n",
      "\n",
      "The following object is masked from ‘package:sp’:\n",
      "\n",
      "    %over%\n",
      "\n",
      "\n",
      "The following object is masked from ‘package:lubridate’:\n",
      "\n",
      "    %within%\n",
      "\n",
      "\n",
      "The following objects are masked from ‘package:dplyr’:\n",
      "\n",
      "    collapse, desc, slice\n",
      "\n",
      "\n",
      "The following object is masked from ‘package:purrr’:\n",
      "\n",
      "    reduce\n",
      "\n",
      "\n",
      "Loading required package: GenomeInfoDb\n",
      "\n",
      "Loading required package: BSgenome.Hsapiens.UCSC.hg19\n",
      "\n",
      "Loading required package: BSgenome\n",
      "\n",
      "Loading required package: Biostrings\n",
      "\n",
      "Loading required package: XVector\n",
      "\n",
      "\n",
      "Attaching package: ‘XVector’\n",
      "\n",
      "\n",
      "The following object is masked from ‘package:purrr’:\n",
      "\n",
      "    compact\n",
      "\n",
      "\n",
      "\n",
      "Attaching package: ‘Biostrings’\n",
      "\n",
      "\n",
      "The following object is masked from ‘package:base’:\n",
      "\n",
      "    strsplit\n",
      "\n",
      "\n",
      "Loading required package: BiocIO\n",
      "\n",
      "Loading required package: rtracklayer\n",
      "\n",
      "\n",
      "Attaching package: ‘rtracklayer’\n",
      "\n",
      "\n",
      "The following object is masked from ‘package:BiocIO’:\n",
      "\n",
      "    FileForFormat\n",
      "\n",
      "\n",
      "The following object is masked from ‘package:igraph’:\n",
      "\n",
      "    blocks\n",
      "\n",
      "\n",
      "Loading taSNP database...\n",
      "\n",
      "Loading taSNPLD database which additionally contains LD SNPs...\n",
      "\n",
      "Loading CEU database which contains all known SNPs...\n",
      "\n"
     ]
    }
   ],
   "source": [
    "source(here::here('r_scripts', 'SNP_enrichment_and_plotting_functions.R'))"
   ]
  },
  {
   "cell_type": "code",
   "execution_count": 32,
   "id": "22ed900d-6c28-402e-96f3-33efb0eae229",
   "metadata": {},
   "outputs": [],
   "source": [
    "# Use the combined function to create cell type analysis with varying numbers for min_cells parameter:\n",
    "\n",
    "prepare_cell_type_specific_eGRNs_and_do_SNP_analysis_w_DA_regions <- function(global_eGRN_object, DA_regions, cell_type_names, taSNPLD) {\n",
    "  \n",
    "\n",
    "  # Initialize lists to store intermediate and final results\n",
    "  cell_type_eGRNs <- list()\n",
    "  cell_type_GRanges <- list()\n",
    "  res_list_SNPs <- list()\n",
    "      \n",
    "    \n",
    "  # Directory setup\n",
    "    \n",
    "  main_output_dir <- here::here('R_Outputs', paste0('SNPs_w_da_regions'))\n",
    "  output_dir <- here::here(main_output_dir, paste0('cell_type_eGRNs_using_da_regions'))\n",
    "  snp_dir <- here::here(main_output_dir, paste0('cell_type_eGRNs_using_da_regions_SNPs'))\n",
    "  dir.create(output_dir, showWarnings = FALSE, recursive = TRUE)\n",
    "  dir.create(snp_dir, showWarnings = FALSE, recursive = TRUE)\n",
    "  \n",
    "  # Step 1: Prepare cell type eGRNs\n",
    "  for (cell_type in cell_type_names) {\n",
    "    clean_name <- janitor::make_clean_names(string = cell_type)\n",
    "    \n",
    "    # Generate cell type-specific eGRN\n",
    "    cell_type_eGRNs[[clean_name]] <- make_cell_type_eGRN(\n",
    "      global_eGRN_object = global_eGRN_object,\n",
    "      DA_regions = DA_regions  %>%  filter(cluster %in% cell_type)\n",
    "    )\n",
    "    \n",
    "    # Generate and save network plot\n",
    "    network_plot <- vis_network_w_GGNET2(meta_DF = cell_type_eGRNs[[clean_name]] %>% NetworkModules %>% .@meta)\n",
    "    network_plot_file <- file.path(output_dir, paste0(clean_name, \"_eGRN_network_plot.png\"))\n",
    "    ggsave(network_plot_file, plot = network_plot, width = 30, height = 24, dpi = 300)\n",
    "  }\n",
    "  \n",
    "  # Step 2: Create GRanges for SNP enrichment\n",
    "  for (clean_name in names(cell_type_eGRNs)) {\n",
    "    cell_type_GRanges[[clean_name]] <- make_GRanges_for_SNP_enrich(\n",
    "      Pando_eGRN_obj = cell_type_eGRNs[[clean_name]]\n",
    "    )\n",
    "  }\n",
    "  \n",
    "  # Step 3: Perform SNP analysis\n",
    "  for (clean_name in names(cell_type_GRanges)) {\n",
    "      \n",
    "    snp_sub_dir  <- here::here(snp_dir, clean_name)\n",
    "      \n",
    "    dir.create(path = snp_sub_dir, showWarnings = FALSE, recursive = TRUE)\n",
    "      \n",
    "    for (expansion_bases in seq(from = 0, to = 500, by = 50)) {\n",
    "      result <- try({\n",
    "        enrich_SNP_generic(\n",
    "          granges_obj = cell_type_GRanges[[clean_name]], \n",
    "          expand_by = expansion_bases,\n",
    "          SNPs = taSNPLD,\n",
    "          suppress_messages = TRUE\n",
    "        )\n",
    "      }, silent = TRUE)\n",
    "      \n",
    "      # Skip if there's an error\n",
    "      if (inherits(result, \"try-error\")) {\n",
    "        cat(sprintf(\"No SNP overlap found for %d bp expansion. Skipping...\\n\", expansion_bases))\n",
    "        next\n",
    "      }\n",
    "      \n",
    "      # Store successful results\n",
    "      res_list_SNPs[[clean_name]][[paste0('expanded_by_', expansion_bases, 'bp')]] <- result\n",
    "      \n",
    "      # Generate and save SNP plot\n",
    "      snp_plot <- plot_for_diff_expansions_for_saving(\n",
    "        enriched_SNP_obj = result,\n",
    "        expansion_value_string = paste0(expansion_bases, 'bp')\n",
    "      )\n",
    "      plot_snp_file <- file.path(snp_sub_dir, paste0(clean_name, \"_expanded_by_\", expansion_bases, \"bp_SNP_plot.png\"))\n",
    "      ggsave(plot_snp_file, plot = snp_plot, width = 30, height = 24, dpi = 300)\n",
    "    }\n",
    "  }\n",
    "  \n",
    "  # Return final results\n",
    "  return(list(\n",
    "    eGRNs = cell_type_eGRNs,\n",
    "    GRanges = cell_type_GRanges,\n",
    "    SNP_results = res_list_SNPs\n",
    "  ))\n",
    "}\n",
    "\n",
    "\n"
   ]
  },
  {
   "cell_type": "code",
   "execution_count": 33,
   "id": "5d6b9668-a848-43c0-8834-cd88dfc50125",
   "metadata": {},
   "outputs": [
    {
     "data": {
      "text/html": [
       "<style>\n",
       ".list-inline {list-style: none; margin:0; padding: 0}\n",
       ".list-inline>li {display: inline-block}\n",
       ".list-inline>li:not(:last-child)::after {content: \"\\00b7\"; padding: 0 .5ex}\n",
       "</style>\n",
       "<ol class=list-inline><li>glutamatergic neuron</li><li>inhibitory interneuron</li><li>vascular associated smooth muscle cell</li><li>endothelial cell</li><li>radial glial cell</li><li>oligodendrocyte precursor cell</li><li>caudal ganglionic eminence derived interneuron</li><li>microglial cell</li><li>medial ganglionic eminence derived interneuron</li><li>pericyte</li><li>astrocyte</li><li>neural progenitor cell</li><li>oligodendrocyte</li></ol>\n",
       "\n",
       "<details>\n",
       "\t<summary style=display:list-item;cursor:pointer>\n",
       "\t\t<strong>Levels</strong>:\n",
       "\t</summary>\n",
       "\t<style>\n",
       "\t.list-inline {list-style: none; margin:0; padding: 0}\n",
       "\t.list-inline>li {display: inline-block}\n",
       "\t.list-inline>li:not(:last-child)::after {content: \"\\00b7\"; padding: 0 .5ex}\n",
       "\t</style>\n",
       "\t<ol class=list-inline><li>'endothelial cell'</li><li>'astrocyte'</li><li>'oligodendrocyte'</li><li>'microglial cell'</li><li>'vascular associated smooth muscle cell'</li><li>'inhibitory interneuron'</li><li>'pericyte'</li><li>'glutamatergic neuron'</li><li>'radial glial cell'</li><li>'oligodendrocyte precursor cell'</li><li>'neural progenitor cell'</li><li>'medial ganglionic eminence derived interneuron'</li><li>'caudal ganglionic eminence derived interneuron'</li></ol>\n",
       "</details>"
      ],
      "text/latex": [
       "\\begin{enumerate*}\n",
       "\\item glutamatergic neuron\n",
       "\\item inhibitory interneuron\n",
       "\\item vascular associated smooth muscle cell\n",
       "\\item endothelial cell\n",
       "\\item radial glial cell\n",
       "\\item oligodendrocyte precursor cell\n",
       "\\item caudal ganglionic eminence derived interneuron\n",
       "\\item microglial cell\n",
       "\\item medial ganglionic eminence derived interneuron\n",
       "\\item pericyte\n",
       "\\item astrocyte\n",
       "\\item neural progenitor cell\n",
       "\\item oligodendrocyte\n",
       "\\end{enumerate*}\n",
       "\n",
       "\\emph{Levels}: \\begin{enumerate*}\n",
       "\\item 'endothelial cell'\n",
       "\\item 'astrocyte'\n",
       "\\item 'oligodendrocyte'\n",
       "\\item 'microglial cell'\n",
       "\\item 'vascular associated smooth muscle cell'\n",
       "\\item 'inhibitory interneuron'\n",
       "\\item 'pericyte'\n",
       "\\item 'glutamatergic neuron'\n",
       "\\item 'radial glial cell'\n",
       "\\item 'oligodendrocyte precursor cell'\n",
       "\\item 'neural progenitor cell'\n",
       "\\item 'medial ganglionic eminence derived interneuron'\n",
       "\\item 'caudal ganglionic eminence derived interneuron'\n",
       "\\end{enumerate*}\n"
      ],
      "text/markdown": [
       "1. glutamatergic neuron\n",
       "2. inhibitory interneuron\n",
       "3. vascular associated smooth muscle cell\n",
       "4. endothelial cell\n",
       "5. radial glial cell\n",
       "6. oligodendrocyte precursor cell\n",
       "7. caudal ganglionic eminence derived interneuron\n",
       "8. microglial cell\n",
       "9. medial ganglionic eminence derived interneuron\n",
       "10. pericyte\n",
       "11. astrocyte\n",
       "12. neural progenitor cell\n",
       "13. oligodendrocyte\n",
       "\n",
       "\n",
       "\n",
       "**Levels**: 1. 'endothelial cell'\n",
       "2. 'astrocyte'\n",
       "3. 'oligodendrocyte'\n",
       "4. 'microglial cell'\n",
       "5. 'vascular associated smooth muscle cell'\n",
       "6. 'inhibitory interneuron'\n",
       "7. 'pericyte'\n",
       "8. 'glutamatergic neuron'\n",
       "9. 'radial glial cell'\n",
       "10. 'oligodendrocyte precursor cell'\n",
       "11. 'neural progenitor cell'\n",
       "12. 'medial ganglionic eminence derived interneuron'\n",
       "13. 'caudal ganglionic eminence derived interneuron'\n",
       "\n",
       "\n"
      ],
      "text/plain": [
       " [1] glutamatergic neuron                          \n",
       " [2] inhibitory interneuron                        \n",
       " [3] vascular associated smooth muscle cell        \n",
       " [4] endothelial cell                              \n",
       " [5] radial glial cell                             \n",
       " [6] oligodendrocyte precursor cell                \n",
       " [7] caudal ganglionic eminence derived interneuron\n",
       " [8] microglial cell                               \n",
       " [9] medial ganglionic eminence derived interneuron\n",
       "[10] pericyte                                      \n",
       "[11] astrocyte                                     \n",
       "[12] neural progenitor cell                        \n",
       "[13] oligodendrocyte                               \n",
       "13 Levels: endothelial cell astrocyte oligodendrocyte ... caudal ganglionic eminence derived interneuron"
      ]
     },
     "metadata": {},
     "output_type": "display_data"
    }
   ],
   "source": [
    "Zhu_et_al_Pando_w_eGRNs@data$cell_type %>% unique"
   ]
  },
  {
   "cell_type": "code",
   "execution_count": 34,
   "id": "d15ba600-bcf3-41fc-b5cc-5dbb7f0ccabc",
   "metadata": {
    "collapsed": true,
    "jupyter": {
     "outputs_hidden": true
    },
    "tags": []
   },
   "outputs": [
    {
     "name": "stderr",
     "output_type": "stream",
     "text": [
      "Found 156 TF modules\n",
      "\n"
     ]
    },
    {
     "name": "stdout",
     "output_type": "stream",
     "text": [
      " Network attributes:\n",
      "  vertices = 326 \n",
      "  directed = TRUE \n",
      "  hyper = FALSE \n",
      "  loops = FALSE \n",
      "  multiple = FALSE \n",
      "  bipartite = FALSE \n",
      "  total edges= 317 \n",
      "    missing edges= 0 \n",
      "    non-missing edges= 317 \n",
      "\n",
      " Vertex attribute names: \n",
      "    vertex.names \n",
      "\n",
      "No edge attributes\n"
     ]
    },
    {
     "name": "stderr",
     "output_type": "stream",
     "text": [
      "Found 124 TF modules\n",
      "\n"
     ]
    },
    {
     "name": "stdout",
     "output_type": "stream",
     "text": [
      " Network attributes:\n",
      "  vertices = 224 \n",
      "  directed = TRUE \n",
      "  hyper = FALSE \n",
      "  loops = FALSE \n",
      "  multiple = FALSE \n",
      "  bipartite = FALSE \n",
      "  total edges= 225 \n",
      "    missing edges= 0 \n",
      "    non-missing edges= 225 \n",
      "\n",
      " Vertex attribute names: \n",
      "    vertex.names \n",
      "\n",
      "No edge attributes\n"
     ]
    },
    {
     "name": "stderr",
     "output_type": "stream",
     "text": [
      "Found 120 TF modules\n",
      "\n"
     ]
    },
    {
     "name": "stdout",
     "output_type": "stream",
     "text": [
      " Network attributes:\n",
      "  vertices = 253 \n",
      "  directed = TRUE \n",
      "  hyper = FALSE \n",
      "  loops = FALSE \n",
      "  multiple = FALSE \n",
      "  bipartite = FALSE \n",
      "  total edges= 225 \n",
      "    missing edges= 0 \n",
      "    non-missing edges= 225 \n",
      "\n",
      " Vertex attribute names: \n",
      "    vertex.names \n",
      "\n",
      "No edge attributes\n"
     ]
    },
    {
     "name": "stderr",
     "output_type": "stream",
     "text": [
      "Found 36 TF modules\n",
      "\n"
     ]
    },
    {
     "name": "stdout",
     "output_type": "stream",
     "text": [
      " Network attributes:\n",
      "  vertices = 63 \n",
      "  directed = TRUE \n",
      "  hyper = FALSE \n",
      "  loops = FALSE \n",
      "  multiple = FALSE \n",
      "  bipartite = FALSE \n",
      "  total edges= 43 \n",
      "    missing edges= 0 \n",
      "    non-missing edges= 43 \n",
      "\n",
      " Vertex attribute names: \n",
      "    vertex.names \n",
      "\n",
      "No edge attributes\n"
     ]
    },
    {
     "name": "stderr",
     "output_type": "stream",
     "text": [
      "Found 34 TF modules\n",
      "\n"
     ]
    },
    {
     "name": "stdout",
     "output_type": "stream",
     "text": [
      " Network attributes:\n",
      "  vertices = 54 \n",
      "  directed = TRUE \n",
      "  hyper = FALSE \n",
      "  loops = FALSE \n",
      "  multiple = FALSE \n",
      "  bipartite = FALSE \n",
      "  total edges= 36 \n",
      "    missing edges= 0 \n",
      "    non-missing edges= 36 \n",
      "\n",
      " Vertex attribute names: \n",
      "    vertex.names \n",
      "\n",
      "No edge attributes\n"
     ]
    },
    {
     "name": "stderr",
     "output_type": "stream",
     "text": [
      "Found 78 TF modules\n",
      "\n"
     ]
    },
    {
     "name": "stdout",
     "output_type": "stream",
     "text": [
      " Network attributes:\n",
      "  vertices = 158 \n",
      "  directed = TRUE \n",
      "  hyper = FALSE \n",
      "  loops = FALSE \n",
      "  multiple = FALSE \n",
      "  bipartite = FALSE \n",
      "  total edges= 129 \n",
      "    missing edges= 0 \n",
      "    non-missing edges= 129 \n",
      "\n",
      " Vertex attribute names: \n",
      "    vertex.names \n",
      "\n",
      "No edge attributes\n"
     ]
    },
    {
     "name": "stderr",
     "output_type": "stream",
     "text": [
      "Found 106 TF modules\n",
      "\n"
     ]
    },
    {
     "name": "stdout",
     "output_type": "stream",
     "text": [
      " Network attributes:\n",
      "  vertices = 216 \n",
      "  directed = TRUE \n",
      "  hyper = FALSE \n",
      "  loops = FALSE \n",
      "  multiple = FALSE \n",
      "  bipartite = FALSE \n",
      "  total edges= 149 \n",
      "    missing edges= 0 \n",
      "    non-missing edges= 149 \n",
      "\n",
      " Vertex attribute names: \n",
      "    vertex.names \n",
      "\n",
      "No edge attributes\n"
     ]
    },
    {
     "name": "stderr",
     "output_type": "stream",
     "text": [
      "Found 151 TF modules\n",
      "\n"
     ]
    },
    {
     "name": "stdout",
     "output_type": "stream",
     "text": [
      " Network attributes:\n",
      "  vertices = 407 \n",
      "  directed = TRUE \n",
      "  hyper = FALSE \n",
      "  loops = FALSE \n",
      "  multiple = FALSE \n",
      "  bipartite = FALSE \n",
      "  total edges= 544 \n",
      "    missing edges= 0 \n",
      "    non-missing edges= 544 \n",
      "\n",
      " Vertex attribute names: \n",
      "    vertex.names \n",
      "\n",
      "No edge attributes\n"
     ]
    },
    {
     "name": "stderr",
     "output_type": "stream",
     "text": [
      "Found 123 TF modules\n",
      "\n"
     ]
    },
    {
     "name": "stdout",
     "output_type": "stream",
     "text": [
      " Network attributes:\n",
      "  vertices = 283 \n",
      "  directed = TRUE \n",
      "  hyper = FALSE \n",
      "  loops = FALSE \n",
      "  multiple = FALSE \n",
      "  bipartite = FALSE \n",
      "  total edges= 249 \n",
      "    missing edges= 0 \n",
      "    non-missing edges= 249 \n",
      "\n",
      " Vertex attribute names: \n",
      "    vertex.names \n",
      "\n",
      "No edge attributes\n"
     ]
    },
    {
     "name": "stderr",
     "output_type": "stream",
     "text": [
      "Found 70 TF modules\n",
      "\n"
     ]
    },
    {
     "name": "stdout",
     "output_type": "stream",
     "text": [
      " Network attributes:\n",
      "  vertices = 132 \n",
      "  directed = TRUE \n",
      "  hyper = FALSE \n",
      "  loops = FALSE \n",
      "  multiple = FALSE \n",
      "  bipartite = FALSE \n",
      "  total edges= 109 \n",
      "    missing edges= 0 \n",
      "    non-missing edges= 109 \n",
      "\n",
      " Vertex attribute names: \n",
      "    vertex.names \n",
      "\n",
      "No edge attributes\n"
     ]
    },
    {
     "name": "stderr",
     "output_type": "stream",
     "text": [
      "Found 215 TF modules\n",
      "\n"
     ]
    },
    {
     "name": "stdout",
     "output_type": "stream",
     "text": [
      " Network attributes:\n",
      "  vertices = 553 \n",
      "  directed = TRUE \n",
      "  hyper = FALSE \n",
      "  loops = FALSE \n",
      "  multiple = FALSE \n",
      "  bipartite = FALSE \n",
      "  total edges= 727 \n",
      "    missing edges= 0 \n",
      "    non-missing edges= 727 \n",
      "\n",
      " Vertex attribute names: \n",
      "    vertex.names \n",
      "\n",
      "No edge attributes\n"
     ]
    },
    {
     "name": "stderr",
     "output_type": "stream",
     "text": [
      "Found 39 TF modules\n",
      "\n"
     ]
    },
    {
     "name": "stdout",
     "output_type": "stream",
     "text": [
      " Network attributes:\n",
      "  vertices = 71 \n",
      "  directed = TRUE \n",
      "  hyper = FALSE \n",
      "  loops = FALSE \n",
      "  multiple = FALSE \n",
      "  bipartite = FALSE \n",
      "  total edges= 47 \n",
      "    missing edges= 0 \n",
      "    non-missing edges= 47 \n",
      "\n",
      " Vertex attribute names: \n",
      "    vertex.names \n",
      "\n",
      "No edge attributes\n"
     ]
    },
    {
     "name": "stderr",
     "output_type": "stream",
     "text": [
      "Found 104 TF modules\n",
      "\n"
     ]
    },
    {
     "name": "stdout",
     "output_type": "stream",
     "text": [
      " Network attributes:\n",
      "  vertices = 210 \n",
      "  directed = TRUE \n",
      "  hyper = FALSE \n",
      "  loops = FALSE \n",
      "  multiple = FALSE \n",
      "  bipartite = FALSE \n",
      "  total edges= 194 \n",
      "    missing edges= 0 \n",
      "    non-missing edges= 194 \n",
      "\n",
      " Vertex attribute names: \n",
      "    vertex.names \n",
      "\n",
      "No edge attributes\n"
     ]
    },
    {
     "name": "stderr",
     "output_type": "stream",
     "text": [
      "Using whole genome as background in the statistical analysis....  \n",
      "\n",
      "\n"
     ]
    },
    {
     "name": "stdout",
     "output_type": "stream",
     "text": [
      "\n",
      "\n"
     ]
    },
    {
     "name": "stderr",
     "output_type": "stream",
     "text": [
      "Using all known SNPs as background in the statistical analysis....  \n",
      "\n",
      "\n",
      "Warning message:\n",
      "“ggrepel: 573 unlabeled data points (too many overlaps). Consider increasing max.overlaps”\n",
      "Warning message:\n",
      "“ggrepel: 30 unlabeled data points (too many overlaps). Consider increasing max.overlaps”\n",
      "Using whole genome as background in the statistical analysis....  \n",
      "\n",
      "\n"
     ]
    },
    {
     "name": "stdout",
     "output_type": "stream",
     "text": [
      "\n",
      "\n"
     ]
    },
    {
     "name": "stderr",
     "output_type": "stream",
     "text": [
      "Using all known SNPs as background in the statistical analysis....  \n",
      "\n",
      "\n",
      "Warning message:\n",
      "“ggrepel: 573 unlabeled data points (too many overlaps). Consider increasing max.overlaps”\n",
      "Warning message:\n",
      "“ggrepel: 30 unlabeled data points (too many overlaps). Consider increasing max.overlaps”\n",
      "Using whole genome as background in the statistical analysis....  \n",
      "\n",
      "\n"
     ]
    },
    {
     "name": "stdout",
     "output_type": "stream",
     "text": [
      "\n",
      "\n"
     ]
    },
    {
     "name": "stderr",
     "output_type": "stream",
     "text": [
      "Using all known SNPs as background in the statistical analysis....  \n",
      "\n",
      "\n",
      "Warning message:\n",
      "“ggrepel: 573 unlabeled data points (too many overlaps). Consider increasing max.overlaps”\n",
      "Warning message:\n",
      "“ggrepel: 30 unlabeled data points (too many overlaps). Consider increasing max.overlaps”\n",
      "Using whole genome as background in the statistical analysis....  \n",
      "\n",
      "\n"
     ]
    },
    {
     "name": "stdout",
     "output_type": "stream",
     "text": [
      "\n",
      "\n"
     ]
    },
    {
     "name": "stderr",
     "output_type": "stream",
     "text": [
      "Using all known SNPs as background in the statistical analysis....  \n",
      "\n",
      "\n",
      "Warning message:\n",
      "“ggrepel: 573 unlabeled data points (too many overlaps). Consider increasing max.overlaps”\n",
      "Warning message:\n",
      "“ggrepel: 30 unlabeled data points (too many overlaps). Consider increasing max.overlaps”\n",
      "Using whole genome as background in the statistical analysis....  \n",
      "\n",
      "\n"
     ]
    },
    {
     "name": "stdout",
     "output_type": "stream",
     "text": [
      "\n",
      "\n"
     ]
    },
    {
     "name": "stderr",
     "output_type": "stream",
     "text": [
      "Using all known SNPs as background in the statistical analysis....  \n",
      "\n",
      "\n",
      "Warning message:\n",
      "“ggrepel: 573 unlabeled data points (too many overlaps). Consider increasing max.overlaps”\n",
      "Warning message:\n",
      "“ggrepel: 30 unlabeled data points (too many overlaps). Consider increasing max.overlaps”\n",
      "Using whole genome as background in the statistical analysis....  \n",
      "\n",
      "\n"
     ]
    },
    {
     "name": "stdout",
     "output_type": "stream",
     "text": [
      "\n",
      "\n"
     ]
    },
    {
     "name": "stderr",
     "output_type": "stream",
     "text": [
      "Using all known SNPs as background in the statistical analysis....  \n",
      "\n",
      "\n",
      "Warning message:\n",
      "“ggrepel: 573 unlabeled data points (too many overlaps). Consider increasing max.overlaps”\n",
      "Warning message:\n",
      "“ggrepel: 30 unlabeled data points (too many overlaps). Consider increasing max.overlaps”\n",
      "Using whole genome as background in the statistical analysis....  \n",
      "\n",
      "\n"
     ]
    },
    {
     "name": "stdout",
     "output_type": "stream",
     "text": [
      "\n",
      "\n"
     ]
    },
    {
     "name": "stderr",
     "output_type": "stream",
     "text": [
      "Using all known SNPs as background in the statistical analysis....  \n",
      "\n",
      "\n",
      "Warning message:\n",
      "“ggrepel: 573 unlabeled data points (too many overlaps). Consider increasing max.overlaps”\n",
      "Warning message:\n",
      "“ggrepel: 30 unlabeled data points (too many overlaps). Consider increasing max.overlaps”\n",
      "Using whole genome as background in the statistical analysis....  \n",
      "\n",
      "\n"
     ]
    },
    {
     "name": "stdout",
     "output_type": "stream",
     "text": [
      "\n",
      "\n"
     ]
    },
    {
     "name": "stderr",
     "output_type": "stream",
     "text": [
      "Using all known SNPs as background in the statistical analysis....  \n",
      "\n",
      "\n",
      "Warning message:\n",
      "“ggrepel: 573 unlabeled data points (too many overlaps). Consider increasing max.overlaps”\n",
      "Warning message:\n",
      "“ggrepel: 30 unlabeled data points (too many overlaps). Consider increasing max.overlaps”\n",
      "Using whole genome as background in the statistical analysis....  \n",
      "\n",
      "\n"
     ]
    },
    {
     "name": "stdout",
     "output_type": "stream",
     "text": [
      "\n",
      "\n"
     ]
    },
    {
     "name": "stderr",
     "output_type": "stream",
     "text": [
      "Using all known SNPs as background in the statistical analysis....  \n",
      "\n",
      "\n",
      "Warning message:\n",
      "“ggrepel: 573 unlabeled data points (too many overlaps). Consider increasing max.overlaps”\n",
      "Warning message:\n",
      "“ggrepel: 30 unlabeled data points (too many overlaps). Consider increasing max.overlaps”\n",
      "Using whole genome as background in the statistical analysis....  \n",
      "\n",
      "\n"
     ]
    },
    {
     "name": "stdout",
     "output_type": "stream",
     "text": [
      "\n",
      "\n"
     ]
    },
    {
     "name": "stderr",
     "output_type": "stream",
     "text": [
      "Using all known SNPs as background in the statistical analysis....  \n",
      "\n",
      "\n",
      "Warning message:\n",
      "“ggrepel: 573 unlabeled data points (too many overlaps). Consider increasing max.overlaps”\n",
      "Warning message:\n",
      "“ggrepel: 30 unlabeled data points (too many overlaps). Consider increasing max.overlaps”\n",
      "Using whole genome as background in the statistical analysis....  \n",
      "\n",
      "\n"
     ]
    },
    {
     "name": "stdout",
     "output_type": "stream",
     "text": [
      "\n",
      "\n"
     ]
    },
    {
     "name": "stderr",
     "output_type": "stream",
     "text": [
      "Using all known SNPs as background in the statistical analysis....  \n",
      "\n",
      "\n",
      "Warning message:\n",
      "“ggrepel: 573 unlabeled data points (too many overlaps). Consider increasing max.overlaps”\n",
      "Warning message:\n",
      "“ggrepel: 30 unlabeled data points (too many overlaps). Consider increasing max.overlaps”\n",
      "Using whole genome as background in the statistical analysis....  \n",
      "\n",
      "\n"
     ]
    },
    {
     "name": "stdout",
     "output_type": "stream",
     "text": [
      "\n",
      "\n"
     ]
    },
    {
     "name": "stderr",
     "output_type": "stream",
     "text": [
      "Using all known SNPs as background in the statistical analysis....  \n",
      "\n",
      "\n",
      "Warning message in .merge_two_Seqinfo_objects(x, y):\n",
      "“Each of the 2 combined objects has sequence levels not in the other:\n",
      "  - in 'x': chrX\n",
      "  - in 'y': chr21\n",
      "  Make sure to always combine/compare objects based on the same reference\n",
      "  genome (use suppressWarnings() to suppress this warning).”\n",
      "Warning message:\n",
      "“ggrepel: 573 unlabeled data points (too many overlaps). Consider increasing max.overlaps”\n",
      "Warning message:\n",
      "“ggrepel: 30 unlabeled data points (too many overlaps). Consider increasing max.overlaps”\n",
      "Using whole genome as background in the statistical analysis....  \n",
      "\n",
      "\n"
     ]
    },
    {
     "name": "stdout",
     "output_type": "stream",
     "text": [
      "\n",
      "\n"
     ]
    },
    {
     "name": "stderr",
     "output_type": "stream",
     "text": [
      "Using all known SNPs as background in the statistical analysis....  \n",
      "\n",
      "\n",
      "Warning message in .merge_two_Seqinfo_objects(x, y):\n",
      "“Each of the 2 combined objects has sequence levels not in the other:\n",
      "  - in 'x': chrX\n",
      "  - in 'y': chr21\n",
      "  Make sure to always combine/compare objects based on the same reference\n",
      "  genome (use suppressWarnings() to suppress this warning).”\n",
      "Warning message:\n",
      "“ggrepel: 572 unlabeled data points (too many overlaps). Consider increasing max.overlaps”\n",
      "Warning message:\n",
      "“ggrepel: 28 unlabeled data points (too many overlaps). Consider increasing max.overlaps”\n",
      "Using whole genome as background in the statistical analysis....  \n",
      "\n",
      "\n"
     ]
    },
    {
     "name": "stdout",
     "output_type": "stream",
     "text": [
      "\n",
      "\n"
     ]
    },
    {
     "name": "stderr",
     "output_type": "stream",
     "text": [
      "Using all known SNPs as background in the statistical analysis....  \n",
      "\n",
      "\n",
      "Warning message in .merge_two_Seqinfo_objects(x, y):\n",
      "“Each of the 2 combined objects has sequence levels not in the other:\n",
      "  - in 'x': chrX\n",
      "  - in 'y': chr21\n",
      "  Make sure to always combine/compare objects based on the same reference\n",
      "  genome (use suppressWarnings() to suppress this warning).”\n",
      "Warning message:\n",
      "“ggrepel: 572 unlabeled data points (too many overlaps). Consider increasing max.overlaps”\n",
      "Warning message:\n",
      "“ggrepel: 28 unlabeled data points (too many overlaps). Consider increasing max.overlaps”\n",
      "Using whole genome as background in the statistical analysis....  \n",
      "\n",
      "\n"
     ]
    },
    {
     "name": "stdout",
     "output_type": "stream",
     "text": [
      "\n",
      "\n"
     ]
    },
    {
     "name": "stderr",
     "output_type": "stream",
     "text": [
      "Using all known SNPs as background in the statistical analysis....  \n",
      "\n",
      "\n",
      "Warning message in .merge_two_Seqinfo_objects(x, y):\n",
      "“Each of the 2 combined objects has sequence levels not in the other:\n",
      "  - in 'x': chrX\n",
      "  - in 'y': chr21\n",
      "  Make sure to always combine/compare objects based on the same reference\n",
      "  genome (use suppressWarnings() to suppress this warning).”\n",
      "Warning message:\n",
      "“ggrepel: 572 unlabeled data points (too many overlaps). Consider increasing max.overlaps”\n",
      "Warning message:\n",
      "“ggrepel: 29 unlabeled data points (too many overlaps). Consider increasing max.overlaps”\n",
      "Using whole genome as background in the statistical analysis....  \n",
      "\n",
      "\n"
     ]
    },
    {
     "name": "stdout",
     "output_type": "stream",
     "text": [
      "\n",
      "\n"
     ]
    },
    {
     "name": "stderr",
     "output_type": "stream",
     "text": [
      "Using all known SNPs as background in the statistical analysis....  \n",
      "\n",
      "\n",
      "Warning message in .merge_two_Seqinfo_objects(x, y):\n",
      "“Each of the 2 combined objects has sequence levels not in the other:\n",
      "  - in 'x': chrX\n",
      "  - in 'y': chr21\n",
      "  Make sure to always combine/compare objects based on the same reference\n",
      "  genome (use suppressWarnings() to suppress this warning).”\n",
      "Warning message:\n",
      "“ggrepel: 572 unlabeled data points (too many overlaps). Consider increasing max.overlaps”\n",
      "Warning message:\n",
      "“ggrepel: 29 unlabeled data points (too many overlaps). Consider increasing max.overlaps”\n",
      "Using whole genome as background in the statistical analysis....  \n",
      "\n",
      "\n"
     ]
    },
    {
     "name": "stdout",
     "output_type": "stream",
     "text": [
      "\n",
      "\n"
     ]
    },
    {
     "name": "stderr",
     "output_type": "stream",
     "text": [
      "Using all known SNPs as background in the statistical analysis....  \n",
      "\n",
      "\n",
      "Warning message in .merge_two_Seqinfo_objects(x, y):\n",
      "“Each of the 2 combined objects has sequence levels not in the other:\n",
      "  - in 'x': chrX\n",
      "  - in 'y': chr21\n",
      "  Make sure to always combine/compare objects based on the same reference\n",
      "  genome (use suppressWarnings() to suppress this warning).”\n",
      "Warning message:\n",
      "“ggrepel: 572 unlabeled data points (too many overlaps). Consider increasing max.overlaps”\n",
      "Warning message:\n",
      "“ggrepel: 28 unlabeled data points (too many overlaps). Consider increasing max.overlaps”\n",
      "Using whole genome as background in the statistical analysis....  \n",
      "\n",
      "\n"
     ]
    },
    {
     "name": "stdout",
     "output_type": "stream",
     "text": [
      "\n",
      "\n"
     ]
    },
    {
     "name": "stderr",
     "output_type": "stream",
     "text": [
      "Using all known SNPs as background in the statistical analysis....  \n",
      "\n",
      "\n",
      "Warning message in .merge_two_Seqinfo_objects(x, y):\n",
      "“Each of the 2 combined objects has sequence levels not in the other:\n",
      "  - in 'x': chrX\n",
      "  - in 'y': chr21\n",
      "  Make sure to always combine/compare objects based on the same reference\n",
      "  genome (use suppressWarnings() to suppress this warning).”\n",
      "Warning message:\n",
      "“ggrepel: 572 unlabeled data points (too many overlaps). Consider increasing max.overlaps”\n",
      "Warning message:\n",
      "“ggrepel: 28 unlabeled data points (too many overlaps). Consider increasing max.overlaps”\n",
      "Using whole genome as background in the statistical analysis....  \n",
      "\n",
      "\n"
     ]
    },
    {
     "name": "stdout",
     "output_type": "stream",
     "text": [
      "\n",
      "\n"
     ]
    },
    {
     "name": "stderr",
     "output_type": "stream",
     "text": [
      "Using all known SNPs as background in the statistical analysis....  \n",
      "\n",
      "\n",
      "Warning message in .merge_two_Seqinfo_objects(x, y):\n",
      "“Each of the 2 combined objects has sequence levels not in the other:\n",
      "  - in 'x': chrX\n",
      "  - in 'y': chr21\n",
      "  Make sure to always combine/compare objects based on the same reference\n",
      "  genome (use suppressWarnings() to suppress this warning).”\n",
      "Warning message:\n",
      "“ggrepel: 572 unlabeled data points (too many overlaps). Consider increasing max.overlaps”\n",
      "Warning message:\n",
      "“ggrepel: 28 unlabeled data points (too many overlaps). Consider increasing max.overlaps”\n",
      "Using whole genome as background in the statistical analysis....  \n",
      "\n",
      "\n"
     ]
    },
    {
     "name": "stdout",
     "output_type": "stream",
     "text": [
      "\n",
      "\n"
     ]
    },
    {
     "name": "stderr",
     "output_type": "stream",
     "text": [
      "Using all known SNPs as background in the statistical analysis....  \n",
      "\n",
      "\n",
      "Warning message in .merge_two_Seqinfo_objects(x, y):\n",
      "“Each of the 2 combined objects has sequence levels not in the other:\n",
      "  - in 'x': chrX\n",
      "  - in 'y': chr21\n",
      "  Make sure to always combine/compare objects based on the same reference\n",
      "  genome (use suppressWarnings() to suppress this warning).”\n",
      "Warning message:\n",
      "“ggrepel: 572 unlabeled data points (too many overlaps). Consider increasing max.overlaps”\n",
      "Warning message:\n",
      "“ggrepel: 28 unlabeled data points (too many overlaps). Consider increasing max.overlaps”\n",
      "Using whole genome as background in the statistical analysis....  \n",
      "\n",
      "\n"
     ]
    },
    {
     "name": "stdout",
     "output_type": "stream",
     "text": [
      "\n",
      "\n"
     ]
    },
    {
     "name": "stderr",
     "output_type": "stream",
     "text": [
      "Using all known SNPs as background in the statistical analysis....  \n",
      "\n",
      "\n",
      "Warning message in .merge_two_Seqinfo_objects(x, y):\n",
      "“Each of the 2 combined objects has sequence levels not in the other:\n",
      "  - in 'x': chrX\n",
      "  - in 'y': chr21\n",
      "  Make sure to always combine/compare objects based on the same reference\n",
      "  genome (use suppressWarnings() to suppress this warning).”\n",
      "Warning message:\n",
      "“ggrepel: 572 unlabeled data points (too many overlaps). Consider increasing max.overlaps”\n",
      "Warning message:\n",
      "“ggrepel: 28 unlabeled data points (too many overlaps). Consider increasing max.overlaps”\n",
      "Using whole genome as background in the statistical analysis....  \n",
      "\n",
      "\n"
     ]
    },
    {
     "name": "stdout",
     "output_type": "stream",
     "text": [
      "\n",
      "\n"
     ]
    },
    {
     "name": "stderr",
     "output_type": "stream",
     "text": [
      "Using all known SNPs as background in the statistical analysis....  \n",
      "\n",
      "\n",
      "Warning message in .merge_two_Seqinfo_objects(x, y):\n",
      "“Each of the 2 combined objects has sequence levels not in the other:\n",
      "  - in 'x': chrX\n",
      "  - in 'y': chr21\n",
      "  Make sure to always combine/compare objects based on the same reference\n",
      "  genome (use suppressWarnings() to suppress this warning).”\n",
      "Warning message:\n",
      "“ggrepel: 572 unlabeled data points (too many overlaps). Consider increasing max.overlaps”\n",
      "Warning message:\n",
      "“ggrepel: 28 unlabeled data points (too many overlaps). Consider increasing max.overlaps”\n",
      "Using whole genome as background in the statistical analysis....  \n",
      "\n",
      "\n"
     ]
    },
    {
     "name": "stdout",
     "output_type": "stream",
     "text": [
      "No SNP overlap found for 0 bp expansion. Skipping...\n"
     ]
    },
    {
     "name": "stderr",
     "output_type": "stream",
     "text": [
      "Using whole genome as background in the statistical analysis....  \n",
      "\n",
      "\n"
     ]
    },
    {
     "name": "stdout",
     "output_type": "stream",
     "text": [
      "\n",
      "\n"
     ]
    },
    {
     "name": "stderr",
     "output_type": "stream",
     "text": [
      "Using all known SNPs as background in the statistical analysis....  \n",
      "\n",
      "\n",
      "Warning message in .merge_two_Seqinfo_objects(x, y):\n",
      "“Each of the 2 combined objects has sequence levels not in the other:\n",
      "  - in 'x': chrX\n",
      "  - in 'y': chr19\n",
      "  Make sure to always combine/compare objects based on the same reference\n",
      "  genome (use suppressWarnings() to suppress this warning).”\n",
      "Warning message:\n",
      "“ggrepel: 573 unlabeled data points (too many overlaps). Consider increasing max.overlaps”\n",
      "Warning message:\n",
      "“ggrepel: 30 unlabeled data points (too many overlaps). Consider increasing max.overlaps”\n",
      "Using whole genome as background in the statistical analysis....  \n",
      "\n",
      "\n"
     ]
    },
    {
     "name": "stdout",
     "output_type": "stream",
     "text": [
      "\n",
      "\n"
     ]
    },
    {
     "name": "stderr",
     "output_type": "stream",
     "text": [
      "Using all known SNPs as background in the statistical analysis....  \n",
      "\n",
      "\n",
      "Warning message in .merge_two_Seqinfo_objects(x, y):\n",
      "“Each of the 2 combined objects has sequence levels not in the other:\n",
      "  - in 'x': chrX\n",
      "  - in 'y': chr19\n",
      "  Make sure to always combine/compare objects based on the same reference\n",
      "  genome (use suppressWarnings() to suppress this warning).”\n",
      "Warning message:\n",
      "“ggrepel: 573 unlabeled data points (too many overlaps). Consider increasing max.overlaps”\n",
      "Warning message:\n",
      "“ggrepel: 28 unlabeled data points (too many overlaps). Consider increasing max.overlaps”\n",
      "Using whole genome as background in the statistical analysis....  \n",
      "\n",
      "\n"
     ]
    },
    {
     "name": "stdout",
     "output_type": "stream",
     "text": [
      "\n",
      "\n"
     ]
    },
    {
     "name": "stderr",
     "output_type": "stream",
     "text": [
      "Using all known SNPs as background in the statistical analysis....  \n",
      "\n",
      "\n",
      "Warning message in .merge_two_Seqinfo_objects(x, y):\n",
      "“Each of the 2 combined objects has sequence levels not in the other:\n",
      "  - in 'x': chrX\n",
      "  - in 'y': chr19\n",
      "  Make sure to always combine/compare objects based on the same reference\n",
      "  genome (use suppressWarnings() to suppress this warning).”\n",
      "Warning message:\n",
      "“ggrepel: 573 unlabeled data points (too many overlaps). Consider increasing max.overlaps”\n",
      "Warning message:\n",
      "“ggrepel: 28 unlabeled data points (too many overlaps). Consider increasing max.overlaps”\n",
      "Using whole genome as background in the statistical analysis....  \n",
      "\n",
      "\n"
     ]
    },
    {
     "name": "stdout",
     "output_type": "stream",
     "text": [
      "\n",
      "\n"
     ]
    },
    {
     "name": "stderr",
     "output_type": "stream",
     "text": [
      "Using all known SNPs as background in the statistical analysis....  \n",
      "\n",
      "\n",
      "Warning message in .merge_two_Seqinfo_objects(x, y):\n",
      "“Each of the 2 combined objects has sequence levels not in the other:\n",
      "  - in 'x': chrX\n",
      "  - in 'y': chr19\n",
      "  Make sure to always combine/compare objects based on the same reference\n",
      "  genome (use suppressWarnings() to suppress this warning).”\n",
      "Warning message:\n",
      "“ggrepel: 573 unlabeled data points (too many overlaps). Consider increasing max.overlaps”\n",
      "Warning message:\n",
      "“ggrepel: 27 unlabeled data points (too many overlaps). Consider increasing max.overlaps”\n",
      "Using whole genome as background in the statistical analysis....  \n",
      "\n",
      "\n"
     ]
    },
    {
     "name": "stdout",
     "output_type": "stream",
     "text": [
      "\n",
      "\n"
     ]
    },
    {
     "name": "stderr",
     "output_type": "stream",
     "text": [
      "Using all known SNPs as background in the statistical analysis....  \n",
      "\n",
      "\n",
      "Warning message in .merge_two_Seqinfo_objects(x, y):\n",
      "“Each of the 2 combined objects has sequence levels not in the other:\n",
      "  - in 'x': chrX\n",
      "  - in 'y': chr19\n",
      "  Make sure to always combine/compare objects based on the same reference\n",
      "  genome (use suppressWarnings() to suppress this warning).”\n",
      "Warning message:\n",
      "“ggrepel: 573 unlabeled data points (too many overlaps). Consider increasing max.overlaps”\n",
      "Warning message:\n",
      "“ggrepel: 27 unlabeled data points (too many overlaps). Consider increasing max.overlaps”\n",
      "Using whole genome as background in the statistical analysis....  \n",
      "\n",
      "\n"
     ]
    },
    {
     "name": "stdout",
     "output_type": "stream",
     "text": [
      "\n",
      "\n"
     ]
    },
    {
     "name": "stderr",
     "output_type": "stream",
     "text": [
      "Using all known SNPs as background in the statistical analysis....  \n",
      "\n",
      "\n",
      "Warning message in .merge_two_Seqinfo_objects(x, y):\n",
      "“Each of the 2 combined objects has sequence levels not in the other:\n",
      "  - in 'x': chrX\n",
      "  - in 'y': chr19\n",
      "  Make sure to always combine/compare objects based on the same reference\n",
      "  genome (use suppressWarnings() to suppress this warning).”\n",
      "Warning message:\n",
      "“ggrepel: 573 unlabeled data points (too many overlaps). Consider increasing max.overlaps”\n",
      "Warning message:\n",
      "“ggrepel: 26 unlabeled data points (too many overlaps). Consider increasing max.overlaps”\n",
      "Using whole genome as background in the statistical analysis....  \n",
      "\n",
      "\n"
     ]
    },
    {
     "name": "stdout",
     "output_type": "stream",
     "text": [
      "\n",
      "\n"
     ]
    },
    {
     "name": "stderr",
     "output_type": "stream",
     "text": [
      "Using all known SNPs as background in the statistical analysis....  \n",
      "\n",
      "\n",
      "Warning message in .merge_two_Seqinfo_objects(x, y):\n",
      "“Each of the 2 combined objects has sequence levels not in the other:\n",
      "  - in 'x': chrX\n",
      "  - in 'y': chr19\n",
      "  Make sure to always combine/compare objects based on the same reference\n",
      "  genome (use suppressWarnings() to suppress this warning).”\n",
      "Warning message:\n",
      "“ggrepel: 573 unlabeled data points (too many overlaps). Consider increasing max.overlaps”\n",
      "Warning message:\n",
      "“ggrepel: 26 unlabeled data points (too many overlaps). Consider increasing max.overlaps”\n",
      "Using whole genome as background in the statistical analysis....  \n",
      "\n",
      "\n"
     ]
    },
    {
     "name": "stdout",
     "output_type": "stream",
     "text": [
      "\n",
      "\n"
     ]
    },
    {
     "name": "stderr",
     "output_type": "stream",
     "text": [
      "Using all known SNPs as background in the statistical analysis....  \n",
      "\n",
      "\n",
      "Warning message in .merge_two_Seqinfo_objects(x, y):\n",
      "“Each of the 2 combined objects has sequence levels not in the other:\n",
      "  - in 'x': chrX\n",
      "  - in 'y': chr19\n",
      "  Make sure to always combine/compare objects based on the same reference\n",
      "  genome (use suppressWarnings() to suppress this warning).”\n",
      "Warning message:\n",
      "“ggrepel: 573 unlabeled data points (too many overlaps). Consider increasing max.overlaps”\n",
      "Warning message:\n",
      "“ggrepel: 26 unlabeled data points (too many overlaps). Consider increasing max.overlaps”\n",
      "Using whole genome as background in the statistical analysis....  \n",
      "\n",
      "\n"
     ]
    },
    {
     "name": "stdout",
     "output_type": "stream",
     "text": [
      "\n",
      "\n"
     ]
    },
    {
     "name": "stderr",
     "output_type": "stream",
     "text": [
      "Using all known SNPs as background in the statistical analysis....  \n",
      "\n",
      "\n",
      "Warning message in .merge_two_Seqinfo_objects(x, y):\n",
      "“Each of the 2 combined objects has sequence levels not in the other:\n",
      "  - in 'x': chrX\n",
      "  - in 'y': chr19\n",
      "  Make sure to always combine/compare objects based on the same reference\n",
      "  genome (use suppressWarnings() to suppress this warning).”\n",
      "Warning message:\n",
      "“ggrepel: 573 unlabeled data points (too many overlaps). Consider increasing max.overlaps”\n",
      "Warning message:\n",
      "“ggrepel: 26 unlabeled data points (too many overlaps). Consider increasing max.overlaps”\n",
      "Using whole genome as background in the statistical analysis....  \n",
      "\n",
      "\n"
     ]
    },
    {
     "name": "stdout",
     "output_type": "stream",
     "text": [
      "\n",
      "\n"
     ]
    },
    {
     "name": "stderr",
     "output_type": "stream",
     "text": [
      "Using all known SNPs as background in the statistical analysis....  \n",
      "\n",
      "\n",
      "Warning message in .merge_two_Seqinfo_objects(x, y):\n",
      "“Each of the 2 combined objects has sequence levels not in the other:\n",
      "  - in 'x': chrX\n",
      "  - in 'y': chr19\n",
      "  Make sure to always combine/compare objects based on the same reference\n",
      "  genome (use suppressWarnings() to suppress this warning).”\n",
      "Warning message:\n",
      "“ggrepel: 573 unlabeled data points (too many overlaps). Consider increasing max.overlaps”\n",
      "Warning message:\n",
      "“ggrepel: 26 unlabeled data points (too many overlaps). Consider increasing max.overlaps”\n",
      "Using whole genome as background in the statistical analysis....  \n",
      "\n",
      "\n"
     ]
    },
    {
     "name": "stdout",
     "output_type": "stream",
     "text": [
      "No SNP overlap found for 0 bp expansion. Skipping...\n"
     ]
    },
    {
     "name": "stderr",
     "output_type": "stream",
     "text": [
      "Using whole genome as background in the statistical analysis....  \n",
      "\n",
      "\n"
     ]
    },
    {
     "name": "stdout",
     "output_type": "stream",
     "text": [
      "No SNP overlap found for 50 bp expansion. Skipping...\n"
     ]
    },
    {
     "name": "stderr",
     "output_type": "stream",
     "text": [
      "Using whole genome as background in the statistical analysis....  \n",
      "\n",
      "\n"
     ]
    },
    {
     "name": "stdout",
     "output_type": "stream",
     "text": [
      "No SNP overlap found for 100 bp expansion. Skipping...\n"
     ]
    },
    {
     "name": "stderr",
     "output_type": "stream",
     "text": [
      "Using whole genome as background in the statistical analysis....  \n",
      "\n",
      "\n"
     ]
    },
    {
     "name": "stdout",
     "output_type": "stream",
     "text": [
      "No SNP overlap found for 150 bp expansion. Skipping...\n"
     ]
    },
    {
     "name": "stderr",
     "output_type": "stream",
     "text": [
      "Using whole genome as background in the statistical analysis....  \n",
      "\n",
      "\n"
     ]
    },
    {
     "name": "stdout",
     "output_type": "stream",
     "text": [
      "No SNP overlap found for 200 bp expansion. Skipping...\n"
     ]
    },
    {
     "name": "stderr",
     "output_type": "stream",
     "text": [
      "Using whole genome as background in the statistical analysis....  \n",
      "\n",
      "\n"
     ]
    },
    {
     "name": "stdout",
     "output_type": "stream",
     "text": [
      "No SNP overlap found for 250 bp expansion. Skipping...\n"
     ]
    },
    {
     "name": "stderr",
     "output_type": "stream",
     "text": [
      "Using whole genome as background in the statistical analysis....  \n",
      "\n",
      "\n"
     ]
    },
    {
     "name": "stdout",
     "output_type": "stream",
     "text": [
      "No SNP overlap found for 300 bp expansion. Skipping...\n"
     ]
    },
    {
     "name": "stderr",
     "output_type": "stream",
     "text": [
      "Using whole genome as background in the statistical analysis....  \n",
      "\n",
      "\n"
     ]
    },
    {
     "name": "stdout",
     "output_type": "stream",
     "text": [
      "No SNP overlap found for 350 bp expansion. Skipping...\n"
     ]
    },
    {
     "name": "stderr",
     "output_type": "stream",
     "text": [
      "Using whole genome as background in the statistical analysis....  \n",
      "\n",
      "\n"
     ]
    },
    {
     "name": "stdout",
     "output_type": "stream",
     "text": [
      "No SNP overlap found for 400 bp expansion. Skipping...\n"
     ]
    },
    {
     "name": "stderr",
     "output_type": "stream",
     "text": [
      "Using whole genome as background in the statistical analysis....  \n",
      "\n",
      "\n"
     ]
    },
    {
     "name": "stdout",
     "output_type": "stream",
     "text": [
      "No SNP overlap found for 450 bp expansion. Skipping...\n"
     ]
    },
    {
     "name": "stderr",
     "output_type": "stream",
     "text": [
      "Using whole genome as background in the statistical analysis....  \n",
      "\n",
      "\n"
     ]
    },
    {
     "name": "stdout",
     "output_type": "stream",
     "text": [
      "No SNP overlap found for 500 bp expansion. Skipping...\n"
     ]
    },
    {
     "name": "stderr",
     "output_type": "stream",
     "text": [
      "Using whole genome as background in the statistical analysis....  \n",
      "\n",
      "\n"
     ]
    },
    {
     "name": "stdout",
     "output_type": "stream",
     "text": [
      "No SNP overlap found for 0 bp expansion. Skipping...\n"
     ]
    },
    {
     "name": "stderr",
     "output_type": "stream",
     "text": [
      "Using whole genome as background in the statistical analysis....  \n",
      "\n",
      "\n"
     ]
    },
    {
     "name": "stdout",
     "output_type": "stream",
     "text": [
      "No SNP overlap found for 50 bp expansion. Skipping...\n"
     ]
    },
    {
     "name": "stderr",
     "output_type": "stream",
     "text": [
      "Using whole genome as background in the statistical analysis....  \n",
      "\n",
      "\n"
     ]
    },
    {
     "name": "stdout",
     "output_type": "stream",
     "text": [
      "No SNP overlap found for 100 bp expansion. Skipping...\n"
     ]
    },
    {
     "name": "stderr",
     "output_type": "stream",
     "text": [
      "Using whole genome as background in the statistical analysis....  \n",
      "\n",
      "\n"
     ]
    },
    {
     "name": "stdout",
     "output_type": "stream",
     "text": [
      "No SNP overlap found for 150 bp expansion. Skipping...\n"
     ]
    },
    {
     "name": "stderr",
     "output_type": "stream",
     "text": [
      "Using whole genome as background in the statistical analysis....  \n",
      "\n",
      "\n"
     ]
    },
    {
     "name": "stdout",
     "output_type": "stream",
     "text": [
      "No SNP overlap found for 200 bp expansion. Skipping...\n"
     ]
    },
    {
     "name": "stderr",
     "output_type": "stream",
     "text": [
      "Using whole genome as background in the statistical analysis....  \n",
      "\n",
      "\n"
     ]
    },
    {
     "name": "stdout",
     "output_type": "stream",
     "text": [
      "No SNP overlap found for 250 bp expansion. Skipping...\n"
     ]
    },
    {
     "name": "stderr",
     "output_type": "stream",
     "text": [
      "Using whole genome as background in the statistical analysis....  \n",
      "\n",
      "\n"
     ]
    },
    {
     "name": "stdout",
     "output_type": "stream",
     "text": [
      "No SNP overlap found for 300 bp expansion. Skipping...\n"
     ]
    },
    {
     "name": "stderr",
     "output_type": "stream",
     "text": [
      "Using whole genome as background in the statistical analysis....  \n",
      "\n",
      "\n"
     ]
    },
    {
     "name": "stdout",
     "output_type": "stream",
     "text": [
      "No SNP overlap found for 350 bp expansion. Skipping...\n"
     ]
    },
    {
     "name": "stderr",
     "output_type": "stream",
     "text": [
      "Using whole genome as background in the statistical analysis....  \n",
      "\n",
      "\n"
     ]
    },
    {
     "name": "stdout",
     "output_type": "stream",
     "text": [
      "No SNP overlap found for 400 bp expansion. Skipping...\n"
     ]
    },
    {
     "name": "stderr",
     "output_type": "stream",
     "text": [
      "Using whole genome as background in the statistical analysis....  \n",
      "\n",
      "\n"
     ]
    },
    {
     "name": "stdout",
     "output_type": "stream",
     "text": [
      "No SNP overlap found for 450 bp expansion. Skipping...\n"
     ]
    },
    {
     "name": "stderr",
     "output_type": "stream",
     "text": [
      "Using whole genome as background in the statistical analysis....  \n",
      "\n",
      "\n"
     ]
    },
    {
     "name": "stdout",
     "output_type": "stream",
     "text": [
      "No SNP overlap found for 500 bp expansion. Skipping...\n"
     ]
    },
    {
     "name": "stderr",
     "output_type": "stream",
     "text": [
      "Using whole genome as background in the statistical analysis....  \n",
      "\n",
      "\n"
     ]
    },
    {
     "name": "stdout",
     "output_type": "stream",
     "text": [
      "\n",
      "\n"
     ]
    },
    {
     "name": "stderr",
     "output_type": "stream",
     "text": [
      "Using all known SNPs as background in the statistical analysis....  \n",
      "\n",
      "\n",
      "Warning message in .merge_two_Seqinfo_objects(x, y):\n",
      "“Each of the 2 combined objects has sequence levels not in the other:\n",
      "  - in 'x': chrX\n",
      "  - in 'y': chr9, chr21\n",
      "  Make sure to always combine/compare objects based on the same reference\n",
      "  genome (use suppressWarnings() to suppress this warning).”\n",
      "Warning message:\n",
      "“ggrepel: 572 unlabeled data points (too many overlaps). Consider increasing max.overlaps”\n",
      "Warning message:\n",
      "“ggrepel: 29 unlabeled data points (too many overlaps). Consider increasing max.overlaps”\n",
      "Using whole genome as background in the statistical analysis....  \n",
      "\n",
      "\n"
     ]
    },
    {
     "name": "stdout",
     "output_type": "stream",
     "text": [
      "\n",
      "\n"
     ]
    },
    {
     "name": "stderr",
     "output_type": "stream",
     "text": [
      "Using all known SNPs as background in the statistical analysis....  \n",
      "\n",
      "\n",
      "Warning message in .merge_two_Seqinfo_objects(x, y):\n",
      "“Each of the 2 combined objects has sequence levels not in the other:\n",
      "  - in 'x': chrX\n",
      "  - in 'y': chr9, chr21\n",
      "  Make sure to always combine/compare objects based on the same reference\n",
      "  genome (use suppressWarnings() to suppress this warning).”\n",
      "Warning message:\n",
      "“ggrepel: 572 unlabeled data points (too many overlaps). Consider increasing max.overlaps”\n",
      "Warning message:\n",
      "“ggrepel: 29 unlabeled data points (too many overlaps). Consider increasing max.overlaps”\n",
      "Using whole genome as background in the statistical analysis....  \n",
      "\n",
      "\n"
     ]
    },
    {
     "name": "stdout",
     "output_type": "stream",
     "text": [
      "\n",
      "\n"
     ]
    },
    {
     "name": "stderr",
     "output_type": "stream",
     "text": [
      "Using all known SNPs as background in the statistical analysis....  \n",
      "\n",
      "\n",
      "Warning message in .merge_two_Seqinfo_objects(x, y):\n",
      "“Each of the 2 combined objects has sequence levels not in the other:\n",
      "  - in 'x': chrX\n",
      "  - in 'y': chr9, chr21\n",
      "  Make sure to always combine/compare objects based on the same reference\n",
      "  genome (use suppressWarnings() to suppress this warning).”\n",
      "Warning message:\n",
      "“ggrepel: 572 unlabeled data points (too many overlaps). Consider increasing max.overlaps”\n",
      "Warning message:\n",
      "“ggrepel: 29 unlabeled data points (too many overlaps). Consider increasing max.overlaps”\n",
      "Using whole genome as background in the statistical analysis....  \n",
      "\n",
      "\n"
     ]
    },
    {
     "name": "stdout",
     "output_type": "stream",
     "text": [
      "\n",
      "\n"
     ]
    },
    {
     "name": "stderr",
     "output_type": "stream",
     "text": [
      "Using all known SNPs as background in the statistical analysis....  \n",
      "\n",
      "\n",
      "Warning message in .merge_two_Seqinfo_objects(x, y):\n",
      "“Each of the 2 combined objects has sequence levels not in the other:\n",
      "  - in 'x': chrX\n",
      "  - in 'y': chr9, chr21\n",
      "  Make sure to always combine/compare objects based on the same reference\n",
      "  genome (use suppressWarnings() to suppress this warning).”\n",
      "Warning message:\n",
      "“ggrepel: 571 unlabeled data points (too many overlaps). Consider increasing max.overlaps”\n",
      "Warning message:\n",
      "“ggrepel: 29 unlabeled data points (too many overlaps). Consider increasing max.overlaps”\n",
      "Using whole genome as background in the statistical analysis....  \n",
      "\n",
      "\n"
     ]
    },
    {
     "name": "stdout",
     "output_type": "stream",
     "text": [
      "\n",
      "\n"
     ]
    },
    {
     "name": "stderr",
     "output_type": "stream",
     "text": [
      "Using all known SNPs as background in the statistical analysis....  \n",
      "\n",
      "\n",
      "Warning message in .merge_two_Seqinfo_objects(x, y):\n",
      "“Each of the 2 combined objects has sequence levels not in the other:\n",
      "  - in 'x': chrX\n",
      "  - in 'y': chr9, chr21\n",
      "  Make sure to always combine/compare objects based on the same reference\n",
      "  genome (use suppressWarnings() to suppress this warning).”\n",
      "Warning message:\n",
      "“ggrepel: 572 unlabeled data points (too many overlaps). Consider increasing max.overlaps”\n",
      "Warning message:\n",
      "“ggrepel: 29 unlabeled data points (too many overlaps). Consider increasing max.overlaps”\n",
      "Using whole genome as background in the statistical analysis....  \n",
      "\n",
      "\n"
     ]
    },
    {
     "name": "stdout",
     "output_type": "stream",
     "text": [
      "\n",
      "\n"
     ]
    },
    {
     "name": "stderr",
     "output_type": "stream",
     "text": [
      "Using all known SNPs as background in the statistical analysis....  \n",
      "\n",
      "\n",
      "Warning message in .merge_two_Seqinfo_objects(x, y):\n",
      "“Each of the 2 combined objects has sequence levels not in the other:\n",
      "  - in 'x': chrX\n",
      "  - in 'y': chr9, chr21\n",
      "  Make sure to always combine/compare objects based on the same reference\n",
      "  genome (use suppressWarnings() to suppress this warning).”\n",
      "Warning message:\n",
      "“ggrepel: 572 unlabeled data points (too many overlaps). Consider increasing max.overlaps”\n",
      "Warning message:\n",
      "“ggrepel: 29 unlabeled data points (too many overlaps). Consider increasing max.overlaps”\n",
      "Using whole genome as background in the statistical analysis....  \n",
      "\n",
      "\n"
     ]
    },
    {
     "name": "stdout",
     "output_type": "stream",
     "text": [
      "\n",
      "\n"
     ]
    },
    {
     "name": "stderr",
     "output_type": "stream",
     "text": [
      "Using all known SNPs as background in the statistical analysis....  \n",
      "\n",
      "\n",
      "Warning message in .merge_two_Seqinfo_objects(x, y):\n",
      "“Each of the 2 combined objects has sequence levels not in the other:\n",
      "  - in 'x': chrX\n",
      "  - in 'y': chr9, chr21\n",
      "  Make sure to always combine/compare objects based on the same reference\n",
      "  genome (use suppressWarnings() to suppress this warning).”\n",
      "Warning message:\n",
      "“ggrepel: 572 unlabeled data points (too many overlaps). Consider increasing max.overlaps”\n",
      "Warning message:\n",
      "“ggrepel: 29 unlabeled data points (too many overlaps). Consider increasing max.overlaps”\n",
      "Using whole genome as background in the statistical analysis....  \n",
      "\n",
      "\n"
     ]
    },
    {
     "name": "stdout",
     "output_type": "stream",
     "text": [
      "\n",
      "\n"
     ]
    },
    {
     "name": "stderr",
     "output_type": "stream",
     "text": [
      "Using all known SNPs as background in the statistical analysis....  \n",
      "\n",
      "\n",
      "Warning message in .merge_two_Seqinfo_objects(x, y):\n",
      "“Each of the 2 combined objects has sequence levels not in the other:\n",
      "  - in 'x': chrX\n",
      "  - in 'y': chr9, chr21\n",
      "  Make sure to always combine/compare objects based on the same reference\n",
      "  genome (use suppressWarnings() to suppress this warning).”\n",
      "Warning message:\n",
      "“ggrepel: 572 unlabeled data points (too many overlaps). Consider increasing max.overlaps”\n",
      "Warning message:\n",
      "“ggrepel: 29 unlabeled data points (too many overlaps). Consider increasing max.overlaps”\n",
      "Using whole genome as background in the statistical analysis....  \n",
      "\n",
      "\n"
     ]
    },
    {
     "name": "stdout",
     "output_type": "stream",
     "text": [
      "\n",
      "\n"
     ]
    },
    {
     "name": "stderr",
     "output_type": "stream",
     "text": [
      "Using all known SNPs as background in the statistical analysis....  \n",
      "\n",
      "\n",
      "Warning message in .merge_two_Seqinfo_objects(x, y):\n",
      "“Each of the 2 combined objects has sequence levels not in the other:\n",
      "  - in 'x': chrX\n",
      "  - in 'y': chr9, chr21\n",
      "  Make sure to always combine/compare objects based on the same reference\n",
      "  genome (use suppressWarnings() to suppress this warning).”\n",
      "Warning message:\n",
      "“ggrepel: 571 unlabeled data points (too many overlaps). Consider increasing max.overlaps”\n",
      "Warning message:\n",
      "“ggrepel: 29 unlabeled data points (too many overlaps). Consider increasing max.overlaps”\n",
      "Using whole genome as background in the statistical analysis....  \n",
      "\n",
      "\n"
     ]
    },
    {
     "name": "stdout",
     "output_type": "stream",
     "text": [
      "\n",
      "\n"
     ]
    },
    {
     "name": "stderr",
     "output_type": "stream",
     "text": [
      "Using all known SNPs as background in the statistical analysis....  \n",
      "\n",
      "\n",
      "Warning message in .merge_two_Seqinfo_objects(x, y):\n",
      "“Each of the 2 combined objects has sequence levels not in the other:\n",
      "  - in 'x': chrX\n",
      "  - in 'y': chr9, chr21\n",
      "  Make sure to always combine/compare objects based on the same reference\n",
      "  genome (use suppressWarnings() to suppress this warning).”\n",
      "Warning message:\n",
      "“ggrepel: 571 unlabeled data points (too many overlaps). Consider increasing max.overlaps”\n",
      "Warning message:\n",
      "“ggrepel: 29 unlabeled data points (too many overlaps). Consider increasing max.overlaps”\n",
      "Using whole genome as background in the statistical analysis....  \n",
      "\n",
      "\n"
     ]
    },
    {
     "name": "stdout",
     "output_type": "stream",
     "text": [
      "\n",
      "\n"
     ]
    },
    {
     "name": "stderr",
     "output_type": "stream",
     "text": [
      "Using all known SNPs as background in the statistical analysis....  \n",
      "\n",
      "\n",
      "Warning message in .merge_two_Seqinfo_objects(x, y):\n",
      "“Each of the 2 combined objects has sequence levels not in the other:\n",
      "  - in 'x': chrX\n",
      "  - in 'y': chr9, chr21\n",
      "  Make sure to always combine/compare objects based on the same reference\n",
      "  genome (use suppressWarnings() to suppress this warning).”\n",
      "Warning message:\n",
      "“ggrepel: 571 unlabeled data points (too many overlaps). Consider increasing max.overlaps”\n",
      "Warning message:\n",
      "“ggrepel: 29 unlabeled data points (too many overlaps). Consider increasing max.overlaps”\n",
      "Using whole genome as background in the statistical analysis....  \n",
      "\n",
      "\n"
     ]
    },
    {
     "name": "stdout",
     "output_type": "stream",
     "text": [
      "\n",
      "\n"
     ]
    },
    {
     "name": "stderr",
     "output_type": "stream",
     "text": [
      "Using all known SNPs as background in the statistical analysis....  \n",
      "\n",
      "\n",
      "Warning message in .merge_two_Seqinfo_objects(x, y):\n",
      "“Each of the 2 combined objects has sequence levels not in the other:\n",
      "  - in 'x': chrX\n",
      "  - in 'y': chr21\n",
      "  Make sure to always combine/compare objects based on the same reference\n",
      "  genome (use suppressWarnings() to suppress this warning).”\n",
      "Warning message:\n",
      "“ggrepel: 573 unlabeled data points (too many overlaps). Consider increasing max.overlaps”\n",
      "Warning message:\n",
      "“ggrepel: 30 unlabeled data points (too many overlaps). Consider increasing max.overlaps”\n",
      "Using whole genome as background in the statistical analysis....  \n",
      "\n",
      "\n"
     ]
    },
    {
     "name": "stdout",
     "output_type": "stream",
     "text": [
      "\n",
      "\n"
     ]
    },
    {
     "name": "stderr",
     "output_type": "stream",
     "text": [
      "Using all known SNPs as background in the statistical analysis....  \n",
      "\n",
      "\n",
      "Warning message in .merge_two_Seqinfo_objects(x, y):\n",
      "“Each of the 2 combined objects has sequence levels not in the other:\n",
      "  - in 'x': chrX\n",
      "  - in 'y': chr21\n",
      "  Make sure to always combine/compare objects based on the same reference\n",
      "  genome (use suppressWarnings() to suppress this warning).”\n",
      "Warning message:\n",
      "“ggrepel: 573 unlabeled data points (too many overlaps). Consider increasing max.overlaps”\n",
      "Warning message:\n",
      "“ggrepel: 30 unlabeled data points (too many overlaps). Consider increasing max.overlaps”\n",
      "Using whole genome as background in the statistical analysis....  \n",
      "\n",
      "\n"
     ]
    },
    {
     "name": "stdout",
     "output_type": "stream",
     "text": [
      "\n",
      "\n"
     ]
    },
    {
     "name": "stderr",
     "output_type": "stream",
     "text": [
      "Using all known SNPs as background in the statistical analysis....  \n",
      "\n",
      "\n",
      "Warning message in .merge_two_Seqinfo_objects(x, y):\n",
      "“Each of the 2 combined objects has sequence levels not in the other:\n",
      "  - in 'x': chrX\n",
      "  - in 'y': chr21\n",
      "  Make sure to always combine/compare objects based on the same reference\n",
      "  genome (use suppressWarnings() to suppress this warning).”\n",
      "Warning message:\n",
      "“ggrepel: 571 unlabeled data points (too many overlaps). Consider increasing max.overlaps”\n",
      "Warning message:\n",
      "“ggrepel: 27 unlabeled data points (too many overlaps). Consider increasing max.overlaps”\n",
      "Using whole genome as background in the statistical analysis....  \n",
      "\n",
      "\n"
     ]
    },
    {
     "name": "stdout",
     "output_type": "stream",
     "text": [
      "\n",
      "\n"
     ]
    },
    {
     "name": "stderr",
     "output_type": "stream",
     "text": [
      "Using all known SNPs as background in the statistical analysis....  \n",
      "\n",
      "\n",
      "Warning message in .merge_two_Seqinfo_objects(x, y):\n",
      "“Each of the 2 combined objects has sequence levels not in the other:\n",
      "  - in 'x': chrX\n",
      "  - in 'y': chr21\n",
      "  Make sure to always combine/compare objects based on the same reference\n",
      "  genome (use suppressWarnings() to suppress this warning).”\n",
      "Warning message:\n",
      "“ggrepel: 570 unlabeled data points (too many overlaps). Consider increasing max.overlaps”\n",
      "Warning message:\n",
      "“ggrepel: 27 unlabeled data points (too many overlaps). Consider increasing max.overlaps”\n",
      "Using whole genome as background in the statistical analysis....  \n",
      "\n",
      "\n"
     ]
    },
    {
     "name": "stdout",
     "output_type": "stream",
     "text": [
      "\n",
      "\n"
     ]
    },
    {
     "name": "stderr",
     "output_type": "stream",
     "text": [
      "Using all known SNPs as background in the statistical analysis....  \n",
      "\n",
      "\n",
      "Warning message in .merge_two_Seqinfo_objects(x, y):\n",
      "“Each of the 2 combined objects has sequence levels not in the other:\n",
      "  - in 'x': chrX\n",
      "  - in 'y': chr21\n",
      "  Make sure to always combine/compare objects based on the same reference\n",
      "  genome (use suppressWarnings() to suppress this warning).”\n",
      "Warning message:\n",
      "“ggrepel: 571 unlabeled data points (too many overlaps). Consider increasing max.overlaps”\n",
      "Warning message:\n",
      "“ggrepel: 27 unlabeled data points (too many overlaps). Consider increasing max.overlaps”\n",
      "Using whole genome as background in the statistical analysis....  \n",
      "\n",
      "\n"
     ]
    },
    {
     "name": "stdout",
     "output_type": "stream",
     "text": [
      "\n",
      "\n"
     ]
    },
    {
     "name": "stderr",
     "output_type": "stream",
     "text": [
      "Using all known SNPs as background in the statistical analysis....  \n",
      "\n",
      "\n",
      "Warning message in .merge_two_Seqinfo_objects(x, y):\n",
      "“Each of the 2 combined objects has sequence levels not in the other:\n",
      "  - in 'x': chrX\n",
      "  - in 'y': chr21\n",
      "  Make sure to always combine/compare objects based on the same reference\n",
      "  genome (use suppressWarnings() to suppress this warning).”\n",
      "Warning message:\n",
      "“ggrepel: 571 unlabeled data points (too many overlaps). Consider increasing max.overlaps”\n",
      "Warning message:\n",
      "“ggrepel: 27 unlabeled data points (too many overlaps). Consider increasing max.overlaps”\n",
      "Using whole genome as background in the statistical analysis....  \n",
      "\n",
      "\n"
     ]
    },
    {
     "name": "stdout",
     "output_type": "stream",
     "text": [
      "\n",
      "\n"
     ]
    },
    {
     "name": "stderr",
     "output_type": "stream",
     "text": [
      "Using all known SNPs as background in the statistical analysis....  \n",
      "\n",
      "\n",
      "Warning message in .merge_two_Seqinfo_objects(x, y):\n",
      "“Each of the 2 combined objects has sequence levels not in the other:\n",
      "  - in 'x': chrX\n",
      "  - in 'y': chr21\n",
      "  Make sure to always combine/compare objects based on the same reference\n",
      "  genome (use suppressWarnings() to suppress this warning).”\n",
      "Warning message:\n",
      "“ggrepel: 571 unlabeled data points (too many overlaps). Consider increasing max.overlaps”\n",
      "Warning message:\n",
      "“ggrepel: 27 unlabeled data points (too many overlaps). Consider increasing max.overlaps”\n",
      "Using whole genome as background in the statistical analysis....  \n",
      "\n",
      "\n"
     ]
    },
    {
     "name": "stdout",
     "output_type": "stream",
     "text": [
      "\n",
      "\n"
     ]
    },
    {
     "name": "stderr",
     "output_type": "stream",
     "text": [
      "Using all known SNPs as background in the statistical analysis....  \n",
      "\n",
      "\n",
      "Warning message in .merge_two_Seqinfo_objects(x, y):\n",
      "“Each of the 2 combined objects has sequence levels not in the other:\n",
      "  - in 'x': chrX\n",
      "  - in 'y': chr21\n",
      "  Make sure to always combine/compare objects based on the same reference\n",
      "  genome (use suppressWarnings() to suppress this warning).”\n",
      "Warning message:\n",
      "“ggrepel: 571 unlabeled data points (too many overlaps). Consider increasing max.overlaps”\n",
      "Warning message:\n",
      "“ggrepel: 27 unlabeled data points (too many overlaps). Consider increasing max.overlaps”\n",
      "Using whole genome as background in the statistical analysis....  \n",
      "\n",
      "\n"
     ]
    },
    {
     "name": "stdout",
     "output_type": "stream",
     "text": [
      "\n",
      "\n"
     ]
    },
    {
     "name": "stderr",
     "output_type": "stream",
     "text": [
      "Using all known SNPs as background in the statistical analysis....  \n",
      "\n",
      "\n",
      "Warning message in .merge_two_Seqinfo_objects(x, y):\n",
      "“Each of the 2 combined objects has sequence levels not in the other:\n",
      "  - in 'x': chrX\n",
      "  - in 'y': chr21\n",
      "  Make sure to always combine/compare objects based on the same reference\n",
      "  genome (use suppressWarnings() to suppress this warning).”\n",
      "Warning message:\n",
      "“ggrepel: 571 unlabeled data points (too many overlaps). Consider increasing max.overlaps”\n",
      "Warning message:\n",
      "“ggrepel: 27 unlabeled data points (too many overlaps). Consider increasing max.overlaps”\n",
      "Using whole genome as background in the statistical analysis....  \n",
      "\n",
      "\n"
     ]
    },
    {
     "name": "stdout",
     "output_type": "stream",
     "text": [
      "\n",
      "\n"
     ]
    },
    {
     "name": "stderr",
     "output_type": "stream",
     "text": [
      "Using all known SNPs as background in the statistical analysis....  \n",
      "\n",
      "\n",
      "Warning message in .merge_two_Seqinfo_objects(x, y):\n",
      "“Each of the 2 combined objects has sequence levels not in the other:\n",
      "  - in 'x': chrX\n",
      "  - in 'y': chr21\n",
      "  Make sure to always combine/compare objects based on the same reference\n",
      "  genome (use suppressWarnings() to suppress this warning).”\n",
      "Warning message:\n",
      "“ggrepel: 571 unlabeled data points (too many overlaps). Consider increasing max.overlaps”\n",
      "Warning message:\n",
      "“ggrepel: 27 unlabeled data points (too many overlaps). Consider increasing max.overlaps”\n",
      "Using whole genome as background in the statistical analysis....  \n",
      "\n",
      "\n"
     ]
    },
    {
     "name": "stdout",
     "output_type": "stream",
     "text": [
      "\n",
      "\n"
     ]
    },
    {
     "name": "stderr",
     "output_type": "stream",
     "text": [
      "Using all known SNPs as background in the statistical analysis....  \n",
      "\n",
      "\n",
      "Warning message in .merge_two_Seqinfo_objects(x, y):\n",
      "“Each of the 2 combined objects has sequence levels not in the other:\n",
      "  - in 'x': chrX\n",
      "  - in 'y': chr21\n",
      "  Make sure to always combine/compare objects based on the same reference\n",
      "  genome (use suppressWarnings() to suppress this warning).”\n",
      "Warning message:\n",
      "“ggrepel: 571 unlabeled data points (too many overlaps). Consider increasing max.overlaps”\n",
      "Warning message:\n",
      "“ggrepel: 27 unlabeled data points (too many overlaps). Consider increasing max.overlaps”\n",
      "Using whole genome as background in the statistical analysis....  \n",
      "\n",
      "\n"
     ]
    },
    {
     "name": "stdout",
     "output_type": "stream",
     "text": [
      "\n",
      "\n"
     ]
    },
    {
     "name": "stderr",
     "output_type": "stream",
     "text": [
      "Using all known SNPs as background in the statistical analysis....  \n",
      "\n",
      "\n",
      "Warning message:\n",
      "“ggrepel: 573 unlabeled data points (too many overlaps). Consider increasing max.overlaps”\n",
      "Warning message:\n",
      "“ggrepel: 29 unlabeled data points (too many overlaps). Consider increasing max.overlaps”\n",
      "Using whole genome as background in the statistical analysis....  \n",
      "\n",
      "\n"
     ]
    },
    {
     "name": "stdout",
     "output_type": "stream",
     "text": [
      "\n",
      "\n"
     ]
    },
    {
     "name": "stderr",
     "output_type": "stream",
     "text": [
      "Using all known SNPs as background in the statistical analysis....  \n",
      "\n",
      "\n",
      "Warning message:\n",
      "“ggrepel: 573 unlabeled data points (too many overlaps). Consider increasing max.overlaps”\n",
      "Warning message:\n",
      "“ggrepel: 29 unlabeled data points (too many overlaps). Consider increasing max.overlaps”\n",
      "Using whole genome as background in the statistical analysis....  \n",
      "\n",
      "\n"
     ]
    },
    {
     "name": "stdout",
     "output_type": "stream",
     "text": [
      "\n",
      "\n"
     ]
    },
    {
     "name": "stderr",
     "output_type": "stream",
     "text": [
      "Using all known SNPs as background in the statistical analysis....  \n",
      "\n",
      "\n",
      "Warning message:\n",
      "“ggrepel: 572 unlabeled data points (too many overlaps). Consider increasing max.overlaps”\n",
      "Warning message:\n",
      "“ggrepel: 23 unlabeled data points (too many overlaps). Consider increasing max.overlaps”\n",
      "Using whole genome as background in the statistical analysis....  \n",
      "\n",
      "\n"
     ]
    },
    {
     "name": "stdout",
     "output_type": "stream",
     "text": [
      "\n",
      "\n"
     ]
    },
    {
     "name": "stderr",
     "output_type": "stream",
     "text": [
      "Using all known SNPs as background in the statistical analysis....  \n",
      "\n",
      "\n",
      "Warning message:\n",
      "“ggrepel: 571 unlabeled data points (too many overlaps). Consider increasing max.overlaps”\n",
      "Warning message:\n",
      "“ggrepel: 24 unlabeled data points (too many overlaps). Consider increasing max.overlaps”\n",
      "Using whole genome as background in the statistical analysis....  \n",
      "\n",
      "\n"
     ]
    },
    {
     "name": "stdout",
     "output_type": "stream",
     "text": [
      "\n",
      "\n"
     ]
    },
    {
     "name": "stderr",
     "output_type": "stream",
     "text": [
      "Using all known SNPs as background in the statistical analysis....  \n",
      "\n",
      "\n",
      "Warning message:\n",
      "“ggrepel: 571 unlabeled data points (too many overlaps). Consider increasing max.overlaps”\n",
      "Warning message:\n",
      "“ggrepel: 27 unlabeled data points (too many overlaps). Consider increasing max.overlaps”\n",
      "Using whole genome as background in the statistical analysis....  \n",
      "\n",
      "\n"
     ]
    },
    {
     "name": "stdout",
     "output_type": "stream",
     "text": [
      "\n",
      "\n"
     ]
    },
    {
     "name": "stderr",
     "output_type": "stream",
     "text": [
      "Using all known SNPs as background in the statistical analysis....  \n",
      "\n",
      "\n",
      "Warning message:\n",
      "“ggrepel: 571 unlabeled data points (too many overlaps). Consider increasing max.overlaps”\n",
      "Warning message:\n",
      "“ggrepel: 27 unlabeled data points (too many overlaps). Consider increasing max.overlaps”\n",
      "Using whole genome as background in the statistical analysis....  \n",
      "\n",
      "\n"
     ]
    },
    {
     "name": "stdout",
     "output_type": "stream",
     "text": [
      "\n",
      "\n"
     ]
    },
    {
     "name": "stderr",
     "output_type": "stream",
     "text": [
      "Using all known SNPs as background in the statistical analysis....  \n",
      "\n",
      "\n",
      "Warning message:\n",
      "“ggrepel: 571 unlabeled data points (too many overlaps). Consider increasing max.overlaps”\n",
      "Warning message:\n",
      "“ggrepel: 24 unlabeled data points (too many overlaps). Consider increasing max.overlaps”\n",
      "Using whole genome as background in the statistical analysis....  \n",
      "\n",
      "\n"
     ]
    },
    {
     "name": "stdout",
     "output_type": "stream",
     "text": [
      "\n",
      "\n"
     ]
    },
    {
     "name": "stderr",
     "output_type": "stream",
     "text": [
      "Using all known SNPs as background in the statistical analysis....  \n",
      "\n",
      "\n",
      "Warning message:\n",
      "“ggrepel: 571 unlabeled data points (too many overlaps). Consider increasing max.overlaps”\n",
      "Warning message:\n",
      "“ggrepel: 23 unlabeled data points (too many overlaps). Consider increasing max.overlaps”\n",
      "Using whole genome as background in the statistical analysis....  \n",
      "\n",
      "\n"
     ]
    },
    {
     "name": "stdout",
     "output_type": "stream",
     "text": [
      "\n",
      "\n"
     ]
    },
    {
     "name": "stderr",
     "output_type": "stream",
     "text": [
      "Using all known SNPs as background in the statistical analysis....  \n",
      "\n",
      "\n",
      "Warning message:\n",
      "“ggrepel: 569 unlabeled data points (too many overlaps). Consider increasing max.overlaps”\n",
      "Warning message:\n",
      "“ggrepel: 23 unlabeled data points (too many overlaps). Consider increasing max.overlaps”\n",
      "Using whole genome as background in the statistical analysis....  \n",
      "\n",
      "\n"
     ]
    },
    {
     "name": "stdout",
     "output_type": "stream",
     "text": [
      "\n",
      "\n"
     ]
    },
    {
     "name": "stderr",
     "output_type": "stream",
     "text": [
      "Using all known SNPs as background in the statistical analysis....  \n",
      "\n",
      "\n",
      "Warning message:\n",
      "“ggrepel: 570 unlabeled data points (too many overlaps). Consider increasing max.overlaps”\n",
      "Warning message:\n",
      "“ggrepel: 23 unlabeled data points (too many overlaps). Consider increasing max.overlaps”\n",
      "Using whole genome as background in the statistical analysis....  \n",
      "\n",
      "\n"
     ]
    },
    {
     "name": "stdout",
     "output_type": "stream",
     "text": [
      "\n",
      "\n"
     ]
    },
    {
     "name": "stderr",
     "output_type": "stream",
     "text": [
      "Using all known SNPs as background in the statistical analysis....  \n",
      "\n",
      "\n",
      "Warning message:\n",
      "“ggrepel: 569 unlabeled data points (too many overlaps). Consider increasing max.overlaps”\n",
      "Warning message:\n",
      "“ggrepel: 23 unlabeled data points (too many overlaps). Consider increasing max.overlaps”\n",
      "Using whole genome as background in the statistical analysis....  \n",
      "\n",
      "\n"
     ]
    },
    {
     "name": "stdout",
     "output_type": "stream",
     "text": [
      "\n",
      "\n"
     ]
    },
    {
     "name": "stderr",
     "output_type": "stream",
     "text": [
      "Using all known SNPs as background in the statistical analysis....  \n",
      "\n",
      "\n",
      "Warning message:\n",
      "“ggrepel: 573 unlabeled data points (too many overlaps). Consider increasing max.overlaps”\n",
      "Warning message:\n",
      "“ggrepel: 30 unlabeled data points (too many overlaps). Consider increasing max.overlaps”\n",
      "Using whole genome as background in the statistical analysis....  \n",
      "\n",
      "\n"
     ]
    },
    {
     "name": "stdout",
     "output_type": "stream",
     "text": [
      "\n",
      "\n"
     ]
    },
    {
     "name": "stderr",
     "output_type": "stream",
     "text": [
      "Using all known SNPs as background in the statistical analysis....  \n",
      "\n",
      "\n",
      "Warning message:\n",
      "“ggrepel: 573 unlabeled data points (too many overlaps). Consider increasing max.overlaps”\n",
      "Warning message:\n",
      "“ggrepel: 30 unlabeled data points (too many overlaps). Consider increasing max.overlaps”\n",
      "Using whole genome as background in the statistical analysis....  \n",
      "\n",
      "\n"
     ]
    },
    {
     "name": "stdout",
     "output_type": "stream",
     "text": [
      "\n",
      "\n"
     ]
    },
    {
     "name": "stderr",
     "output_type": "stream",
     "text": [
      "Using all known SNPs as background in the statistical analysis....  \n",
      "\n",
      "\n",
      "Warning message:\n",
      "“ggrepel: 573 unlabeled data points (too many overlaps). Consider increasing max.overlaps”\n",
      "Warning message:\n",
      "“ggrepel: 30 unlabeled data points (too many overlaps). Consider increasing max.overlaps”\n",
      "Using whole genome as background in the statistical analysis....  \n",
      "\n",
      "\n"
     ]
    },
    {
     "name": "stdout",
     "output_type": "stream",
     "text": [
      "\n",
      "\n"
     ]
    },
    {
     "name": "stderr",
     "output_type": "stream",
     "text": [
      "Using all known SNPs as background in the statistical analysis....  \n",
      "\n",
      "\n",
      "Warning message:\n",
      "“ggrepel: 573 unlabeled data points (too many overlaps). Consider increasing max.overlaps”\n",
      "Warning message:\n",
      "“ggrepel: 30 unlabeled data points (too many overlaps). Consider increasing max.overlaps”\n",
      "Using whole genome as background in the statistical analysis....  \n",
      "\n",
      "\n"
     ]
    },
    {
     "name": "stdout",
     "output_type": "stream",
     "text": [
      "\n",
      "\n"
     ]
    },
    {
     "name": "stderr",
     "output_type": "stream",
     "text": [
      "Using all known SNPs as background in the statistical analysis....  \n",
      "\n",
      "\n",
      "Warning message:\n",
      "“ggrepel: 573 unlabeled data points (too many overlaps). Consider increasing max.overlaps”\n",
      "Warning message:\n",
      "“ggrepel: 29 unlabeled data points (too many overlaps). Consider increasing max.overlaps”\n",
      "Using whole genome as background in the statistical analysis....  \n",
      "\n",
      "\n"
     ]
    },
    {
     "name": "stdout",
     "output_type": "stream",
     "text": [
      "\n",
      "\n"
     ]
    },
    {
     "name": "stderr",
     "output_type": "stream",
     "text": [
      "Using all known SNPs as background in the statistical analysis....  \n",
      "\n",
      "\n",
      "Warning message:\n",
      "“ggrepel: 573 unlabeled data points (too many overlaps). Consider increasing max.overlaps”\n",
      "Warning message:\n",
      "“ggrepel: 29 unlabeled data points (too many overlaps). Consider increasing max.overlaps”\n",
      "Using whole genome as background in the statistical analysis....  \n",
      "\n",
      "\n"
     ]
    },
    {
     "name": "stdout",
     "output_type": "stream",
     "text": [
      "\n",
      "\n"
     ]
    },
    {
     "name": "stderr",
     "output_type": "stream",
     "text": [
      "Using all known SNPs as background in the statistical analysis....  \n",
      "\n",
      "\n",
      "Warning message:\n",
      "“ggrepel: 573 unlabeled data points (too many overlaps). Consider increasing max.overlaps”\n",
      "Warning message:\n",
      "“ggrepel: 29 unlabeled data points (too many overlaps). Consider increasing max.overlaps”\n",
      "Using whole genome as background in the statistical analysis....  \n",
      "\n",
      "\n"
     ]
    },
    {
     "name": "stdout",
     "output_type": "stream",
     "text": [
      "\n",
      "\n"
     ]
    },
    {
     "name": "stderr",
     "output_type": "stream",
     "text": [
      "Using all known SNPs as background in the statistical analysis....  \n",
      "\n",
      "\n",
      "Warning message:\n",
      "“ggrepel: 573 unlabeled data points (too many overlaps). Consider increasing max.overlaps”\n",
      "Warning message:\n",
      "“ggrepel: 29 unlabeled data points (too many overlaps). Consider increasing max.overlaps”\n",
      "Using whole genome as background in the statistical analysis....  \n",
      "\n",
      "\n"
     ]
    },
    {
     "name": "stdout",
     "output_type": "stream",
     "text": [
      "\n",
      "\n"
     ]
    },
    {
     "name": "stderr",
     "output_type": "stream",
     "text": [
      "Using all known SNPs as background in the statistical analysis....  \n",
      "\n",
      "\n",
      "Warning message:\n",
      "“ggrepel: 572 unlabeled data points (too many overlaps). Consider increasing max.overlaps”\n",
      "Warning message:\n",
      "“ggrepel: 28 unlabeled data points (too many overlaps). Consider increasing max.overlaps”\n",
      "Using whole genome as background in the statistical analysis....  \n",
      "\n",
      "\n"
     ]
    },
    {
     "name": "stdout",
     "output_type": "stream",
     "text": [
      "\n",
      "\n"
     ]
    },
    {
     "name": "stderr",
     "output_type": "stream",
     "text": [
      "Using all known SNPs as background in the statistical analysis....  \n",
      "\n",
      "\n",
      "Warning message:\n",
      "“ggrepel: 572 unlabeled data points (too many overlaps). Consider increasing max.overlaps”\n",
      "Warning message:\n",
      "“ggrepel: 28 unlabeled data points (too many overlaps). Consider increasing max.overlaps”\n",
      "Using whole genome as background in the statistical analysis....  \n",
      "\n",
      "\n"
     ]
    },
    {
     "name": "stdout",
     "output_type": "stream",
     "text": [
      "\n",
      "\n"
     ]
    },
    {
     "name": "stderr",
     "output_type": "stream",
     "text": [
      "Using all known SNPs as background in the statistical analysis....  \n",
      "\n",
      "\n",
      "Warning message:\n",
      "“ggrepel: 572 unlabeled data points (too many overlaps). Consider increasing max.overlaps”\n",
      "Warning message:\n",
      "“ggrepel: 29 unlabeled data points (too many overlaps). Consider increasing max.overlaps”\n",
      "Using whole genome as background in the statistical analysis....  \n",
      "\n",
      "\n"
     ]
    },
    {
     "name": "stdout",
     "output_type": "stream",
     "text": [
      "\n",
      "\n"
     ]
    },
    {
     "name": "stderr",
     "output_type": "stream",
     "text": [
      "Using all known SNPs as background in the statistical analysis....  \n",
      "\n",
      "\n",
      "Warning message:\n",
      "“ggrepel: 572 unlabeled data points (too many overlaps). Consider increasing max.overlaps”\n",
      "Warning message:\n",
      "“ggrepel: 28 unlabeled data points (too many overlaps). Consider increasing max.overlaps”\n",
      "Using whole genome as background in the statistical analysis....  \n",
      "\n",
      "\n"
     ]
    },
    {
     "name": "stdout",
     "output_type": "stream",
     "text": [
      "\n",
      "\n"
     ]
    },
    {
     "name": "stderr",
     "output_type": "stream",
     "text": [
      "Using all known SNPs as background in the statistical analysis....  \n",
      "\n",
      "\n",
      "Warning message:\n",
      "“ggrepel: 572 unlabeled data points (too many overlaps). Consider increasing max.overlaps”\n",
      "Warning message:\n",
      "“ggrepel: 28 unlabeled data points (too many overlaps). Consider increasing max.overlaps”\n",
      "Using whole genome as background in the statistical analysis....  \n",
      "\n",
      "\n"
     ]
    },
    {
     "name": "stdout",
     "output_type": "stream",
     "text": [
      "\n",
      "\n"
     ]
    },
    {
     "name": "stderr",
     "output_type": "stream",
     "text": [
      "Using all known SNPs as background in the statistical analysis....  \n",
      "\n",
      "\n",
      "Warning message:\n",
      "“ggrepel: 572 unlabeled data points (too many overlaps). Consider increasing max.overlaps”\n",
      "Warning message:\n",
      "“ggrepel: 26 unlabeled data points (too many overlaps). Consider increasing max.overlaps”\n",
      "Using whole genome as background in the statistical analysis....  \n",
      "\n",
      "\n"
     ]
    },
    {
     "name": "stdout",
     "output_type": "stream",
     "text": [
      "\n",
      "\n"
     ]
    },
    {
     "name": "stderr",
     "output_type": "stream",
     "text": [
      "Using all known SNPs as background in the statistical analysis....  \n",
      "\n",
      "\n",
      "Warning message:\n",
      "“ggrepel: 572 unlabeled data points (too many overlaps). Consider increasing max.overlaps”\n",
      "Warning message:\n",
      "“ggrepel: 26 unlabeled data points (too many overlaps). Consider increasing max.overlaps”\n",
      "Using whole genome as background in the statistical analysis....  \n",
      "\n",
      "\n"
     ]
    },
    {
     "name": "stdout",
     "output_type": "stream",
     "text": [
      "\n",
      "\n"
     ]
    },
    {
     "name": "stderr",
     "output_type": "stream",
     "text": [
      "Using all known SNPs as background in the statistical analysis....  \n",
      "\n",
      "\n",
      "Warning message:\n",
      "“ggrepel: 572 unlabeled data points (too many overlaps). Consider increasing max.overlaps”\n",
      "Warning message:\n",
      "“ggrepel: 26 unlabeled data points (too many overlaps). Consider increasing max.overlaps”\n",
      "Using whole genome as background in the statistical analysis....  \n",
      "\n",
      "\n"
     ]
    },
    {
     "name": "stdout",
     "output_type": "stream",
     "text": [
      "\n",
      "\n"
     ]
    },
    {
     "name": "stderr",
     "output_type": "stream",
     "text": [
      "Using all known SNPs as background in the statistical analysis....  \n",
      "\n",
      "\n",
      "Warning message:\n",
      "“ggrepel: 572 unlabeled data points (too many overlaps). Consider increasing max.overlaps”\n",
      "Warning message:\n",
      "“ggrepel: 26 unlabeled data points (too many overlaps). Consider increasing max.overlaps”\n",
      "Using whole genome as background in the statistical analysis....  \n",
      "\n",
      "\n"
     ]
    },
    {
     "name": "stdout",
     "output_type": "stream",
     "text": [
      "\n",
      "\n"
     ]
    },
    {
     "name": "stderr",
     "output_type": "stream",
     "text": [
      "Using all known SNPs as background in the statistical analysis....  \n",
      "\n",
      "\n",
      "Warning message:\n",
      "“ggrepel: 572 unlabeled data points (too many overlaps). Consider increasing max.overlaps”\n",
      "Warning message:\n",
      "“ggrepel: 27 unlabeled data points (too many overlaps). Consider increasing max.overlaps”\n",
      "Using whole genome as background in the statistical analysis....  \n",
      "\n",
      "\n"
     ]
    },
    {
     "name": "stdout",
     "output_type": "stream",
     "text": [
      "\n",
      "\n"
     ]
    },
    {
     "name": "stderr",
     "output_type": "stream",
     "text": [
      "Using all known SNPs as background in the statistical analysis....  \n",
      "\n",
      "\n",
      "Warning message:\n",
      "“ggrepel: 572 unlabeled data points (too many overlaps). Consider increasing max.overlaps”\n",
      "Warning message:\n",
      "“ggrepel: 27 unlabeled data points (too many overlaps). Consider increasing max.overlaps”\n",
      "Using whole genome as background in the statistical analysis....  \n",
      "\n",
      "\n"
     ]
    },
    {
     "name": "stdout",
     "output_type": "stream",
     "text": [
      "\n",
      "\n"
     ]
    },
    {
     "name": "stderr",
     "output_type": "stream",
     "text": [
      "Using all known SNPs as background in the statistical analysis....  \n",
      "\n",
      "\n",
      "Warning message:\n",
      "“ggrepel: 572 unlabeled data points (too many overlaps). Consider increasing max.overlaps”\n",
      "Warning message:\n",
      "“ggrepel: 28 unlabeled data points (too many overlaps). Consider increasing max.overlaps”\n",
      "Using whole genome as background in the statistical analysis....  \n",
      "\n",
      "\n"
     ]
    },
    {
     "name": "stdout",
     "output_type": "stream",
     "text": [
      "\n",
      "\n"
     ]
    },
    {
     "name": "stderr",
     "output_type": "stream",
     "text": [
      "Using all known SNPs as background in the statistical analysis....  \n",
      "\n",
      "\n",
      "Warning message:\n",
      "“ggrepel: 572 unlabeled data points (too many overlaps). Consider increasing max.overlaps”\n",
      "Warning message:\n",
      "“ggrepel: 28 unlabeled data points (too many overlaps). Consider increasing max.overlaps”\n",
      "Using whole genome as background in the statistical analysis....  \n",
      "\n",
      "\n"
     ]
    },
    {
     "name": "stdout",
     "output_type": "stream",
     "text": [
      "\n",
      "\n"
     ]
    },
    {
     "name": "stderr",
     "output_type": "stream",
     "text": [
      "Using all known SNPs as background in the statistical analysis....  \n",
      "\n",
      "\n",
      "Warning message:\n",
      "“ggrepel: 572 unlabeled data points (too many overlaps). Consider increasing max.overlaps”\n",
      "Warning message:\n",
      "“ggrepel: 28 unlabeled data points (too many overlaps). Consider increasing max.overlaps”\n",
      "Using whole genome as background in the statistical analysis....  \n",
      "\n",
      "\n"
     ]
    },
    {
     "name": "stdout",
     "output_type": "stream",
     "text": [
      "No SNP overlap found for 0 bp expansion. Skipping...\n"
     ]
    },
    {
     "name": "stderr",
     "output_type": "stream",
     "text": [
      "Using whole genome as background in the statistical analysis....  \n",
      "\n",
      "\n"
     ]
    },
    {
     "name": "stdout",
     "output_type": "stream",
     "text": [
      "\n",
      "\n"
     ]
    },
    {
     "name": "stderr",
     "output_type": "stream",
     "text": [
      "Using all known SNPs as background in the statistical analysis....  \n",
      "\n",
      "\n",
      "Warning message:\n",
      "“ggrepel: 573 unlabeled data points (too many overlaps). Consider increasing max.overlaps”\n",
      "Warning message:\n",
      "“ggrepel: 30 unlabeled data points (too many overlaps). Consider increasing max.overlaps”\n",
      "Using whole genome as background in the statistical analysis....  \n",
      "\n",
      "\n"
     ]
    },
    {
     "name": "stdout",
     "output_type": "stream",
     "text": [
      "\n",
      "\n"
     ]
    },
    {
     "name": "stderr",
     "output_type": "stream",
     "text": [
      "Using all known SNPs as background in the statistical analysis....  \n",
      "\n",
      "\n",
      "Warning message:\n",
      "“ggrepel: 570 unlabeled data points (too many overlaps). Consider increasing max.overlaps”\n",
      "Warning message:\n",
      "“ggrepel: 30 unlabeled data points (too many overlaps). Consider increasing max.overlaps”\n",
      "Using whole genome as background in the statistical analysis....  \n",
      "\n",
      "\n"
     ]
    },
    {
     "name": "stdout",
     "output_type": "stream",
     "text": [
      "\n",
      "\n"
     ]
    },
    {
     "name": "stderr",
     "output_type": "stream",
     "text": [
      "Using all known SNPs as background in the statistical analysis....  \n",
      "\n",
      "\n",
      "Warning message:\n",
      "“ggrepel: 573 unlabeled data points (too many overlaps). Consider increasing max.overlaps”\n",
      "Warning message:\n",
      "“ggrepel: 30 unlabeled data points (too many overlaps). Consider increasing max.overlaps”\n",
      "Using whole genome as background in the statistical analysis....  \n",
      "\n",
      "\n"
     ]
    },
    {
     "name": "stdout",
     "output_type": "stream",
     "text": [
      "\n",
      "\n"
     ]
    },
    {
     "name": "stderr",
     "output_type": "stream",
     "text": [
      "Using all known SNPs as background in the statistical analysis....  \n",
      "\n",
      "\n",
      "Warning message:\n",
      "“ggrepel: 573 unlabeled data points (too many overlaps). Consider increasing max.overlaps”\n",
      "Warning message:\n",
      "“ggrepel: 30 unlabeled data points (too many overlaps). Consider increasing max.overlaps”\n",
      "Using whole genome as background in the statistical analysis....  \n",
      "\n",
      "\n"
     ]
    },
    {
     "name": "stdout",
     "output_type": "stream",
     "text": [
      "\n",
      "\n"
     ]
    },
    {
     "name": "stderr",
     "output_type": "stream",
     "text": [
      "Using all known SNPs as background in the statistical analysis....  \n",
      "\n",
      "\n",
      "Warning message:\n",
      "“ggrepel: 572 unlabeled data points (too many overlaps). Consider increasing max.overlaps”\n",
      "Warning message:\n",
      "“ggrepel: 30 unlabeled data points (too many overlaps). Consider increasing max.overlaps”\n",
      "Using whole genome as background in the statistical analysis....  \n",
      "\n",
      "\n"
     ]
    },
    {
     "name": "stdout",
     "output_type": "stream",
     "text": [
      "\n",
      "\n"
     ]
    },
    {
     "name": "stderr",
     "output_type": "stream",
     "text": [
      "Using all known SNPs as background in the statistical analysis....  \n",
      "\n",
      "\n",
      "Warning message:\n",
      "“ggrepel: 572 unlabeled data points (too many overlaps). Consider increasing max.overlaps”\n",
      "Warning message:\n",
      "“ggrepel: 30 unlabeled data points (too many overlaps). Consider increasing max.overlaps”\n",
      "Using whole genome as background in the statistical analysis....  \n",
      "\n",
      "\n"
     ]
    },
    {
     "name": "stdout",
     "output_type": "stream",
     "text": [
      "\n",
      "\n"
     ]
    },
    {
     "name": "stderr",
     "output_type": "stream",
     "text": [
      "Using all known SNPs as background in the statistical analysis....  \n",
      "\n",
      "\n",
      "Warning message:\n",
      "“ggrepel: 572 unlabeled data points (too many overlaps). Consider increasing max.overlaps”\n",
      "Warning message:\n",
      "“ggrepel: 30 unlabeled data points (too many overlaps). Consider increasing max.overlaps”\n",
      "Using whole genome as background in the statistical analysis....  \n",
      "\n",
      "\n"
     ]
    },
    {
     "name": "stdout",
     "output_type": "stream",
     "text": [
      "\n",
      "\n"
     ]
    },
    {
     "name": "stderr",
     "output_type": "stream",
     "text": [
      "Using all known SNPs as background in the statistical analysis....  \n",
      "\n",
      "\n",
      "Warning message:\n",
      "“ggrepel: 571 unlabeled data points (too many overlaps). Consider increasing max.overlaps”\n",
      "Warning message:\n",
      "“ggrepel: 30 unlabeled data points (too many overlaps). Consider increasing max.overlaps”\n",
      "Using whole genome as background in the statistical analysis....  \n",
      "\n",
      "\n"
     ]
    },
    {
     "name": "stdout",
     "output_type": "stream",
     "text": [
      "\n",
      "\n"
     ]
    },
    {
     "name": "stderr",
     "output_type": "stream",
     "text": [
      "Using all known SNPs as background in the statistical analysis....  \n",
      "\n",
      "\n",
      "Warning message:\n",
      "“ggrepel: 570 unlabeled data points (too many overlaps). Consider increasing max.overlaps”\n",
      "Warning message:\n",
      "“ggrepel: 28 unlabeled data points (too many overlaps). Consider increasing max.overlaps”\n",
      "Using whole genome as background in the statistical analysis....  \n",
      "\n",
      "\n"
     ]
    },
    {
     "name": "stdout",
     "output_type": "stream",
     "text": [
      "\n",
      "\n"
     ]
    },
    {
     "name": "stderr",
     "output_type": "stream",
     "text": [
      "Using all known SNPs as background in the statistical analysis....  \n",
      "\n",
      "\n",
      "Warning message:\n",
      "“ggrepel: 570 unlabeled data points (too many overlaps). Consider increasing max.overlaps”\n",
      "Warning message:\n",
      "“ggrepel: 28 unlabeled data points (too many overlaps). Consider increasing max.overlaps”\n",
      "Using whole genome as background in the statistical analysis....  \n",
      "\n",
      "\n"
     ]
    },
    {
     "name": "stdout",
     "output_type": "stream",
     "text": [
      "No SNP overlap found for 0 bp expansion. Skipping...\n"
     ]
    },
    {
     "name": "stderr",
     "output_type": "stream",
     "text": [
      "Using whole genome as background in the statistical analysis....  \n",
      "\n",
      "\n"
     ]
    },
    {
     "name": "stdout",
     "output_type": "stream",
     "text": [
      "No SNP overlap found for 50 bp expansion. Skipping...\n"
     ]
    },
    {
     "name": "stderr",
     "output_type": "stream",
     "text": [
      "Using whole genome as background in the statistical analysis....  \n",
      "\n",
      "\n"
     ]
    },
    {
     "name": "stdout",
     "output_type": "stream",
     "text": [
      "No SNP overlap found for 100 bp expansion. Skipping...\n"
     ]
    },
    {
     "name": "stderr",
     "output_type": "stream",
     "text": [
      "Using whole genome as background in the statistical analysis....  \n",
      "\n",
      "\n"
     ]
    },
    {
     "name": "stdout",
     "output_type": "stream",
     "text": [
      "No SNP overlap found for 150 bp expansion. Skipping...\n"
     ]
    },
    {
     "name": "stderr",
     "output_type": "stream",
     "text": [
      "Using whole genome as background in the statistical analysis....  \n",
      "\n",
      "\n"
     ]
    },
    {
     "name": "stdout",
     "output_type": "stream",
     "text": [
      "\n",
      "\n"
     ]
    },
    {
     "name": "stderr",
     "output_type": "stream",
     "text": [
      "Using all known SNPs as background in the statistical analysis....  \n",
      "\n",
      "\n",
      "Warning message in .merge_two_Seqinfo_objects(x, y):\n",
      "“Each of the 2 combined objects has sequence levels not in the other:\n",
      "  - in 'x': chrX\n",
      "  - in 'y': chr8, chr11, chr13, chr15, chr16, chr19, chr21, chr22\n",
      "  Make sure to always combine/compare objects based on the same reference\n",
      "  genome (use suppressWarnings() to suppress this warning).”\n",
      "Warning message:\n",
      "“ggrepel: 573 unlabeled data points (too many overlaps). Consider increasing max.overlaps”\n",
      "Warning message:\n",
      "“ggrepel: 30 unlabeled data points (too many overlaps). Consider increasing max.overlaps”\n",
      "Using whole genome as background in the statistical analysis....  \n",
      "\n",
      "\n"
     ]
    },
    {
     "name": "stdout",
     "output_type": "stream",
     "text": [
      "\n",
      "\n"
     ]
    },
    {
     "name": "stderr",
     "output_type": "stream",
     "text": [
      "Using all known SNPs as background in the statistical analysis....  \n",
      "\n",
      "\n",
      "Warning message in .merge_two_Seqinfo_objects(x, y):\n",
      "“Each of the 2 combined objects has sequence levels not in the other:\n",
      "  - in 'x': chrX\n",
      "  - in 'y': chr8, chr11, chr13, chr15, chr16, chr19, chr21, chr22\n",
      "  Make sure to always combine/compare objects based on the same reference\n",
      "  genome (use suppressWarnings() to suppress this warning).”\n",
      "Warning message:\n",
      "“ggrepel: 573 unlabeled data points (too many overlaps). Consider increasing max.overlaps”\n",
      "Warning message:\n",
      "“ggrepel: 30 unlabeled data points (too many overlaps). Consider increasing max.overlaps”\n",
      "Using whole genome as background in the statistical analysis....  \n",
      "\n",
      "\n"
     ]
    },
    {
     "name": "stdout",
     "output_type": "stream",
     "text": [
      "\n",
      "\n"
     ]
    },
    {
     "name": "stderr",
     "output_type": "stream",
     "text": [
      "Using all known SNPs as background in the statistical analysis....  \n",
      "\n",
      "\n",
      "Warning message in .merge_two_Seqinfo_objects(x, y):\n",
      "“Each of the 2 combined objects has sequence levels not in the other:\n",
      "  - in 'x': chrX\n",
      "  - in 'y': chr8, chr11, chr13, chr15, chr16, chr19, chr21, chr22\n",
      "  Make sure to always combine/compare objects based on the same reference\n",
      "  genome (use suppressWarnings() to suppress this warning).”\n",
      "Warning message:\n",
      "“ggrepel: 573 unlabeled data points (too many overlaps). Consider increasing max.overlaps”\n",
      "Warning message:\n",
      "“ggrepel: 30 unlabeled data points (too many overlaps). Consider increasing max.overlaps”\n",
      "Using whole genome as background in the statistical analysis....  \n",
      "\n",
      "\n"
     ]
    },
    {
     "name": "stdout",
     "output_type": "stream",
     "text": [
      "\n",
      "\n"
     ]
    },
    {
     "name": "stderr",
     "output_type": "stream",
     "text": [
      "Using all known SNPs as background in the statistical analysis....  \n",
      "\n",
      "\n",
      "Warning message in .merge_two_Seqinfo_objects(x, y):\n",
      "“Each of the 2 combined objects has sequence levels not in the other:\n",
      "  - in 'x': chrX\n",
      "  - in 'y': chr8, chr11, chr13, chr15, chr16, chr19, chr21, chr22\n",
      "  Make sure to always combine/compare objects based on the same reference\n",
      "  genome (use suppressWarnings() to suppress this warning).”\n",
      "Warning message:\n",
      "“ggrepel: 573 unlabeled data points (too many overlaps). Consider increasing max.overlaps”\n",
      "Warning message:\n",
      "“ggrepel: 30 unlabeled data points (too many overlaps). Consider increasing max.overlaps”\n",
      "Using whole genome as background in the statistical analysis....  \n",
      "\n",
      "\n"
     ]
    },
    {
     "name": "stdout",
     "output_type": "stream",
     "text": [
      "\n",
      "\n"
     ]
    },
    {
     "name": "stderr",
     "output_type": "stream",
     "text": [
      "Using all known SNPs as background in the statistical analysis....  \n",
      "\n",
      "\n",
      "Warning message in .merge_two_Seqinfo_objects(x, y):\n",
      "“Each of the 2 combined objects has sequence levels not in the other:\n",
      "  - in 'x': chrX\n",
      "  - in 'y': chr8, chr11, chr13, chr15, chr16, chr19, chr21, chr22\n",
      "  Make sure to always combine/compare objects based on the same reference\n",
      "  genome (use suppressWarnings() to suppress this warning).”\n",
      "Warning message:\n",
      "“ggrepel: 573 unlabeled data points (too many overlaps). Consider increasing max.overlaps”\n",
      "Warning message:\n",
      "“ggrepel: 30 unlabeled data points (too many overlaps). Consider increasing max.overlaps”\n",
      "Using whole genome as background in the statistical analysis....  \n",
      "\n",
      "\n"
     ]
    },
    {
     "name": "stdout",
     "output_type": "stream",
     "text": [
      "\n",
      "\n"
     ]
    },
    {
     "name": "stderr",
     "output_type": "stream",
     "text": [
      "Using all known SNPs as background in the statistical analysis....  \n",
      "\n",
      "\n",
      "Warning message in .merge_two_Seqinfo_objects(x, y):\n",
      "“Each of the 2 combined objects has sequence levels not in the other:\n",
      "  - in 'x': chrX\n",
      "  - in 'y': chr8, chr11, chr13, chr15, chr16, chr19, chr21, chr22\n",
      "  Make sure to always combine/compare objects based on the same reference\n",
      "  genome (use suppressWarnings() to suppress this warning).”\n",
      "Warning message:\n",
      "“ggrepel: 573 unlabeled data points (too many overlaps). Consider increasing max.overlaps”\n",
      "Warning message:\n",
      "“ggrepel: 30 unlabeled data points (too many overlaps). Consider increasing max.overlaps”\n",
      "Using whole genome as background in the statistical analysis....  \n",
      "\n",
      "\n"
     ]
    },
    {
     "name": "stdout",
     "output_type": "stream",
     "text": [
      "\n",
      "\n"
     ]
    },
    {
     "name": "stderr",
     "output_type": "stream",
     "text": [
      "Using all known SNPs as background in the statistical analysis....  \n",
      "\n",
      "\n",
      "Warning message in .merge_two_Seqinfo_objects(x, y):\n",
      "“Each of the 2 combined objects has sequence levels not in the other:\n",
      "  - in 'x': chrX\n",
      "  - in 'y': chr8, chr11, chr13, chr15, chr16, chr19, chr21, chr22\n",
      "  Make sure to always combine/compare objects based on the same reference\n",
      "  genome (use suppressWarnings() to suppress this warning).”\n",
      "Warning message:\n",
      "“ggrepel: 573 unlabeled data points (too many overlaps). Consider increasing max.overlaps”\n",
      "Warning message:\n",
      "“ggrepel: 30 unlabeled data points (too many overlaps). Consider increasing max.overlaps”\n",
      "Using whole genome as background in the statistical analysis....  \n",
      "\n",
      "\n"
     ]
    },
    {
     "name": "stdout",
     "output_type": "stream",
     "text": [
      "No SNP overlap found for 0 bp expansion. Skipping...\n"
     ]
    },
    {
     "name": "stderr",
     "output_type": "stream",
     "text": [
      "Using whole genome as background in the statistical analysis....  \n",
      "\n",
      "\n"
     ]
    },
    {
     "name": "stdout",
     "output_type": "stream",
     "text": [
      "\n",
      "\n"
     ]
    },
    {
     "name": "stderr",
     "output_type": "stream",
     "text": [
      "Using all known SNPs as background in the statistical analysis....  \n",
      "\n",
      "\n",
      "Warning message in .merge_two_Seqinfo_objects(x, y):\n",
      "“Each of the 2 combined objects has sequence levels not in the other:\n",
      "  - in 'x': chrX\n",
      "  - in 'y': chr13\n",
      "  Make sure to always combine/compare objects based on the same reference\n",
      "  genome (use suppressWarnings() to suppress this warning).”\n",
      "Warning message:\n",
      "“ggrepel: 572 unlabeled data points (too many overlaps). Consider increasing max.overlaps”\n",
      "Warning message:\n",
      "“ggrepel: 27 unlabeled data points (too many overlaps). Consider increasing max.overlaps”\n",
      "Using whole genome as background in the statistical analysis....  \n",
      "\n",
      "\n"
     ]
    },
    {
     "name": "stdout",
     "output_type": "stream",
     "text": [
      "\n",
      "\n"
     ]
    },
    {
     "name": "stderr",
     "output_type": "stream",
     "text": [
      "Using all known SNPs as background in the statistical analysis....  \n",
      "\n",
      "\n",
      "Warning message in .merge_two_Seqinfo_objects(x, y):\n",
      "“Each of the 2 combined objects has sequence levels not in the other:\n",
      "  - in 'x': chrX\n",
      "  - in 'y': chr13\n",
      "  Make sure to always combine/compare objects based on the same reference\n",
      "  genome (use suppressWarnings() to suppress this warning).”\n",
      "Warning message:\n",
      "“ggrepel: 572 unlabeled data points (too many overlaps). Consider increasing max.overlaps”\n",
      "Warning message:\n",
      "“ggrepel: 26 unlabeled data points (too many overlaps). Consider increasing max.overlaps”\n",
      "Using whole genome as background in the statistical analysis....  \n",
      "\n",
      "\n"
     ]
    },
    {
     "name": "stdout",
     "output_type": "stream",
     "text": [
      "\n",
      "\n"
     ]
    },
    {
     "name": "stderr",
     "output_type": "stream",
     "text": [
      "Using all known SNPs as background in the statistical analysis....  \n",
      "\n",
      "\n",
      "Warning message in .merge_two_Seqinfo_objects(x, y):\n",
      "“Each of the 2 combined objects has sequence levels not in the other:\n",
      "  - in 'x': chrX\n",
      "  - in 'y': chr13\n",
      "  Make sure to always combine/compare objects based on the same reference\n",
      "  genome (use suppressWarnings() to suppress this warning).”\n",
      "Warning message:\n",
      "“ggrepel: 571 unlabeled data points (too many overlaps). Consider increasing max.overlaps”\n",
      "Warning message:\n",
      "“ggrepel: 26 unlabeled data points (too many overlaps). Consider increasing max.overlaps”\n",
      "Using whole genome as background in the statistical analysis....  \n",
      "\n",
      "\n"
     ]
    },
    {
     "name": "stdout",
     "output_type": "stream",
     "text": [
      "\n",
      "\n"
     ]
    },
    {
     "name": "stderr",
     "output_type": "stream",
     "text": [
      "Using all known SNPs as background in the statistical analysis....  \n",
      "\n",
      "\n",
      "Warning message in .merge_two_Seqinfo_objects(x, y):\n",
      "“Each of the 2 combined objects has sequence levels not in the other:\n",
      "  - in 'x': chrX\n",
      "  - in 'y': chr13\n",
      "  Make sure to always combine/compare objects based on the same reference\n",
      "  genome (use suppressWarnings() to suppress this warning).”\n",
      "Warning message:\n",
      "“ggrepel: 571 unlabeled data points (too many overlaps). Consider increasing max.overlaps”\n",
      "Warning message:\n",
      "“ggrepel: 26 unlabeled data points (too many overlaps). Consider increasing max.overlaps”\n",
      "Using whole genome as background in the statistical analysis....  \n",
      "\n",
      "\n"
     ]
    },
    {
     "name": "stdout",
     "output_type": "stream",
     "text": [
      "\n",
      "\n"
     ]
    },
    {
     "name": "stderr",
     "output_type": "stream",
     "text": [
      "Using all known SNPs as background in the statistical analysis....  \n",
      "\n",
      "\n",
      "Warning message in .merge_two_Seqinfo_objects(x, y):\n",
      "“Each of the 2 combined objects has sequence levels not in the other:\n",
      "  - in 'x': chrX\n",
      "  - in 'y': chr13\n",
      "  Make sure to always combine/compare objects based on the same reference\n",
      "  genome (use suppressWarnings() to suppress this warning).”\n",
      "Warning message:\n",
      "“ggrepel: 571 unlabeled data points (too many overlaps). Consider increasing max.overlaps”\n",
      "Warning message:\n",
      "“ggrepel: 26 unlabeled data points (too many overlaps). Consider increasing max.overlaps”\n",
      "Using whole genome as background in the statistical analysis....  \n",
      "\n",
      "\n"
     ]
    },
    {
     "name": "stdout",
     "output_type": "stream",
     "text": [
      "\n",
      "\n"
     ]
    },
    {
     "name": "stderr",
     "output_type": "stream",
     "text": [
      "Using all known SNPs as background in the statistical analysis....  \n",
      "\n",
      "\n",
      "Warning message in .merge_two_Seqinfo_objects(x, y):\n",
      "“Each of the 2 combined objects has sequence levels not in the other:\n",
      "  - in 'x': chrX\n",
      "  - in 'y': chr13\n",
      "  Make sure to always combine/compare objects based on the same reference\n",
      "  genome (use suppressWarnings() to suppress this warning).”\n",
      "Warning message:\n",
      "“ggrepel: 570 unlabeled data points (too many overlaps). Consider increasing max.overlaps”\n",
      "Warning message:\n",
      "“ggrepel: 26 unlabeled data points (too many overlaps). Consider increasing max.overlaps”\n",
      "Using whole genome as background in the statistical analysis....  \n",
      "\n",
      "\n"
     ]
    },
    {
     "name": "stdout",
     "output_type": "stream",
     "text": [
      "\n",
      "\n"
     ]
    },
    {
     "name": "stderr",
     "output_type": "stream",
     "text": [
      "Using all known SNPs as background in the statistical analysis....  \n",
      "\n",
      "\n",
      "Warning message in .merge_two_Seqinfo_objects(x, y):\n",
      "“Each of the 2 combined objects has sequence levels not in the other:\n",
      "  - in 'x': chrX\n",
      "  - in 'y': chr13\n",
      "  Make sure to always combine/compare objects based on the same reference\n",
      "  genome (use suppressWarnings() to suppress this warning).”\n",
      "Warning message:\n",
      "“ggrepel: 570 unlabeled data points (too many overlaps). Consider increasing max.overlaps”\n",
      "Warning message:\n",
      "“ggrepel: 26 unlabeled data points (too many overlaps). Consider increasing max.overlaps”\n",
      "Using whole genome as background in the statistical analysis....  \n",
      "\n",
      "\n"
     ]
    },
    {
     "name": "stdout",
     "output_type": "stream",
     "text": [
      "\n",
      "\n"
     ]
    },
    {
     "name": "stderr",
     "output_type": "stream",
     "text": [
      "Using all known SNPs as background in the statistical analysis....  \n",
      "\n",
      "\n",
      "Warning message in .merge_two_Seqinfo_objects(x, y):\n",
      "“Each of the 2 combined objects has sequence levels not in the other:\n",
      "  - in 'x': chrX\n",
      "  - in 'y': chr13\n",
      "  Make sure to always combine/compare objects based on the same reference\n",
      "  genome (use suppressWarnings() to suppress this warning).”\n",
      "Warning message:\n",
      "“ggrepel: 570 unlabeled data points (too many overlaps). Consider increasing max.overlaps”\n",
      "Warning message:\n",
      "“ggrepel: 26 unlabeled data points (too many overlaps). Consider increasing max.overlaps”\n",
      "Using whole genome as background in the statistical analysis....  \n",
      "\n",
      "\n"
     ]
    },
    {
     "name": "stdout",
     "output_type": "stream",
     "text": [
      "\n",
      "\n"
     ]
    },
    {
     "name": "stderr",
     "output_type": "stream",
     "text": [
      "Using all known SNPs as background in the statistical analysis....  \n",
      "\n",
      "\n",
      "Warning message in .merge_two_Seqinfo_objects(x, y):\n",
      "“Each of the 2 combined objects has sequence levels not in the other:\n",
      "  - in 'x': chrX\n",
      "  - in 'y': chr13\n",
      "  Make sure to always combine/compare objects based on the same reference\n",
      "  genome (use suppressWarnings() to suppress this warning).”\n",
      "Warning message:\n",
      "“ggrepel: 570 unlabeled data points (too many overlaps). Consider increasing max.overlaps”\n",
      "Warning message:\n",
      "“ggrepel: 26 unlabeled data points (too many overlaps). Consider increasing max.overlaps”\n",
      "Using whole genome as background in the statistical analysis....  \n",
      "\n",
      "\n"
     ]
    },
    {
     "name": "stdout",
     "output_type": "stream",
     "text": [
      "\n",
      "\n"
     ]
    },
    {
     "name": "stderr",
     "output_type": "stream",
     "text": [
      "Using all known SNPs as background in the statistical analysis....  \n",
      "\n",
      "\n",
      "Warning message in .merge_two_Seqinfo_objects(x, y):\n",
      "“Each of the 2 combined objects has sequence levels not in the other:\n",
      "  - in 'x': chrX\n",
      "  - in 'y': chr13\n",
      "  Make sure to always combine/compare objects based on the same reference\n",
      "  genome (use suppressWarnings() to suppress this warning).”\n",
      "Warning message:\n",
      "“ggrepel: 570 unlabeled data points (too many overlaps). Consider increasing max.overlaps”\n",
      "Warning message:\n",
      "“ggrepel: 26 unlabeled data points (too many overlaps). Consider increasing max.overlaps”\n"
     ]
    }
   ],
   "source": [
    "res_DA <- prepare_cell_type_specific_eGRNs_and_do_SNP_analysis_w_DA_regions(global_eGRN_object = Zhu_et_al_Pando_w_eGRNs, DA_regions = da_peaks_all_sig, cell_type_names = unique(Zhu_et_al_Pando_w_eGRNs@data$cell_type), taSNPLD = taSNPLD)"
   ]
  },
  {
   "cell_type": "code",
   "execution_count": 70,
   "id": "d141331f-597f-4db9-a61a-e88cebbc6bc0",
   "metadata": {},
   "outputs": [],
   "source": [
    "source(here::here('r_scripts', 'helper_functions_for_SNP_analysis.r'))"
   ]
  },
  {
   "cell_type": "code",
   "execution_count": null,
   "id": "bc4b2093-48a6-4740-a82d-72ea487f8def",
   "metadata": {},
   "outputs": [
    {
     "name": "stderr",
     "output_type": "stream",
     "text": [
      "Found 362 TF modules\n",
      "\n"
     ]
    },
    {
     "name": "stdout",
     "output_type": "stream",
     "text": [
      " Network attributes:\n",
      "  vertices = 1730 \n",
      "  directed = TRUE \n",
      "  hyper = FALSE \n",
      "  loops = FALSE \n",
      "  multiple = FALSE \n",
      "  bipartite = FALSE \n",
      "  total edges= 4888 \n",
      "    missing edges= 0 \n",
      "    non-missing edges= 4888 \n",
      "\n",
      " Vertex attribute names: \n",
      "    vertex.names \n",
      "\n",
      " Edge attribute names not shown \n"
     ]
    },
    {
     "name": "stderr",
     "output_type": "stream",
     "text": [
      "Found 349 TF modules\n",
      "\n"
     ]
    },
    {
     "name": "stdout",
     "output_type": "stream",
     "text": [
      " Network attributes:\n",
      "  vertices = 1574 \n",
      "  directed = TRUE \n",
      "  hyper = FALSE \n",
      "  loops = FALSE \n",
      "  multiple = FALSE \n",
      "  bipartite = FALSE \n",
      "  total edges= 3939 \n",
      "    missing edges= 0 \n",
      "    non-missing edges= 3939 \n",
      "\n",
      " Vertex attribute names: \n",
      "    vertex.names \n",
      "\n",
      " Edge attribute names not shown \n"
     ]
    },
    {
     "name": "stderr",
     "output_type": "stream",
     "text": [
      "Found 202 TF modules\n",
      "\n"
     ]
    },
    {
     "name": "stdout",
     "output_type": "stream",
     "text": [
      " Network attributes:\n",
      "  vertices = 519 \n",
      "  directed = TRUE \n",
      "  hyper = FALSE \n",
      "  loops = FALSE \n",
      "  multiple = FALSE \n",
      "  bipartite = FALSE \n",
      "  total edges= 610 \n",
      "    missing edges= 0 \n",
      "    non-missing edges= 610 \n",
      "\n",
      " Vertex attribute names: \n",
      "    vertex.names \n",
      "\n",
      "No edge attributes\n"
     ]
    },
    {
     "name": "stderr",
     "output_type": "stream",
     "text": [
      "Found 189 TF modules\n",
      "\n"
     ]
    },
    {
     "name": "stdout",
     "output_type": "stream",
     "text": [
      " Network attributes:\n",
      "  vertices = 389 \n",
      "  directed = TRUE \n",
      "  hyper = FALSE \n",
      "  loops = FALSE \n",
      "  multiple = FALSE \n",
      "  bipartite = FALSE \n",
      "  total edges= 433 \n",
      "    missing edges= 0 \n",
      "    non-missing edges= 433 \n",
      "\n",
      " Vertex attribute names: \n",
      "    vertex.names \n",
      "\n",
      "No edge attributes\n"
     ]
    }
   ],
   "source": [
    "res_min_5 <- prepare_cell_type_specific_eGRNs_and_do_SNP_analysis(global_eGRN_object = Zhu_et_al_Pando_w_eGRNs, \n",
    "                                                                   min_cells = 5, \n",
    "                                                                   main_identity = 'cell_type',\n",
    "                                                                   cell_type_names = unique(Zhu_et_al_Pando_w_eGRNs@data$cell_type), \n",
    "                                                                   taSNPLD = taSNPLD)"
   ]
  },
  {
   "cell_type": "code",
   "execution_count": 1,
   "id": "132473df-d991-4230-8b4c-d6609d72f06b",
   "metadata": {},
   "outputs": [],
   "source": [
    "# It saved all of the outputs and then the session crashed. \n",
    "# I could not print the sessioninfo()."
   ]
  },
  {
   "cell_type": "code",
   "execution_count": null,
   "id": "29d96863-1599-4d98-b618-67c5da0f2a6d",
   "metadata": {},
   "outputs": [],
   "source": []
  }
 ],
 "metadata": {
  "kernelspec": {
   "display_name": "R",
   "language": "R",
   "name": "ir"
  },
  "language_info": {
   "codemirror_mode": "r",
   "file_extension": ".r",
   "mimetype": "text/x-r-source",
   "name": "R",
   "pygments_lexer": "r",
   "version": "4.4.1"
  }
 },
 "nbformat": 4,
 "nbformat_minor": 5
}
